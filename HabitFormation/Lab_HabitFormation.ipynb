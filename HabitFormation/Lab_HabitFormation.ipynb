{
  "nbformat": 4,
  "nbformat_minor": 0,
  "metadata": {
    "colab": {
      "provenance": [],
      "authorship_tag": "ABX9TyPf8Q9gHzA2kxzwHzuQmO2Q",
      "include_colab_link": true
    },
    "kernelspec": {
      "name": "ir",
      "display_name": "R"
    },
    "language_info": {
      "name": "R"
    }
  },
  "cells": [
    {
      "cell_type": "markdown",
      "metadata": {
        "id": "view-in-github",
        "colab_type": "text"
      },
      "source": [
        "<a href=\"https://colab.research.google.com/github/fabian-fuentes/DSGE/blob/main/HabitFormation/Lab_HabitFormation.ipynb\" target=\"_parent\"><img src=\"https://colab.research.google.com/assets/colab-badge.svg\" alt=\"Open In Colab\"/></a>"
      ]
    },
    {
      "cell_type": "markdown",
      "source": [
        "# Habit formation analysis\n"
      ],
      "metadata": {
        "id": "VUFAOZLpWxT9"
      }
    },
    {
      "cell_type": "code",
      "source": [
        "# install packages\n",
        "install.packages('nleqslv')\n",
        "install.packages('Rcpp')\n",
        "install.packages('reshape2')\n",
        "install.packages(\"https://gecon.r-forge.r-project.org/files/gEcon_1.2.3.tar.gz\", repos = NULL, type = \"source\")"
      ],
      "metadata": {
        "id": "aSKxXxUG98Bw",
        "colab": {
          "base_uri": "https://localhost:8080/"
        },
        "outputId": "4106b871-d6b2-41f1-c5e3-330d25f9b794"
      },
      "execution_count": 1,
      "outputs": [
        {
          "output_type": "stream",
          "name": "stderr",
          "text": [
            "Installing package into ‘/usr/local/lib/R/site-library’\n",
            "(as ‘lib’ is unspecified)\n",
            "\n",
            "Installing package into ‘/usr/local/lib/R/site-library’\n",
            "(as ‘lib’ is unspecified)\n",
            "\n",
            "Installing package into ‘/usr/local/lib/R/site-library’\n",
            "(as ‘lib’ is unspecified)\n",
            "\n",
            "Installing package into ‘/usr/local/lib/R/site-library’\n",
            "(as ‘lib’ is unspecified)\n",
            "\n"
          ]
        }
      ]
    },
    {
      "cell_type": "code",
      "source": [
        "library(nleqslv)\n",
        "library(Rcpp)\n",
        "library(gEcon)"
      ],
      "metadata": {
        "colab": {
          "base_uri": "https://localhost:8080/"
        },
        "id": "9CxoRGIy95KI",
        "outputId": "5d52e9cc-f092-4436-a1a9-627ae66550b4"
      },
      "execution_count": 2,
      "outputs": [
        {
          "output_type": "stream",
          "name": "stderr",
          "text": [
            "Loading required package: MASS\n",
            "\n",
            "Loading required package: Matrix\n",
            "\n",
            "This is gEcon version 1.2.3 (2025-04-13)\n",
            "http://gecon.r-forge.r-project.org/\n",
            "\n"
          ]
        }
      ]
    },
    {
      "cell_type": "code",
      "source": [
        "download.file(\"https://raw.githubusercontent.com/fabian-fuentes/DSGE/main/HabitFormation/hf_chapter3.gcn\",\n",
        "              destfile = \"hf_chapter3.gcn\", mode = \"wb\")"
      ],
      "metadata": {
        "id": "0J9MgQItX5O2"
      },
      "execution_count": 3,
      "outputs": []
    },
    {
      "cell_type": "code",
      "source": [
        "#create a model from gcc.file\n",
        "model <- make_model(\"hf_chapter3.gcn\")"
      ],
      "metadata": {
        "colab": {
          "base_uri": "https://localhost:8080/"
        },
        "id": "245mktO1W6iL",
        "outputId": "49a87759-103a-4e7c-b8de-4f130d0fa0f6"
      },
      "execution_count": 4,
      "outputs": [
        {
          "output_type": "stream",
          "name": "stdout",
          "text": [
            "model parsed in 0.02s\n",
            "model loaded in 0.09s\n"
          ]
        }
      ]
    },
    {
      "cell_type": "code",
      "source": [
        "#set parameter values\n",
        "\n",
        "#set initial conditions\n",
        "  model <- initval_var(model, list(K_s = 3.5,\n",
        "                                   C = 0.8,\n",
        "                                   L_s = 0.3 ,\n",
        "                                   I = 0.2,\n",
        "                                   Y = 1.0,\n",
        "                                   A = 1.0,\n",
        "                                   W=(1-0.350)*(1.0/0.3),\n",
        "                                   r=(0.350)*(1.0/3.5),\n",
        "                                   pi=1.0,\n",
        "                                   PI=1.0   ))"
      ],
      "metadata": {
        "colab": {
          "base_uri": "https://localhost:8080/"
        },
        "id": "brODSh2SYIFw",
        "outputId": "23624da2-53c7-419f-8d90-fffe3228bea7"
      },
      "execution_count": 5,
      "outputs": [
        {
          "output_type": "stream",
          "name": "stderr",
          "text": [
            "Warning message in initval_var(model, list(K_s = 3.5, C = 0.8, L_s = 0.3, I = 0.2, :\n",
            "“initial values of the following variables have not been set: \"lambda__CONSUMER_2\", \"U\"”\n"
          ]
        }
      ]
    },
    {
      "cell_type": "code",
      "source": [
        "#define steady state\n",
        " model <- steady_state(model)"
      ],
      "metadata": {
        "colab": {
          "base_uri": "https://localhost:8080/"
        },
        "id": "xw-CIQLMYNlO",
        "outputId": "e6f0ad7f-c16b-4df1-8c0a-ee0300598f9a"
      },
      "execution_count": 6,
      "outputs": [
        {
          "output_type": "stream",
          "name": "stderr",
          "text": [
            "Warning message in ss_prep(model, use_jac, calibration, last_solver_iter):\n",
            "“initial values for some variables have not been supplied (default value of 0.9 has been used).”\n"
          ]
        },
        {
          "output_type": "stream",
          "name": "stdout",
          "text": [
            "Steady state has been FOUND\n"
          ]
        }
      ]
    },
    {
      "cell_type": "code",
      "source": [
        "#Now to explore output data\n",
        " get_ss_values(model)\n",
        " get_par_values(model)"
      ],
      "metadata": {
        "colab": {
          "base_uri": "https://localhost:8080/"
        },
        "id": "TDI2EVF2YQ3J",
        "outputId": "5ce7f3dc-4987-40c4-cfab-c41c63ed37d5"
      },
      "execution_count": 7,
      "outputs": [
        {
          "output_type": "stream",
          "name": "stdout",
          "text": [
            "Steady-state values:\n",
            "\n",
            "                   Steady-state value\n",
            "lambda__CONSUMER_2             0.7286\n",
            "pi                             0.0000\n",
            "r                              0.0909\n",
            "A                              1.0000\n",
            "C                              0.6148\n",
            "I                              0.1846\n",
            "K_s                            3.0774\n",
            "L_s                            0.3869\n",
            "PI                             0.0000\n",
            "U                            -37.7293\n",
            "W                              1.3431\n",
            "Y                              0.7995\n",
            "Model parameters:\n",
            "\n",
            "      Value\n",
            "alpha  0.35\n",
            "beta   0.97\n",
            "delta  0.06\n",
            "gamma  0.40\n",
            "phi    0.80\n",
            "rho    0.95\n"
          ]
        }
      ]
    },
    {
      "cell_type": "code",
      "source": [
        "#Solving for dynamics\n",
        " model <- solve_pert(model)"
      ],
      "metadata": {
        "colab": {
          "base_uri": "https://localhost:8080/"
        },
        "id": "ssUp69AfYTnR",
        "outputId": "a600806c-cab5-4676-afab-7f789c2c25ad"
      },
      "execution_count": 8,
      "outputs": [
        {
          "output_type": "stream",
          "name": "stderr",
          "text": [
            "Warning message:\n",
            "“the following variables will not be log-linearised as their steady-state values are equal or close to zero: \"pi\", \"PI\"”\n"
          ]
        },
        {
          "output_type": "stream",
          "name": "stdout",
          "text": [
            "Model has been SOLVED\n"
          ]
        }
      ]
    },
    {
      "cell_type": "code",
      "source": [
        "#printing the results\n",
        " get_pert_solution(model)"
      ],
      "metadata": {
        "colab": {
          "base_uri": "https://localhost:8080/"
        },
        "id": "n_sY36bRYX9V",
        "outputId": "1b6b5010-5956-4f06-8a40-d7081fc19f16"
      },
      "execution_count": 9,
      "outputs": [
        {
          "output_type": "stream",
          "name": "stdout",
          "text": [
            "\n",
            "Matrix P:\n",
            "\n",
            "       A[-1]   C[-1] K_s[-1]\n",
            "A[]   0.9500  0.0000  0.0000\n",
            "C[]   0.1771  0.7464  0.1040\n",
            "K_s[] 0.2433 -0.0906  0.9481\n",
            "\n",
            "\n",
            "Matrix Q:\n",
            "\n",
            "    epsilon_A\n",
            "A      1.0000\n",
            "C      0.1864\n",
            "K_s    0.2561\n",
            "\n",
            "\n",
            "Matrix R:\n",
            "\n",
            "                       A[-1]   C[-1] K_s[-1]\n",
            "lambda__CONSUMER_2[] -0.7648  0.3402 -0.7103\n",
            "pi[]                  0.0000  0.0000  0.0000\n",
            "r[]                   1.0727  0.2254 -0.8887\n",
            "I[]                   4.0549 -1.5095  0.1353\n",
            "L_s[]                 0.1887  0.3468 -0.3673\n",
            "PI[]                  0.0000  0.0000  0.0000\n",
            "U[]                   0.1869 -0.0424  0.0613\n",
            "W[]                   0.8839 -0.1214  0.4786\n",
            "Y[]                   1.0727  0.2254  0.1113\n",
            "\n",
            "\n",
            "Matrix S:\n",
            "\n",
            "                   epsilon_A\n",
            "lambda__CONSUMER_2   -0.8051\n",
            "pi                    0.0000\n",
            "r                     1.1291\n",
            "I                     4.2683\n",
            "L_s                   0.1987\n",
            "PI                    0.0000\n",
            "U                     0.1967\n",
            "W                     0.9305\n",
            "Y                     1.1291\n"
          ]
        }
      ]
    },
    {
      "cell_type": "code",
      "source": [
        "#Introducing shocks\n",
        "  model <- set_shock_distr_par(model = model, distr_par = list(\"sd(epsilon_A)\" = 0.01))"
      ],
      "metadata": {
        "id": "ZqKNiy-EYc-o"
      },
      "execution_count": 10,
      "outputs": []
    },
    {
      "cell_type": "code",
      "source": [
        "#Print all results\n",
        "  model<- compute_model_stats(model)\n",
        "  get_model_stats(model)"
      ],
      "metadata": {
        "colab": {
          "base_uri": "https://localhost:8080/"
        },
        "id": "mI_aiwaOYfHl",
        "outputId": "fbb87bbd-536b-464f-b15b-e6d66d25b410"
      },
      "execution_count": 11,
      "outputs": [
        {
          "output_type": "stream",
          "name": "stdout",
          "text": [
            "Basic statistics:\n",
            "\n",
            "                   Steady-state value Std. dev. Variance Loglin\n",
            "lambda__CONSUMER_2             0.7286    0.0125    2e-04   Y   \n",
            "pi                             0.0000    0.0000    0e+00   N   \n",
            "r                              0.0909    0.0150    2e-04   Y   \n",
            "A                              1.0000    0.0130    2e-04   Y   \n",
            "C                              0.6148    0.0078    1e-04   Y   \n",
            "I                              0.1846    0.0544    3e-03   Y   \n",
            "K_s                            3.0774    0.0106    1e-04   Y   \n",
            "L_s                            0.3869    0.0026    0e+00   Y   \n",
            "PI                             0.0000    0.0000    0e+00   N   \n",
            "U                            -37.7293    0.0027    0e+00   Y   \n",
            "W                              1.3431    0.0137    2e-04   Y   \n",
            "Y                              0.7995    0.0156    2e-04   Y   \n",
            "\n",
            "Correlation matrix:\n",
            "\n",
            "                   lambda__CONSUMER_2      r      A      C      I    K_s    L_s\n",
            "lambda__CONSUMER_2                  1 -0.616 -0.926 -0.789 -0.839 -0.798 -0.662\n",
            "r                                          1  0.867      0  0.945  0.017  0.998\n",
            "A                                                 1  0.498  0.982  0.512  0.896\n",
            "C                                                        1  0.328      1  0.061\n",
            "I                                                               1  0.343  0.963\n",
            "K_s                                                                    1  0.077\n",
            "L_s                                                                           1\n",
            "U                                                                              \n",
            "W                                                                              \n",
            "Y                                                                              \n",
            "                        U      W      Y\n",
            "lambda__CONSUMER_2 -0.964 -0.996 -0.980\n",
            "r                   0.804  0.683  0.761\n",
            "A                   0.993  0.956  0.983\n",
            "C                   0.596  0.731  0.650\n",
            "I                   0.954  0.884  0.931\n",
            "K_s                 0.608  0.742  0.662\n",
            "L_s                 0.838  0.726  0.799\n",
            "U                       1  0.983  0.998\n",
            "W                              1  0.994\n",
            "Y                                 1.000\n",
            "\n",
            "Autocorrelations:\n",
            "\n",
            "                   Lag 1 Lag 2 Lag 3 Lag 4  Lag 5\n",
            "lambda__CONSUMER_2 0.812 0.623 0.442 0.275  0.126\n",
            "r                  0.678 0.418 0.211 0.051 -0.067\n",
            "A                  0.713 0.471 0.271 0.110 -0.016\n",
            "C                  0.952 0.840 0.687 0.514  0.336\n",
            "I                  0.686 0.429 0.224 0.063 -0.057\n",
            "K_s                0.951 0.837 0.682 0.508  0.329\n",
            "L_s                0.667 0.400 0.192 0.000  0.000\n",
            "U                  0.740 0.511 0.316 0.153  0.000\n",
            "W                  0.787 0.584 0.398 0.232  0.090\n",
            "Y                  0.755 0.535 0.344 0.180  0.045\n",
            "\n",
            "Variance decomposition:\n",
            "\n",
            "                   epsilon_A\n",
            "lambda__CONSUMER_2         1\n",
            "r                          1\n",
            "A                          1\n",
            "C                          1\n",
            "I                          1\n",
            "K_s                        1\n",
            "L_s                        1\n",
            "U                          1\n",
            "W                          1\n",
            "Y                          1\n"
          ]
        }
      ]
    },
    {
      "cell_type": "code",
      "source": [
        "#Compute Impulse Response Function (IRFs)\n",
        "  model_irf <- compute_irf(model = model, variables = c('C', 'K_s', 'A', 'Y', 'L_s', 'I'), sim_length = 40)"
      ],
      "metadata": {
        "id": "xYlf70IbYhWP"
      },
      "execution_count": 12,
      "outputs": []
    },
    {
      "cell_type": "code",
      "source": [
        "#Extract simulation values\n",
        "library(reshape2)\n",
        "\n",
        "  out <- as.data.frame.table(model_irf@sim)\n",
        "  out<-dcast(out,Var2  ~ Var1 , value.var=\"Freq\")\n",
        "  out$Case<-\"habit formation\""
      ],
      "metadata": {
        "id": "QJwmVy8bYjx6"
      },
      "execution_count": 13,
      "outputs": []
    },
    {
      "cell_type": "code",
      "source": [
        "#run another case\n",
        "  model1 <- set_free_par(model, list(phi = 0.0))\n",
        "  model1 <- initval_var(model1, list(K_s = 3.5, C = 0.8, L_s = 0.3 , I = 0.2, Y = 1.0, A = 0.5))\n",
        "  model1 <- steady_state(model1)\n",
        "  model1 <- set_shock_distr_par(model = model1, distr_par = list(\"sd(epsilon_A)\" = 0.01))\n",
        "  model1 <- solve_pert(model1)\n",
        "  model_irf1 <- compute_irf(model = model1, variables = c('C', 'K_s', 'A', 'Y', 'L_s', 'I'), sim_length = 40)\n",
        "  out1 <- as.data.frame.table(model_irf1@sim)\n",
        "  out1<-dcast(out1,Var2  ~ Var1 , value.var=\"Freq\")\n",
        "  out1$Case<-\"Cannonical Model\""
      ],
      "metadata": {
        "colab": {
          "base_uri": "https://localhost:8080/"
        },
        "id": "75KTEdqbYuoB",
        "outputId": "eefef74a-49fd-428e-cf84-614af0489edd"
      },
      "execution_count": 14,
      "outputs": [
        {
          "output_type": "stream",
          "name": "stderr",
          "text": [
            "Warning message in set_free_par(model, list(phi = 0)):\n",
            "“the values of the following parameters have been overwritten: \"phi\"”\n",
            "Warning message in initval_var(model1, list(K_s = 3.5, C = 0.8, L_s = 0.3, I = 0.2, :\n",
            "“initial values of the following variables have not been set: \"lambda__CONSUMER_2\", \"pi\", \"r\", \"PI\", \"U\", \"W\"”\n"
          ]
        },
        {
          "output_type": "stream",
          "name": "stdout",
          "text": [
            "Steady state has been FOUND\n"
          ]
        },
        {
          "output_type": "stream",
          "name": "stderr",
          "text": [
            "Warning message:\n",
            "“the following variables will not be log-linearised as their steady-state values are equal or close to zero: \"pi\", \"PI\"”\n"
          ]
        },
        {
          "output_type": "stream",
          "name": "stdout",
          "text": [
            "Model has been SOLVED\n"
          ]
        }
      ]
    },
    {
      "cell_type": "code",
      "source": [
        "#rbind\n",
        "  out<-rbind(out,out1)"
      ],
      "metadata": {
        "id": "mO61VJ2PYwZs"
      },
      "execution_count": 15,
      "outputs": []
    },
    {
      "cell_type": "code",
      "source": [
        "#print simulation\n",
        "  write.csv(out,\"out.csv\",row.names=FALSE)"
      ],
      "metadata": {
        "id": "FV82jz-AY19Y"
      },
      "execution_count": 16,
      "outputs": []
    },
    {
      "cell_type": "code",
      "source": [
        "#Now let's compare how the intensity of the productivy shock affects the model\n",
        "sdepsilon_Avector<-seq(0.5,1.5, by= 0.1)\n",
        "out_all <- list()"
      ],
      "metadata": {
        "id": "F83VAXb6Y8EP"
      },
      "execution_count": 17,
      "outputs": []
    },
    {
      "cell_type": "code",
      "source": [
        "for (i in 1:length(sdepsilon_Avector))\n",
        "{\n",
        "#i<-2\n",
        "#create a model from gcc.file\n",
        "  model <- make_model(\"hf_chapter3.gcn\")\n",
        "#set initial conditions\n",
        "  model <- initval_var(model, list(K_s = 3.5,\n",
        "                                   C = 0.8,\n",
        "                                   L_s = 0.3 ,\n",
        "                                   I = 0.2,\n",
        "                                   Y = 1.0,\n",
        "                                   A = 1.0,\n",
        "                                   W=(1-0.350)*(1.0/0.3),\n",
        "                                   r=(0.350)*(1.0/3.5),\n",
        "                                   pi=1.0,\n",
        "                                   PI=1.0   ))\n",
        "#define steady state\n",
        "  model <- steady_state(model)\n",
        "#Solving for dynamics\n",
        " model <- solve_pert(model)\n",
        "# Introduce Shock\n",
        " model <- set_shock_distr_par(model = model, distr_par = list(\"sd(epsilon_A)\" = sdepsilon_Avector[i]*0.01))\n",
        "#Compute Impulse Response Function (IRFs)\n",
        "  model_irf <- compute_irf(model = model, variables = c('C', 'K_s', 'A', 'Y', 'L_s', 'I'), sim_length = 40)\n",
        "#Extract simulation values\n",
        "  out <- as.data.frame.table(model_irf@sim)\n",
        "  out<-dcast(out,Var2  ~ Var1 , value.var=\"Freq\")\n",
        "  out$Case<-paste0(\"sd_epsilon_A = \",sdepsilon_Avector[i])\n",
        "#save ouput\n",
        " out_all <- append(out_all,list(out))\n",
        "}"
      ],
      "metadata": {
        "colab": {
          "base_uri": "https://localhost:8080/"
        },
        "id": "_60pcJGRY_qM",
        "outputId": "5a2a7f51-c9ce-4490-f1ec-f4a0de995c13"
      },
      "execution_count": 18,
      "outputs": [
        {
          "output_type": "stream",
          "name": "stdout",
          "text": [
            "model parsed in 0.01s\n",
            "model loaded in 0.02s\n"
          ]
        },
        {
          "output_type": "stream",
          "name": "stderr",
          "text": [
            "Warning message in initval_var(model, list(K_s = 3.5, C = 0.8, L_s = 0.3, I = 0.2, :\n",
            "“initial values of the following variables have not been set: \"lambda__CONSUMER_2\", \"U\"”\n",
            "Warning message in ss_prep(model, use_jac, calibration, last_solver_iter):\n",
            "“initial values for some variables have not been supplied (default value of 0.9 has been used).”\n"
          ]
        },
        {
          "output_type": "stream",
          "name": "stdout",
          "text": [
            "Steady state has been FOUND\n"
          ]
        },
        {
          "output_type": "stream",
          "name": "stderr",
          "text": [
            "Warning message:\n",
            "“the following variables will not be log-linearised as their steady-state values are equal or close to zero: \"pi\", \"PI\"”\n"
          ]
        },
        {
          "output_type": "stream",
          "name": "stdout",
          "text": [
            "Model has been SOLVED\n",
            "model parsed in 0.01s\n",
            "model loaded in 0.01s\n"
          ]
        },
        {
          "output_type": "stream",
          "name": "stderr",
          "text": [
            "Warning message in initval_var(model, list(K_s = 3.5, C = 0.8, L_s = 0.3, I = 0.2, :\n",
            "“initial values of the following variables have not been set: \"lambda__CONSUMER_2\", \"U\"”\n",
            "Warning message in ss_prep(model, use_jac, calibration, last_solver_iter):\n",
            "“initial values for some variables have not been supplied (default value of 0.9 has been used).”\n"
          ]
        },
        {
          "output_type": "stream",
          "name": "stdout",
          "text": [
            "Steady state has been FOUND\n"
          ]
        },
        {
          "output_type": "stream",
          "name": "stderr",
          "text": [
            "Warning message:\n",
            "“the following variables will not be log-linearised as their steady-state values are equal or close to zero: \"pi\", \"PI\"”\n"
          ]
        },
        {
          "output_type": "stream",
          "name": "stdout",
          "text": [
            "Model has been SOLVED\n",
            "model parsed in 0.01s\n",
            "model loaded in 0.01s\n"
          ]
        },
        {
          "output_type": "stream",
          "name": "stderr",
          "text": [
            "Warning message in initval_var(model, list(K_s = 3.5, C = 0.8, L_s = 0.3, I = 0.2, :\n",
            "“initial values of the following variables have not been set: \"lambda__CONSUMER_2\", \"U\"”\n",
            "Warning message in ss_prep(model, use_jac, calibration, last_solver_iter):\n",
            "“initial values for some variables have not been supplied (default value of 0.9 has been used).”\n"
          ]
        },
        {
          "output_type": "stream",
          "name": "stdout",
          "text": [
            "Steady state has been FOUND\n"
          ]
        },
        {
          "output_type": "stream",
          "name": "stderr",
          "text": [
            "Warning message:\n",
            "“the following variables will not be log-linearised as their steady-state values are equal or close to zero: \"pi\", \"PI\"”\n"
          ]
        },
        {
          "output_type": "stream",
          "name": "stdout",
          "text": [
            "Model has been SOLVED\n",
            "model parsed in 0.01s\n",
            "model loaded in 0.01s\n"
          ]
        },
        {
          "output_type": "stream",
          "name": "stderr",
          "text": [
            "Warning message in initval_var(model, list(K_s = 3.5, C = 0.8, L_s = 0.3, I = 0.2, :\n",
            "“initial values of the following variables have not been set: \"lambda__CONSUMER_2\", \"U\"”\n",
            "Warning message in ss_prep(model, use_jac, calibration, last_solver_iter):\n",
            "“initial values for some variables have not been supplied (default value of 0.9 has been used).”\n"
          ]
        },
        {
          "output_type": "stream",
          "name": "stdout",
          "text": [
            "Steady state has been FOUND\n"
          ]
        },
        {
          "output_type": "stream",
          "name": "stderr",
          "text": [
            "Warning message:\n",
            "“the following variables will not be log-linearised as their steady-state values are equal or close to zero: \"pi\", \"PI\"”\n"
          ]
        },
        {
          "output_type": "stream",
          "name": "stdout",
          "text": [
            "Model has been SOLVED\n",
            "model parsed in 0.01s\n",
            "model loaded in 0.01s\n"
          ]
        },
        {
          "output_type": "stream",
          "name": "stderr",
          "text": [
            "Warning message in initval_var(model, list(K_s = 3.5, C = 0.8, L_s = 0.3, I = 0.2, :\n",
            "“initial values of the following variables have not been set: \"lambda__CONSUMER_2\", \"U\"”\n",
            "Warning message in ss_prep(model, use_jac, calibration, last_solver_iter):\n",
            "“initial values for some variables have not been supplied (default value of 0.9 has been used).”\n"
          ]
        },
        {
          "output_type": "stream",
          "name": "stdout",
          "text": [
            "Steady state has been FOUND\n"
          ]
        },
        {
          "output_type": "stream",
          "name": "stderr",
          "text": [
            "Warning message:\n",
            "“the following variables will not be log-linearised as their steady-state values are equal or close to zero: \"pi\", \"PI\"”\n"
          ]
        },
        {
          "output_type": "stream",
          "name": "stdout",
          "text": [
            "Model has been SOLVED\n",
            "model parsed in 0.01s\n",
            "model loaded in 0.01s\n"
          ]
        },
        {
          "output_type": "stream",
          "name": "stderr",
          "text": [
            "Warning message in initval_var(model, list(K_s = 3.5, C = 0.8, L_s = 0.3, I = 0.2, :\n",
            "“initial values of the following variables have not been set: \"lambda__CONSUMER_2\", \"U\"”\n",
            "Warning message in ss_prep(model, use_jac, calibration, last_solver_iter):\n",
            "“initial values for some variables have not been supplied (default value of 0.9 has been used).”\n"
          ]
        },
        {
          "output_type": "stream",
          "name": "stdout",
          "text": [
            "Steady state has been FOUND\n"
          ]
        },
        {
          "output_type": "stream",
          "name": "stderr",
          "text": [
            "Warning message:\n",
            "“the following variables will not be log-linearised as their steady-state values are equal or close to zero: \"pi\", \"PI\"”\n"
          ]
        },
        {
          "output_type": "stream",
          "name": "stdout",
          "text": [
            "Model has been SOLVED\n",
            "model parsed in 0.01s\n",
            "model loaded in 0.01s\n"
          ]
        },
        {
          "output_type": "stream",
          "name": "stderr",
          "text": [
            "Warning message in initval_var(model, list(K_s = 3.5, C = 0.8, L_s = 0.3, I = 0.2, :\n",
            "“initial values of the following variables have not been set: \"lambda__CONSUMER_2\", \"U\"”\n",
            "Warning message in ss_prep(model, use_jac, calibration, last_solver_iter):\n",
            "“initial values for some variables have not been supplied (default value of 0.9 has been used).”\n"
          ]
        },
        {
          "output_type": "stream",
          "name": "stdout",
          "text": [
            "Steady state has been FOUND\n"
          ]
        },
        {
          "output_type": "stream",
          "name": "stderr",
          "text": [
            "Warning message:\n",
            "“the following variables will not be log-linearised as their steady-state values are equal or close to zero: \"pi\", \"PI\"”\n"
          ]
        },
        {
          "output_type": "stream",
          "name": "stdout",
          "text": [
            "Model has been SOLVED\n",
            "model parsed in 0.01s\n",
            "model loaded in 0.01s\n"
          ]
        },
        {
          "output_type": "stream",
          "name": "stderr",
          "text": [
            "Warning message in initval_var(model, list(K_s = 3.5, C = 0.8, L_s = 0.3, I = 0.2, :\n",
            "“initial values of the following variables have not been set: \"lambda__CONSUMER_2\", \"U\"”\n",
            "Warning message in ss_prep(model, use_jac, calibration, last_solver_iter):\n",
            "“initial values for some variables have not been supplied (default value of 0.9 has been used).”\n"
          ]
        },
        {
          "output_type": "stream",
          "name": "stdout",
          "text": [
            "Steady state has been FOUND\n"
          ]
        },
        {
          "output_type": "stream",
          "name": "stderr",
          "text": [
            "Warning message:\n",
            "“the following variables will not be log-linearised as their steady-state values are equal or close to zero: \"pi\", \"PI\"”\n"
          ]
        },
        {
          "output_type": "stream",
          "name": "stdout",
          "text": [
            "Model has been SOLVED\n",
            "model parsed in 0.01s\n",
            "model loaded in 0.02s\n"
          ]
        },
        {
          "output_type": "stream",
          "name": "stderr",
          "text": [
            "Warning message in initval_var(model, list(K_s = 3.5, C = 0.8, L_s = 0.3, I = 0.2, :\n",
            "“initial values of the following variables have not been set: \"lambda__CONSUMER_2\", \"U\"”\n",
            "Warning message in ss_prep(model, use_jac, calibration, last_solver_iter):\n",
            "“initial values for some variables have not been supplied (default value of 0.9 has been used).”\n"
          ]
        },
        {
          "output_type": "stream",
          "name": "stdout",
          "text": [
            "Steady state has been FOUND\n"
          ]
        },
        {
          "output_type": "stream",
          "name": "stderr",
          "text": [
            "Warning message:\n",
            "“the following variables will not be log-linearised as their steady-state values are equal or close to zero: \"pi\", \"PI\"”\n"
          ]
        },
        {
          "output_type": "stream",
          "name": "stdout",
          "text": [
            "Model has been SOLVED\n",
            "model parsed in 0.01s\n",
            "model loaded in 0.01s\n"
          ]
        },
        {
          "output_type": "stream",
          "name": "stderr",
          "text": [
            "Warning message in initval_var(model, list(K_s = 3.5, C = 0.8, L_s = 0.3, I = 0.2, :\n",
            "“initial values of the following variables have not been set: \"lambda__CONSUMER_2\", \"U\"”\n",
            "Warning message in ss_prep(model, use_jac, calibration, last_solver_iter):\n",
            "“initial values for some variables have not been supplied (default value of 0.9 has been used).”\n"
          ]
        },
        {
          "output_type": "stream",
          "name": "stdout",
          "text": [
            "Steady state has been FOUND\n"
          ]
        },
        {
          "output_type": "stream",
          "name": "stderr",
          "text": [
            "Warning message:\n",
            "“the following variables will not be log-linearised as their steady-state values are equal or close to zero: \"pi\", \"PI\"”\n"
          ]
        },
        {
          "output_type": "stream",
          "name": "stdout",
          "text": [
            "Model has been SOLVED\n",
            "model parsed in 0.01s\n",
            "model loaded in 0.01s\n"
          ]
        },
        {
          "output_type": "stream",
          "name": "stderr",
          "text": [
            "Warning message in initval_var(model, list(K_s = 3.5, C = 0.8, L_s = 0.3, I = 0.2, :\n",
            "“initial values of the following variables have not been set: \"lambda__CONSUMER_2\", \"U\"”\n",
            "Warning message in ss_prep(model, use_jac, calibration, last_solver_iter):\n",
            "“initial values for some variables have not been supplied (default value of 0.9 has been used).”\n"
          ]
        },
        {
          "output_type": "stream",
          "name": "stdout",
          "text": [
            "Steady state has been FOUND\n"
          ]
        },
        {
          "output_type": "stream",
          "name": "stderr",
          "text": [
            "Warning message:\n",
            "“the following variables will not be log-linearised as their steady-state values are equal or close to zero: \"pi\", \"PI\"”\n"
          ]
        },
        {
          "output_type": "stream",
          "name": "stdout",
          "text": [
            "Model has been SOLVED\n"
          ]
        }
      ]
    },
    {
      "cell_type": "code",
      "source": [
        "out_all <- do.call(\"rbind\",out_all)\n",
        "head(out_all)"
      ],
      "metadata": {
        "colab": {
          "base_uri": "https://localhost:8080/",
          "height": 286
        },
        "id": "3kHSeI7vZUBk",
        "outputId": "26692cff-77ae-434d-82e9-b7e12b5f1558"
      },
      "execution_count": 19,
      "outputs": [
        {
          "output_type": "display_data",
          "data": {
            "text/html": [
              "<table class=\"dataframe\">\n",
              "<caption>A data.frame: 6 × 8</caption>\n",
              "<thead>\n",
              "\t<tr><th></th><th scope=col>Var2</th><th scope=col>C</th><th scope=col>K_s</th><th scope=col>A</th><th scope=col>Y</th><th scope=col>L_s</th><th scope=col>I</th><th scope=col>Case</th></tr>\n",
              "\t<tr><th></th><th scope=col>&lt;fct&gt;</th><th scope=col>&lt;dbl&gt;</th><th scope=col>&lt;dbl&gt;</th><th scope=col>&lt;dbl&gt;</th><th scope=col>&lt;dbl&gt;</th><th scope=col>&lt;dbl&gt;</th><th scope=col>&lt;dbl&gt;</th><th scope=col>&lt;chr&gt;</th></tr>\n",
              "</thead>\n",
              "<tbody>\n",
              "\t<tr><th scope=row>1</th><td>1</td><td>0.0009321074</td><td>0.001280487</td><td>0.005000000</td><td>0.005645696</td><td>0.0009933778</td><td>0.02134146</td><td>sd_epsilon_A = 0.5</td></tr>\n",
              "\t<tr><th scope=row>2</th><td>2</td><td>0.0017144603</td><td>0.002346094</td><td>0.004750000</td><td>0.005715972</td><td>0.0007966168</td><td>0.01904059</td><td>sd_epsilon_A = 0.5</td></tr>\n",
              "\t<tr><th scope=row>3</th><td>3</td><td>0.0023650086</td><td>0.003224732</td><td>0.004512500</td><td>0.005742700</td><td>0.0006293339</td><td>0.01699006</td><td>sd_epsilon_A = 0.5</td></tr>\n",
              "\t<tr><th scope=row>4</th><td>4</td><td>0.0028999377</td><td>0.003941081</td><td>0.004286875</td><td>0.005732326</td><td>0.0004873771</td><td>0.01516389</td><td>sd_epsilon_A = 0.5</td></tr>\n",
              "\t<tr><th scope=row>5</th><td>5</td><td>0.0033337860</td><td>0.004516923</td><td>0.004072531</td><td>0.005690574</td><td>0.0003671766</td><td>0.01353844</td><td>sd_epsilon_A = 0.5</td></tr>\n",
              "\t<tr><th scope=row>6</th><td>6</td><td>0.0036795656</td><td>0.004971446</td><td>0.003868905</td><td>0.005622508</td><td>0.0002656616</td><td>0.01209230</td><td>sd_epsilon_A = 0.5</td></tr>\n",
              "</tbody>\n",
              "</table>\n"
            ],
            "text/markdown": "\nA data.frame: 6 × 8\n\n| <!--/--> | Var2 &lt;fct&gt; | C &lt;dbl&gt; | K_s &lt;dbl&gt; | A &lt;dbl&gt; | Y &lt;dbl&gt; | L_s &lt;dbl&gt; | I &lt;dbl&gt; | Case &lt;chr&gt; |\n|---|---|---|---|---|---|---|---|---|\n| 1 | 1 | 0.0009321074 | 0.001280487 | 0.005000000 | 0.005645696 | 0.0009933778 | 0.02134146 | sd_epsilon_A = 0.5 |\n| 2 | 2 | 0.0017144603 | 0.002346094 | 0.004750000 | 0.005715972 | 0.0007966168 | 0.01904059 | sd_epsilon_A = 0.5 |\n| 3 | 3 | 0.0023650086 | 0.003224732 | 0.004512500 | 0.005742700 | 0.0006293339 | 0.01699006 | sd_epsilon_A = 0.5 |\n| 4 | 4 | 0.0028999377 | 0.003941081 | 0.004286875 | 0.005732326 | 0.0004873771 | 0.01516389 | sd_epsilon_A = 0.5 |\n| 5 | 5 | 0.0033337860 | 0.004516923 | 0.004072531 | 0.005690574 | 0.0003671766 | 0.01353844 | sd_epsilon_A = 0.5 |\n| 6 | 6 | 0.0036795656 | 0.004971446 | 0.003868905 | 0.005622508 | 0.0002656616 | 0.01209230 | sd_epsilon_A = 0.5 |\n\n",
            "text/latex": "A data.frame: 6 × 8\n\\begin{tabular}{r|llllllll}\n  & Var2 & C & K\\_s & A & Y & L\\_s & I & Case\\\\\n  & <fct> & <dbl> & <dbl> & <dbl> & <dbl> & <dbl> & <dbl> & <chr>\\\\\n\\hline\n\t1 & 1 & 0.0009321074 & 0.001280487 & 0.005000000 & 0.005645696 & 0.0009933778 & 0.02134146 & sd\\_epsilon\\_A = 0.5\\\\\n\t2 & 2 & 0.0017144603 & 0.002346094 & 0.004750000 & 0.005715972 & 0.0007966168 & 0.01904059 & sd\\_epsilon\\_A = 0.5\\\\\n\t3 & 3 & 0.0023650086 & 0.003224732 & 0.004512500 & 0.005742700 & 0.0006293339 & 0.01699006 & sd\\_epsilon\\_A = 0.5\\\\\n\t4 & 4 & 0.0028999377 & 0.003941081 & 0.004286875 & 0.005732326 & 0.0004873771 & 0.01516389 & sd\\_epsilon\\_A = 0.5\\\\\n\t5 & 5 & 0.0033337860 & 0.004516923 & 0.004072531 & 0.005690574 & 0.0003671766 & 0.01353844 & sd\\_epsilon\\_A = 0.5\\\\\n\t6 & 6 & 0.0036795656 & 0.004971446 & 0.003868905 & 0.005622508 & 0.0002656616 & 0.01209230 & sd\\_epsilon\\_A = 0.5\\\\\n\\end{tabular}\n",
            "text/plain": [
              "  Var2 C            K_s         A           Y           L_s          I         \n",
              "1 1    0.0009321074 0.001280487 0.005000000 0.005645696 0.0009933778 0.02134146\n",
              "2 2    0.0017144603 0.002346094 0.004750000 0.005715972 0.0007966168 0.01904059\n",
              "3 3    0.0023650086 0.003224732 0.004512500 0.005742700 0.0006293339 0.01699006\n",
              "4 4    0.0028999377 0.003941081 0.004286875 0.005732326 0.0004873771 0.01516389\n",
              "5 5    0.0033337860 0.004516923 0.004072531 0.005690574 0.0003671766 0.01353844\n",
              "6 6    0.0036795656 0.004971446 0.003868905 0.005622508 0.0002656616 0.01209230\n",
              "  Case              \n",
              "1 sd_epsilon_A = 0.5\n",
              "2 sd_epsilon_A = 0.5\n",
              "3 sd_epsilon_A = 0.5\n",
              "4 sd_epsilon_A = 0.5\n",
              "5 sd_epsilon_A = 0.5\n",
              "6 sd_epsilon_A = 0.5"
            ]
          },
          "metadata": {}
        }
      ]
    },
    {
      "cell_type": "code",
      "source": [
        "#print simulation\n",
        " write.csv(out_all,\"out_sentivity.csv\",row.names=FALSE)"
      ],
      "metadata": {
        "id": "OdRywqrvZWdq"
      },
      "execution_count": 20,
      "outputs": []
    }
  ]
}