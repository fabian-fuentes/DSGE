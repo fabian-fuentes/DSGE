{
  "nbformat": 4,
  "nbformat_minor": 0,
  "metadata": {
    "colab": {
      "provenance": [],
      "authorship_tag": "ABX9TyMuYByBAu3ezUblVILbuB2j",
      "include_colab_link": true
    },
    "kernelspec": {
      "name": "ir",
      "display_name": "R"
    },
    "language_info": {
      "name": "R"
    }
  },
  "cells": [
    {
      "cell_type": "markdown",
      "metadata": {
        "id": "view-in-github",
        "colab_type": "text"
      },
      "source": [
  "<a href=\"https://colab.research.google.com/github/fabian-fuentes/DSGE/blob/main/NonRicardianAgents/Taxes_chapter7_script.ipynb\" target=\"_parent\"><img src=\"https://colab.research.google.com/assets/colab-badge.svg\" alt=\"Open In Colab\"/></a>"
      ]
    },
    {
      "cell_type": "markdown",
      "source": [
        "# Taxes"
      ],
      "metadata": {
        "id": "KdzN5Pcc7LZX"
      }
    },
    {
      "cell_type": "code",
      "execution_count": 1,
      "metadata": {
        "id": "AG-mng7f7B1m"
      },
      "outputs": [],
      "source": [
        "# install packages\n",
        "install.packages('nleqslv')\n",
        "install.packages('Rcpp')\n",
        "install.packages('reshape2')\n",
        "install.packages(\"https://gecon.r-forge.r-project.org/files/gEcon_1.2.3.tar.gz\", repos = NULL, type = \"source\")"
      ]
    },
    {
      "cell_type": "code",
      "source": [
        "library(nleqslv)\n",
        "library(Rcpp)\n",
        "library(gEcon)"
      ],
      "metadata": {
        "colab": {
          "base_uri": "https://localhost:8080/"
        },
        "id": "Nr3nDW7c7SJV",
        "outputId": "026955b6-c895-486c-b728-b535728cc762"
      },
      "execution_count": 2,
      "outputs": [
        {
          "output_type": "stream",
          "name": "stderr",
          "text": [
            "Loading required package: MASS\n",
            "\n",
            "Loading required package: Matrix\n",
            "\n",
            "This is gEcon version 1.2.3 (2025-04-13)\n",
            "http://gecon.r-forge.r-project.org/\n",
            "\n"
          ]
        }
      ]
    },
    {
      "cell_type": "code",
      "source": [
        "download.file(\"https://raw.githubusercontent.com/fabian-fuentes/DSGE/main/NonRicardianAgents/Taxes_chapter7.gcn\",\n",
        "              destfile = \"Taxes_chapter7.gcn\", mode = \"wb\")"
      ],
      "metadata": {
        "id": "QAESZErO7UrF"
      },
      "execution_count": 3,
      "outputs": []
    },
    {
      "cell_type": "code",
      "source": [
        " gcn.file<-\"Taxes_chapter7.gcn\"\n",
        "\n",
        "#create a model from gcc.file\n",
        "  model <- make_model(gcn.file)"
      ],
      "metadata": {
        "colab": {
          "base_uri": "https://localhost:8080/"
        },
        "id": "P5Erw9If8AWr",
        "outputId": "1530e519-47c4-42af-c38e-f70d5491170d"
      },
      "execution_count": 4,
      "outputs": [
        {
          "output_type": "stream",
          "name": "stdout",
          "text": [
            "model parsed in 0.01s\n",
            "model loaded in 0.06s\n"
          ]
        }
      ]
    },
    {
      "cell_type": "code",
      "source": [
        "#set initial conditions\n",
        "  model <- initval_var(model, list(C = 0.8,\n",
        "                                    L_s = 0.3,\n",
        "                                    K_s = 3.5,\n",
        "                                    I = 0.2,\n",
        "                                    Y = 1.0,\n",
        "                                    A = 1.0,\n",
        "                                    W=(1-0.350)*(1.0/0.3),\n",
        "                                    r=(0.350)*(1.0/3.5),\n",
        "                                    pi=0.0,\n",
        "                                    PI=0.0 ,\n",
        "                                    U = 1.0,\n",
        "                                    G_inc = 0.116*0.8 + 0.348*(1-0.350)*(1.0/0.3)*0.3 + 0.225*((0.350)*(1.0/3.5)-0.06)*3.5  ,\n",
        "                                    GT = 0.116*0.8 + 0.348*(1-0.350)*(1.0/0.3)*0.3 + 0.225*((0.350)*(1.0/3.5)-0.06)*3.5,\n",
        "                                    lambda_c = 1.0,\n",
        "                                    T_c = 0.116*0.8,\n",
        "                                    T_l = 0.348*(1-0.350)*(1.0/0.3)*0.3,\n",
        "                                    T_k = 0.225*((0.350)*(1.0/3.5)-0.06)*3.5\n",
        "                                    )\n",
        "                        )\n",
        "\n",
        "#define steady state\n",
        " model <- steady_state(model)"
      ],
      "metadata": {
        "colab": {
          "base_uri": "https://localhost:8080/"
        },
        "id": "wWh6ETOG8IiY",
        "outputId": "1a36ff4e-8a9b-4999-ad1c-4887ba32cb66"
      },
      "execution_count": 5,
      "outputs": [
        {
          "output_type": "stream",
          "name": "stdout",
          "text": [
            "Steady state has been FOUND\n"
          ]
        }
      ]
    },
    {
      "cell_type": "code",
      "source": [
        "#=================================================================================================================\n",
        "#create Laffer Curves\n",
        "#=================================================================================================================\n",
        "\n",
        "#create experimental design\n",
        "  Xs <- expand.grid(list(tau_l=seq(0.0,1.0,0.1),tau_c=seq(0.0,1.0,0.1),tau_k=seq(0.0,1.0,0.1)))\n",
        "  Xs$Run_ID <- 1:nrow(Xs)\n",
        "  dim(Xs)"
      ],
      "metadata": {
        "colab": {
          "base_uri": "https://localhost:8080/",
          "height": 34
        },
        "id": "FtifjqIM8Lav",
        "outputId": "d754379b-d153-42e6-f7db-966a7a2480d5"
      },
      "execution_count": 6,
      "outputs": [
        {
          "output_type": "display_data",
          "data": {
            "text/html": [
              "<style>\n",
              ".list-inline {list-style: none; margin:0; padding: 0}\n",
              ".list-inline>li {display: inline-block}\n",
              ".list-inline>li:not(:last-child)::after {content: \"\\00b7\"; padding: 0 .5ex}\n",
              "</style>\n",
              "<ol class=list-inline><li>1331</li><li>4</li></ol>\n"
            ],
            "text/markdown": "1. 1331\n2. 4\n\n\n",
            "text/latex": "\\begin{enumerate*}\n\\item 1331\n\\item 4\n\\end{enumerate*}\n",
            "text/plain": [
              "[1] 1331    4"
            ]
          },
          "metadata": {}
        }
      ]
    },
    {
      "cell_type": "code",
      "source": [
        "laffer <- list()\n",
        "\n",
        "for (i in 1:length(Xs$Run_ID)) {\n",
        "  suppressWarnings({\n",
        "    # i <- 67\n",
        "    model_i <- initval_var(model, list(\n",
        "      C = 0.8,\n",
        "      L_s = 0.3,\n",
        "      K_s = 3.5,\n",
        "      I = 0.2,\n",
        "      Y = 1.0,\n",
        "      A = 1.0,\n",
        "      W = (1 - 0.350) * (1.0 / 0.3),\n",
        "      r = (0.350) * (1.0 / 3.5),\n",
        "      pi = 0.0,\n",
        "      PI = 0.0,\n",
        "      U = 1.0,\n",
        "      G_inc = Xs$tau_c[i]*0.8 + Xs$tau_l[i]*(1-0.350)*(1.0/0.3)*0.3 + Xs$tau_k[i]*((0.350)*(1.0/3.5)-0.06)*3.5,\n",
        "      GT = Xs$tau_c[i]*0.8 + Xs$tau_l[i]*(1-0.350)*(1.0/0.3)*0.3 + Xs$tau_k[i]*((0.350)*(1.0/3.5)-0.06)*3.5,\n",
        "      lambda_c = 0.1,\n",
        "      T_c = Xs$tau_c[i]*0.8,\n",
        "      T_l = Xs$tau_l[i]*(1-0.350)*(1.0/0.3)*0.3,\n",
        "      T_k = Xs$tau_k[i]*((0.350)*(1.0/3.5)-0.06)*3.5\n",
        "    ))\n",
        "\n",
        "    model_i <- set_free_par(model_i, list(\n",
        "      tau_l = Xs$tau_l[i],\n",
        "      tau_c = Xs$tau_c[i],\n",
        "      tau_k = Xs$tau_k[i]\n",
        "    ), warnings = FALSE)\n",
        "\n",
        "    model_i <- steady_state(model_i, last_solver_iter = TRUE)\n",
        "    ss_i <- get_ss_values(model_i, silent = TRUE)\n",
        "    ss_i <- data.frame(t(ss_i))\n",
        "    ss_i$Run_ID <- Xs$Run_ID[i]\n",
        "    laffer <- append(laffer, list(ss_i))\n",
        "    rm(model_i)\n",
        "  })\n",
        "}\n"
      ],
      "metadata": {
        "colab": {
          "base_uri": "https://localhost:8080/"
        },
        "id": "mF1QGo-J8O-H",
        "outputId": "655d98a5-d390-46ad-b957-c496d6ca1112"
      },
      "execution_count": 8,
      "outputs": [
        {
          "output_type": "stream",
          "name": "stdout",
          "text": [
            "Steady state has been FOUND\n",
            "Steady state has been FOUND\n",
            "Steady state has been FOUND\n",
            "Steady state has been FOUND\n",
            "Steady state has been FOUND\n",
            "Steady state has been FOUND\n",
            "Steady state has been FOUND\n",
            "Steady state has been FOUND\n",
            "Steady state has been FOUND\n",
            "Steady state has been FOUND\n",
            "Steady state has been FOUND\n",
            "Steady state has been FOUND\n",
            "Steady state has been FOUND\n",
            "Steady state has been FOUND\n",
            "Steady state has been FOUND\n",
            "Steady state has been FOUND\n",
            "Steady state has been FOUND\n",
            "Steady state has been FOUND\n",
            "Steady state has been FOUND\n",
            "Steady state has been FOUND\n",
            "Steady state has been FOUND\n",
            "Steady state has been FOUND\n",
            "Steady state has been FOUND\n",
            "Steady state has been FOUND\n",
            "Steady state has been FOUND\n",
            "Steady state has been FOUND\n",
            "Steady state has been FOUND\n",
            "Steady state has been FOUND\n",
            "Steady state has been FOUND\n",
            "Steady state has been FOUND\n",
            "Steady state has been FOUND\n",
            "Steady state has been FOUND\n",
            "Steady state has been FOUND\n",
            "Steady state has been FOUND\n",
            "Steady state has been FOUND\n",
            "Steady state has been FOUND\n",
            "Steady state has been FOUND\n",
            "Steady state has been FOUND\n",
            "Steady state has been FOUND\n",
            "Steady state has been FOUND\n",
            "Steady state has been FOUND\n",
            "Steady state has been FOUND\n",
            "Steady state has been FOUND\n",
            "Steady state has been FOUND\n",
            "Steady state has been FOUND\n",
            "Steady state has been FOUND\n",
            "Steady state has been FOUND\n",
            "Steady state has been FOUND\n",
            "Steady state has been FOUND\n",
            "Steady state has been FOUND\n",
            "Steady state has been FOUND\n",
            "Steady state has been FOUND\n",
            "Steady state has been FOUND\n",
            "Steady state has been FOUND\n",
            "Steady state has been FOUND\n",
            "Steady state has been FOUND\n",
            "Steady state has been FOUND\n",
            "Steady state has been FOUND\n",
            "Steady state has been FOUND\n",
            "Steady state has been FOUND\n",
            "Steady state has been FOUND\n",
            "Steady state has been FOUND\n",
            "Steady state has been FOUND\n",
            "Steady state has been FOUND\n",
            "Steady state has been FOUND\n",
            "Steady state has been FOUND\n",
            "Steady state has been FOUND\n",
            "Steady state has been FOUND\n",
            "Steady state has been FOUND\n",
            "Steady state has been FOUND\n",
            "Steady state has been FOUND\n",
            "Steady state has been FOUND\n",
            "Steady state has been FOUND\n",
            "Steady state has been FOUND\n",
            "Steady state has been FOUND\n",
            "Steady state has been FOUND\n",
            "Steady state has been FOUND\n",
            "Steady state has been FOUND\n",
            "Steady state has been FOUND\n",
            "Steady state has been FOUND\n",
            "Steady state has been FOUND\n",
            "Steady state has been FOUND\n",
            "Steady state has been FOUND\n",
            "Steady state has been FOUND\n",
            "Steady state has been FOUND\n",
            "Steady state has been FOUND\n",
            "Steady state has been FOUND\n",
            "Steady state has been FOUND\n",
            "Steady state has been FOUND\n",
            "Steady state has been FOUND\n",
            "Steady state has been FOUND\n",
            "Steady state has been FOUND\n",
            "Steady state has been FOUND\n",
            "Steady state has been FOUND\n",
            "Steady state has been FOUND\n",
            "Steady state has been FOUND\n",
            "Steady state has been FOUND\n",
            "Steady state has been FOUND\n",
            "Steady state has been FOUND\n",
            "Steady state has been FOUND\n",
            "Steady state has been FOUND\n",
            "Steady state has been FOUND\n",
            "Steady state has been FOUND\n",
            "Steady state has been FOUND\n",
            "Steady state has been FOUND\n",
            "Steady state has been FOUND\n",
            "Steady state has been FOUND\n",
            "Steady state has been FOUND\n",
            "Steady state has been FOUND\n",
            "Steady state has been FOUND\n",
            "Steady state has been FOUND\n",
            "Steady state has been FOUND\n",
            "Steady state has been FOUND\n",
            "Steady state has been FOUND\n",
            "Steady state has been FOUND\n",
            "Steady state has been FOUND\n",
            "Steady state has been FOUND\n",
            "Steady state has been FOUND\n",
            "Steady state has been FOUND\n",
            "Steady state has been FOUND\n",
            "Steady state has been FOUND\n",
            "Steady state has been FOUND\n",
            "Steady state has been FOUND\n",
            "Steady state has been FOUND\n",
            "Steady state has been FOUND\n",
            "Steady state has been FOUND\n",
            "Steady state has been FOUND\n",
            "Steady state has been FOUND\n",
            "Steady state has been FOUND\n",
            "Steady state has been FOUND\n",
            "Steady state has been FOUND\n",
            "Steady state has been FOUND\n",
            "Steady state has been FOUND\n",
            "Steady state has been FOUND\n",
            "Steady state has been FOUND\n",
            "Steady state has been FOUND\n",
            "Steady state has been FOUND\n",
            "Steady state has been FOUND\n",
            "Steady state has been FOUND\n",
            "Steady state has been FOUND\n",
            "Steady state has been FOUND\n",
            "Steady state has been FOUND\n",
            "Steady state has been FOUND\n",
            "Steady state has been FOUND\n",
            "Steady state has been FOUND\n",
            "Steady state has been FOUND\n",
            "Steady state has been FOUND\n",
            "Steady state has been FOUND\n",
            "Steady state has been FOUND\n",
            "Steady state has been FOUND\n",
            "Steady state has been FOUND\n",
            "Steady state has been FOUND\n",
            "Steady state has been FOUND\n",
            "Steady state has been FOUND\n",
            "Steady state has been FOUND\n",
            "Steady state has been FOUND\n",
            "Steady state has been FOUND\n",
            "Steady state has been FOUND\n",
            "Steady state has been FOUND\n",
            "Steady state has been FOUND\n",
            "Steady state has been FOUND\n",
            "Steady state has been FOUND\n",
            "Steady state has been FOUND\n",
            "Steady state has been FOUND\n",
            "Steady state has been FOUND\n",
            "Steady state has been FOUND\n",
            "Steady state has been FOUND\n",
            "Steady state has been FOUND\n",
            "Steady state has been FOUND\n",
            "Steady state has been FOUND\n",
            "Steady state has been FOUND\n",
            "Steady state has been FOUND\n",
            "Steady state has been FOUND\n",
            "Steady state has been FOUND\n",
            "Steady state has been FOUND\n",
            "Steady state has been FOUND\n",
            "Steady state has been FOUND\n",
            "Steady state has been FOUND\n",
            "Steady state has been FOUND\n",
            "Steady state has been FOUND\n",
            "Steady state has been FOUND\n",
            "Steady state has been FOUND\n",
            "Steady state has been FOUND\n",
            "Steady state has been FOUND\n",
            "Steady state has been FOUND\n",
            "Steady state has been FOUND\n",
            "Steady state has been FOUND\n",
            "Steady state has been FOUND\n",
            "Steady state has been FOUND\n",
            "Steady state has been FOUND\n",
            "Steady state has been FOUND\n",
            "Steady state has been FOUND\n",
            "Steady state has been FOUND\n",
            "Steady state has been FOUND\n",
            "Steady state has been FOUND\n",
            "Steady state has been FOUND\n",
            "Steady state has been FOUND\n",
            "Steady state has been FOUND\n",
            "Steady state has been FOUND\n",
            "Steady state has been FOUND\n",
            "Steady state has been FOUND\n",
            "Steady state has been FOUND\n",
            "Steady state has been FOUND\n",
            "Steady state has been FOUND\n",
            "Steady state has been FOUND\n",
            "Steady state has been FOUND\n",
            "Steady state has been FOUND\n",
            "Steady state has been FOUND\n",
            "Steady state has been FOUND\n",
            "Steady state has been FOUND\n",
            "Steady state has been FOUND\n",
            "Steady state has been FOUND\n",
            "Steady state has been FOUND\n",
            "Steady state has been FOUND\n",
            "Steady state has been FOUND\n",
            "Steady state has been FOUND\n",
            "Steady state has been FOUND\n",
            "Steady state has been FOUND\n",
            "Steady state has been FOUND\n",
            "Steady state has been FOUND\n",
            "Steady state has been FOUND\n",
            "Steady state has been FOUND\n",
            "Steady state has been FOUND\n",
            "Steady state has been FOUND\n",
            "Steady state has been FOUND\n",
            "Steady state has been FOUND\n",
            "Steady state has been FOUND\n",
            "Steady state has been FOUND\n",
            "Steady state has been FOUND\n",
            "Steady state has been FOUND\n",
            "Steady state has been FOUND\n",
            "Steady state has been FOUND\n",
            "Steady state has been FOUND\n",
            "Steady state has been FOUND\n",
            "Steady state has been FOUND\n",
            "Steady state has been FOUND\n",
            "Steady state has been FOUND\n",
            "Steady state has been FOUND\n",
            "Steady state has been FOUND\n",
            "Steady state has been FOUND\n",
            "Steady state has been FOUND\n",
            "Steady state has been FOUND\n",
            "Steady state has been FOUND\n",
            "Steady state has been FOUND\n",
            "Steady state has been FOUND\n",
            "Steady state has been FOUND\n",
            "Steady state has been FOUND\n",
            "Steady state has been FOUND\n",
            "Steady state has been FOUND\n",
            "Steady state has been FOUND\n",
            "Steady state has been FOUND\n",
            "Steady state has been FOUND\n",
            "Steady state has been FOUND\n",
            "Steady state has been FOUND\n",
            "Steady state has been FOUND\n",
            "Steady state has been FOUND\n",
            "Steady state has been FOUND\n",
            "Steady state has been FOUND\n",
            "Steady state has been FOUND\n",
            "Steady state has been FOUND\n",
            "Steady state has been FOUND\n",
            "Steady state has been FOUND\n",
            "Steady state has been FOUND\n",
            "Steady state has been FOUND\n",
            "Steady state has been FOUND\n",
            "Steady state has been FOUND\n",
            "Steady state has been FOUND\n",
            "Steady state has been FOUND\n",
            "Steady state has been FOUND\n",
            "Steady state has been FOUND\n",
            "Steady state has been FOUND\n",
            "Steady state has been FOUND\n",
            "Steady state has been FOUND\n",
            "Steady state has been FOUND\n",
            "Steady state has been FOUND\n",
            "Steady state has been FOUND\n",
            "Steady state has been FOUND\n",
            "Steady state has been FOUND\n",
            "Steady state has been FOUND\n",
            "Steady state has been FOUND\n",
            "Steady state has been FOUND\n",
            "Steady state has been FOUND\n",
            "Steady state has been FOUND\n",
            "Steady state has been FOUND\n",
            "Steady state has been FOUND\n",
            "Steady state has been FOUND\n",
            "Steady state has been FOUND\n",
            "Steady state has been FOUND\n",
            "Steady state has been FOUND\n",
            "Steady state has been FOUND\n",
            "Steady state has been FOUND\n",
            "Steady state has been FOUND\n",
            "Steady state has been FOUND\n",
            "Steady state has been FOUND\n",
            "Steady state has been FOUND\n",
            "Steady state has been FOUND\n",
            "Steady state has been FOUND\n",
            "Steady state has been FOUND\n",
            "Steady state has been FOUND\n",
            "Steady state has been FOUND\n",
            "Steady state has been FOUND\n",
            "Steady state has been FOUND\n",
            "Steady state has been FOUND\n",
            "Steady state has been FOUND\n",
            "Steady state has been FOUND\n",
            "Steady state has been FOUND\n",
            "Steady state has been FOUND\n",
            "Steady state has been FOUND\n",
            "Steady state has been FOUND\n",
            "Steady state has been FOUND\n",
            "Steady state has been FOUND\n",
            "Steady state has been FOUND\n",
            "Steady state has been FOUND\n",
            "Steady state has been FOUND\n",
            "Steady state has been FOUND\n",
            "Steady state has been FOUND\n",
            "Steady state has been FOUND\n",
            "Steady state has been FOUND\n",
            "Steady state has been FOUND\n",
            "Steady state has been FOUND\n",
            "Steady state has been FOUND\n",
            "Steady state has been FOUND\n",
            "Steady state has been FOUND\n",
            "Steady state has been FOUND\n",
            "Steady state has been FOUND\n",
            "Steady state has been FOUND\n",
            "Steady state has been FOUND\n",
            "Steady state has been FOUND\n",
            "Steady state has been FOUND\n",
            "Steady state has been FOUND\n",
            "Steady state has been FOUND\n",
            "Steady state has been FOUND\n",
            "Steady state has been FOUND\n",
            "Steady state has been FOUND\n",
            "Steady state has been FOUND\n",
            "Steady state has been FOUND\n",
            "Steady state has been FOUND\n",
            "Steady state has been FOUND\n",
            "Steady state has been FOUND\n",
            "Steady state has been FOUND\n",
            "Steady state has been FOUND\n",
            "Steady state has been FOUND\n",
            "Steady state has been FOUND\n",
            "Steady state has been FOUND\n",
            "Steady state has been FOUND\n",
            "Steady state has been FOUND\n",
            "Steady state has been FOUND\n",
            "Steady state has been FOUND\n",
            "Steady state has been FOUND\n",
            "Steady state has been FOUND\n",
            "Steady state has been FOUND\n",
            "Steady state has been FOUND\n",
            "Steady state has been FOUND\n",
            "Steady state has been FOUND\n",
            "Steady state has been FOUND\n",
            "Steady state has been FOUND\n",
            "Steady state has been FOUND\n",
            "Steady state has been FOUND\n",
            "Steady state has been FOUND\n",
            "Steady state has been FOUND\n",
            "Steady state has been FOUND\n",
            "Steady state has been FOUND\n",
            "Steady state has been FOUND\n",
            "Steady state has been FOUND\n",
            "Steady state has been FOUND\n",
            "Steady state has been FOUND\n",
            "Steady state has been FOUND\n",
            "Steady state has been FOUND\n",
            "Steady state has been FOUND\n",
            "Steady state has been FOUND\n",
            "Steady state has been FOUND\n",
            "Steady state has been FOUND\n",
            "Steady state has been FOUND\n",
            "Steady state has been FOUND\n",
            "Steady state has been FOUND\n",
            "Steady state has been FOUND\n",
            "Steady state has been FOUND\n",
            "Steady state has been FOUND\n",
            "Steady state has been FOUND\n",
            "Steady state has been FOUND\n",
            "Steady state has been FOUND\n",
            "Steady state has been FOUND\n",
            "Steady state has been FOUND\n",
            "Steady state has been FOUND\n",
            "Steady state has been FOUND\n",
            "Steady state has been FOUND\n",
            "Steady state has been FOUND\n",
            "Steady state has been FOUND\n",
            "Steady state has been FOUND\n",
            "Steady state has been FOUND\n",
            "Steady state has been FOUND\n",
            "Steady state has been FOUND\n",
            "Steady state has been FOUND\n",
            "Steady state has been FOUND\n",
            "Steady state has been FOUND\n",
            "Steady state has been FOUND\n",
            "Steady state has been FOUND\n",
            "Steady state has been FOUND\n",
            "Steady state has been FOUND\n",
            "Steady state has been FOUND\n",
            "Steady state has been FOUND\n",
            "Steady state has been FOUND\n",
            "Steady state has been FOUND\n",
            "Steady state has been FOUND\n",
            "Steady state has been FOUND\n",
            "Steady state has been FOUND\n",
            "Steady state has been FOUND\n",
            "Steady state has been FOUND\n",
            "Steady state has been FOUND\n",
            "Steady state has been FOUND\n",
            "Steady state has been FOUND\n",
            "Steady state has been FOUND\n",
            "Steady state has been FOUND\n",
            "Steady state has been FOUND\n",
            "Steady state has been FOUND\n",
            "Steady state has been FOUND\n",
            "Steady state has been FOUND\n",
            "Steady state has been FOUND\n",
            "Steady state has been FOUND\n",
            "Steady state has been FOUND\n",
            "Steady state has been FOUND\n",
            "Steady state has been FOUND\n",
            "Steady state has been FOUND\n",
            "Steady state has been FOUND\n",
            "Steady state has been FOUND\n",
            "Steady state has been FOUND\n",
            "Steady state has been FOUND\n",
            "Steady state has been FOUND\n",
            "Steady state has been FOUND\n",
            "Steady state has been FOUND\n",
            "Steady state has been FOUND\n",
            "Steady state has been FOUND\n",
            "Steady state has been FOUND\n",
            "Steady state has been FOUND\n",
            "Steady state has been FOUND\n",
            "Steady state has been FOUND\n",
            "Steady state has been FOUND\n",
            "Steady state has been FOUND\n",
            "Steady state has been FOUND\n",
            "Steady state has been FOUND\n",
            "Steady state has been FOUND\n",
            "Steady state has been FOUND\n",
            "Steady state has been FOUND\n",
            "Steady state has been FOUND\n",
            "Steady state has been FOUND\n",
            "Steady state has been FOUND\n",
            "Steady state has been FOUND\n",
            "Steady state has been FOUND\n",
            "Steady state has been FOUND\n",
            "Steady state has been FOUND\n",
            "Steady state has been FOUND\n",
            "Steady state has been FOUND\n",
            "Steady state has been FOUND\n",
            "Steady state has been FOUND\n",
            "Steady state has been FOUND\n",
            "Steady state has been FOUND\n",
            "Steady state has been FOUND\n",
            "Steady state has been FOUND\n",
            "Steady state has been FOUND\n",
            "Steady state has been FOUND\n",
            "Steady state has been FOUND\n",
            "Steady state has been FOUND\n",
            "Steady state has been FOUND\n",
            "Steady state has been FOUND\n",
            "Steady state has been FOUND\n",
            "Steady state has been FOUND\n",
            "Steady state has been FOUND\n",
            "Steady state has been FOUND\n",
            "Steady state has been FOUND\n",
            "Steady state has been FOUND\n",
            "Steady state has been FOUND\n",
            "Steady state has been FOUND\n",
            "Steady state has been FOUND\n",
            "Steady state has been FOUND\n",
            "Steady state has been FOUND\n",
            "Steady state has been FOUND\n",
            "Steady state has been FOUND\n",
            "Steady state has been FOUND\n",
            "Steady state has been FOUND\n",
            "Steady state has been FOUND\n",
            "Steady state has been FOUND\n",
            "Steady state has been FOUND\n",
            "Steady state has been FOUND\n",
            "Steady state has been FOUND\n",
            "Steady state has been FOUND\n",
            "Steady state has been FOUND\n",
            "Steady state has been FOUND\n",
            "Steady state has been FOUND\n",
            "Steady state has been FOUND\n",
            "Steady state has been FOUND\n",
            "Steady state has been FOUND\n",
            "Steady state has been FOUND\n",
            "Steady state has been FOUND\n",
            "Steady state has been FOUND\n",
            "Steady state has been FOUND\n",
            "Steady state has been FOUND\n",
            "Steady state has been FOUND\n",
            "Steady state has been FOUND\n",
            "Steady state has been FOUND\n",
            "Steady state has been FOUND\n",
            "Steady state has been FOUND\n",
            "Steady state has been FOUND\n",
            "Steady state has been FOUND\n",
            "Steady state has been FOUND\n",
            "Steady state has been FOUND\n",
            "Steady state has been FOUND\n",
            "Steady state has been FOUND\n",
            "Steady state has been FOUND\n",
            "Steady state has been FOUND\n",
            "Steady state has been FOUND\n",
            "Steady state has been FOUND\n",
            "Steady state has been FOUND\n",
            "Steady state has been FOUND\n",
            "Steady state has been FOUND\n",
            "Steady state has been FOUND\n",
            "Steady state has been FOUND\n",
            "Steady state has been FOUND\n",
            "Steady state has been FOUND\n",
            "Steady state has been FOUND\n",
            "Steady state has been FOUND\n",
            "Steady state has been FOUND\n",
            "Steady state has been FOUND\n",
            "Steady state has been FOUND\n",
            "Steady state has been FOUND\n"
          ]
        }
      ]
    },
    {
      "cell_type": "code",
      "source": [
        "#row bind results\n",
        " laffer <- do.call(\"rbind\",laffer)\n",
        "\n",
        "#merge Xs\n",
        " dim(laffer)\n",
        " laffer<-merge(laffer,Xs,by=\"Run_ID\")\n",
        " dim(laffer)\n",
        "\n",
        "#Identify cases of interests for laffer curves\n",
        "laffer$labor_tax <- ifelse(laffer$tau_c==0 & laffer$tau_k==0,1,0)\n",
        "laffer$capital_tax <- ifelse(laffer$tau_l==0 & laffer$tau_c==0,1,0)\n",
        "laffer$consumption_tax <- ifelse(laffer$tau_l==0 & laffer$tau_k==0,1,0)"
      ],
      "metadata": {
        "colab": {
          "base_uri": "https://localhost:8080/",
          "height": 52
        },
        "id": "8tC8P7Et8Sdw",
        "outputId": "42540e01-4905-4ea1-9028-b5af72e3b2a8"
      },
      "execution_count": 9,
      "outputs": [
        {
          "output_type": "display_data",
          "data": {
            "text/html": [
              "<style>\n",
              ".list-inline {list-style: none; margin:0; padding: 0}\n",
              ".list-inline>li {display: inline-block}\n",
              ".list-inline>li:not(:last-child)::after {content: \"\\00b7\"; padding: 0 .5ex}\n",
              "</style>\n",
              "<ol class=list-inline><li>1331</li><li>18</li></ol>\n"
            ],
            "text/markdown": "1. 1331\n2. 18\n\n\n",
            "text/latex": "\\begin{enumerate*}\n\\item 1331\n\\item 18\n\\end{enumerate*}\n",
            "text/plain": [
              "[1] 1331   18"
            ]
          },
          "metadata": {}
        },
        {
          "output_type": "display_data",
          "data": {
            "text/html": [
              "<style>\n",
              ".list-inline {list-style: none; margin:0; padding: 0}\n",
              ".list-inline>li {display: inline-block}\n",
              ".list-inline>li:not(:last-child)::after {content: \"\\00b7\"; padding: 0 .5ex}\n",
              "</style>\n",
              "<ol class=list-inline><li>1331</li><li>21</li></ol>\n"
            ],
            "text/markdown": "1. 1331\n2. 21\n\n\n",
            "text/latex": "\\begin{enumerate*}\n\\item 1331\n\\item 21\n\\end{enumerate*}\n",
            "text/plain": [
              "[1] 1331   21"
            ]
          },
          "metadata": {}
        }
      ]
    },
    {
      "cell_type": "code",
      "source": [
        "#write laffer curve database\n",
        "write.csv(laffer,\"laffer_curve.csv\",row.names=FALSE)"
      ],
      "metadata": {
        "id": "ajMAubgq8Uto"
      },
      "execution_count": 10,
      "outputs": []
    },
    {
      "cell_type": "code",
      "source": [
        "#=================================================================================================================\n",
        "#Introduce Productivity Shock\n",
        "#=================================================================================================================\n",
        "#estimate IRFs\n",
        "  model <- set_shock_distr_par(model = model, distr_par = list(\"sd(epsilon_A)\" = 0.01))\n",
        "  #model<- compute_model_stats(model)\n",
        "  model <- solve_pert(model)\n",
        "#Compute Impulse Response Function (IRFs)\n",
        "  model_irf <- compute_irf(model = model, variables = c('C','L_s','K_s','I','Y','A', 'G_inc','T_c','T_l','T_k'), sim_length = 40)\n"
      ],
      "metadata": {
        "colab": {
          "base_uri": "https://localhost:8080/"
        },
        "id": "WaNyzUzE8fAd",
        "outputId": "744a3e86-2858-4487-f1d0-ac15ff6ea7c0"
      },
      "execution_count": 11,
      "outputs": [
        {
          "output_type": "stream",
          "name": "stderr",
          "text": [
            "Warning message:\n",
            "“the following variables will not be log-linearised as their steady-state values are equal or close to zero: \"pi\", \"PI\"”\n"
          ]
        },
        {
          "output_type": "stream",
          "name": "stdout",
          "text": [
            "Model has been SOLVED\n"
          ]
        }
      ]
    },
    {
      "cell_type": "code",
      "source": [
        "#Extract simulation values\n",
        "  library(reshape2)\n",
        "  out <- as.data.frame.table(model_irf@sim)\n",
        "  out<-dcast(out,Var2  ~ Var1 , value.var=\"Freq\")\n",
        "#print simulation\n",
        "  write.csv(out, \"out.csv\",row.names=FALSE)"
      ],
      "metadata": {
        "id": "SozV0LBe8koR"
      },
      "execution_count": 12,
      "outputs": []
    },
    {
      "cell_type": "code",
      "source": [
        "#Compute random path\n",
        "  model_rp <- random_path(model = model, variables = c('C','L_s','K_s','I','Y','A', 'G_inc','T_c','T_l','T_k'), sim_length = 40)\n",
        "\n",
        "#extract values of random path simulation\n",
        "  out <- as.data.frame.table(model_rp@sim)\n",
        "  out<-dcast(out,Var2  ~ Var1 , value.var=\"Freq\")\n",
        "  out$Case<-paste0(\"sd_epsilon_A = \",0.01)\n",
        "  write.csv(out, \"out_random_path.csv\",row.names=FALSE)"
      ],
      "metadata": {
        "id": "rosxuCuO8qxP"
      },
      "execution_count": 13,
      "outputs": []
    },
    {
      "cell_type": "markdown",
      "source": [
        "# Introduce Multiple Shocks"
      ],
      "metadata": {
        "id": "aI5e9paR81vu"
      }
    },
    {
      "cell_type": "code",
      "source": [
        "download.file(\"https://raw.githubusercontent.com/fabian-fuentes/DSGE/main/NonRicardianAgents/nRa_chapter4.gcn\",\n",
        "              destfile = \"nRa_chapter4.gcn\", mode = \"wb\")"
      ],
      "metadata": {
        "id": "ECjIh8mH89A9"
      },
      "execution_count": 14,
      "outputs": []
    },
    {
      "cell_type": "code",
      "source": [
        "#now lets run different TFP shocks\n",
        "sdepsilon_Avector<-seq(0.5,1.5, by= 0.1)\n",
        "gcn.file<-\"nRa_chapter4.gcn\""
      ],
      "metadata": {
        "id": "wLLBQ-s_85rv"
      },
      "execution_count": 15,
      "outputs": []
    },
    {
      "cell_type": "code",
      "source": [
        "out_all <- list()\n",
        "\n",
        "for (i in 1:length(sdepsilon_Avector))\n",
        "{\n",
        "#i<-1\n",
        "#create a model from gcc.file\n",
        "  model <- make_model(gcn.file)\n",
        "\n",
        "#set parameter values\n",
        "\n",
        "#set initial conditions\n",
        "  model <- initval_var(model, list(C = 0.8,\n",
        "                                    C_1=0.8,\n",
        "                                    C_2 = 0.2,\n",
        "                                    L_s = 0.3,\n",
        "                                    L_1_s = 0.3,\n",
        "                                    L_2_s = 0.3,\n",
        "                                    K_s = 3.5,\n",
        "                                    K_1_s = 4.0,\n",
        "                                    I = 0.2,\n",
        "                                    I_1 = 0.3,\n",
        "                                    Y = 1.0,\n",
        "                                    A = 1.0,\n",
        "                                    W=(1-0.350)*(1.0/0.3),\n",
        "                                    r=(0.350)*(1.0/3.5),\n",
        "                                    pi=1.0,\n",
        "                                    PI=1.0 ,\n",
        "                                    U_1 = 1.0,\n",
        "                                    U_2 = 2.0 ))\n",
        "\n",
        "#define steady state\n",
        " model <- steady_state(model)\n",
        "\n",
        "#Solving for dynamics\n",
        " model <- solve_pert(model)\n",
        "\n",
        "#Introducing shocks\n",
        "  model <- set_shock_distr_par(model = model, distr_par = list(\"sd(epsilon_A)\" = sdepsilon_Avector[i]*0.01))\n",
        "\n",
        "#Compute Impulse Response Function (IRFs)\n",
        "  model_irf <- compute_irf(model = model, variables = c('C','C_1','C_2','L_s','L_1_s','L_2_s','K_s','K_1_s','I','I_1','Y','A'), sim_length = 40)\n",
        "\n",
        "#Extract simulation values\n",
        "  out <- as.data.frame.table(model_irf@sim)\n",
        "  out<-dcast(out,Var2  ~ Var1 , value.var=\"Freq\")\n",
        "  out$Case<-paste0(\"sd_epsilon_A = \",sdepsilon_Avector[i])\n",
        "  out$ShockType <- \"A\"\n",
        "#save ouput\n",
        " out_all <- append(out_all,list(out))\n",
        "}"
      ],
      "metadata": {
        "colab": {
          "base_uri": "https://localhost:8080/"
        },
        "id": "XEX5UQ_a9CuP",
        "outputId": "a79ef8c4-fe05-41cf-9234-6dfdae2fb950"
      },
      "execution_count": 16,
      "outputs": [
        {
          "output_type": "stream",
          "name": "stdout",
          "text": [
            "model parsed in 0.01s\n",
            "model loaded in 0.01s\n",
            "Steady state has been FOUND\n"
          ]
        },
        {
          "output_type": "stream",
          "name": "stderr",
          "text": [
            "Warning message:\n",
            "“the following variables will not be log-linearised as their steady-state values are equal or close to zero: \"pi\", \"PI\"”\n"
          ]
        },
        {
          "output_type": "stream",
          "name": "stdout",
          "text": [
            "Model has been SOLVED\n",
            "model parsed in 0.01s\n",
            "model loaded in 0.01s\n",
            "Steady state has been FOUND\n"
          ]
        },
        {
          "output_type": "stream",
          "name": "stderr",
          "text": [
            "Warning message:\n",
            "“the following variables will not be log-linearised as their steady-state values are equal or close to zero: \"pi\", \"PI\"”\n"
          ]
        },
        {
          "output_type": "stream",
          "name": "stdout",
          "text": [
            "Model has been SOLVED\n",
            "model parsed in 0.01s\n",
            "model loaded in 0.01s\n",
            "Steady state has been FOUND\n"
          ]
        },
        {
          "output_type": "stream",
          "name": "stderr",
          "text": [
            "Warning message:\n",
            "“the following variables will not be log-linearised as their steady-state values are equal or close to zero: \"pi\", \"PI\"”\n"
          ]
        },
        {
          "output_type": "stream",
          "name": "stdout",
          "text": [
            "Model has been SOLVED\n",
            "model parsed in 0.01s\n",
            "model loaded in 0.01s\n",
            "Steady state has been FOUND\n"
          ]
        },
        {
          "output_type": "stream",
          "name": "stderr",
          "text": [
            "Warning message:\n",
            "“the following variables will not be log-linearised as their steady-state values are equal or close to zero: \"pi\", \"PI\"”\n"
          ]
        },
        {
          "output_type": "stream",
          "name": "stdout",
          "text": [
            "Model has been SOLVED\n",
            "model parsed in 0.01s\n",
            "model loaded in 0.01s\n",
            "Steady state has been FOUND\n"
          ]
        },
        {
          "output_type": "stream",
          "name": "stderr",
          "text": [
            "Warning message:\n",
            "“the following variables will not be log-linearised as their steady-state values are equal or close to zero: \"pi\", \"PI\"”\n"
          ]
        },
        {
          "output_type": "stream",
          "name": "stdout",
          "text": [
            "Model has been SOLVED\n",
            "model parsed in 0.01s\n",
            "model loaded in 0.01s\n",
            "Steady state has been FOUND\n"
          ]
        },
        {
          "output_type": "stream",
          "name": "stderr",
          "text": [
            "Warning message:\n",
            "“the following variables will not be log-linearised as their steady-state values are equal or close to zero: \"pi\", \"PI\"”\n"
          ]
        },
        {
          "output_type": "stream",
          "name": "stdout",
          "text": [
            "Model has been SOLVED\n",
            "model parsed in 0.01s\n",
            "model loaded in 0.01s\n",
            "Steady state has been FOUND\n"
          ]
        },
        {
          "output_type": "stream",
          "name": "stderr",
          "text": [
            "Warning message:\n",
            "“the following variables will not be log-linearised as their steady-state values are equal or close to zero: \"pi\", \"PI\"”\n"
          ]
        },
        {
          "output_type": "stream",
          "name": "stdout",
          "text": [
            "Model has been SOLVED\n",
            "model parsed in 0.01s\n",
            "model loaded in 0.01s\n",
            "Steady state has been FOUND\n"
          ]
        },
        {
          "output_type": "stream",
          "name": "stderr",
          "text": [
            "Warning message:\n",
            "“the following variables will not be log-linearised as their steady-state values are equal or close to zero: \"pi\", \"PI\"”\n"
          ]
        },
        {
          "output_type": "stream",
          "name": "stdout",
          "text": [
            "Model has been SOLVED\n",
            "model parsed in 0.01s\n",
            "model loaded in 0.01s\n",
            "Steady state has been FOUND\n"
          ]
        },
        {
          "output_type": "stream",
          "name": "stderr",
          "text": [
            "Warning message:\n",
            "“the following variables will not be log-linearised as their steady-state values are equal or close to zero: \"pi\", \"PI\"”\n"
          ]
        },
        {
          "output_type": "stream",
          "name": "stdout",
          "text": [
            "Model has been SOLVED\n",
            "model parsed in 0.01s\n",
            "model loaded in 0.01s\n",
            "Steady state has been FOUND\n"
          ]
        },
        {
          "output_type": "stream",
          "name": "stderr",
          "text": [
            "Warning message:\n",
            "“the following variables will not be log-linearised as their steady-state values are equal or close to zero: \"pi\", \"PI\"”\n"
          ]
        },
        {
          "output_type": "stream",
          "name": "stdout",
          "text": [
            "Model has been SOLVED\n",
            "model parsed in 0.01s\n",
            "model loaded in 0.01s\n",
            "Steady state has been FOUND\n"
          ]
        },
        {
          "output_type": "stream",
          "name": "stderr",
          "text": [
            "Warning message:\n",
            "“the following variables will not be log-linearised as their steady-state values are equal or close to zero: \"pi\", \"PI\"”\n"
          ]
        },
        {
          "output_type": "stream",
          "name": "stdout",
          "text": [
            "Model has been SOLVED\n"
          ]
        }
      ]
    },
    {
      "cell_type": "code",
      "source": [
        "out_all <- do.call(\"rbind\",out_all)\n",
        "head(out_all)"
      ],
      "metadata": {
        "colab": {
          "base_uri": "https://localhost:8080/",
          "height": 410
        },
        "id": "s4QMQ0e49Jud",
        "outputId": "762414af-d8e8-41b6-b514-ce363afdbfc0"
      },
      "execution_count": 17,
      "outputs": [
        {
          "output_type": "display_data",
          "data": {
            "text/html": [
              "<table class=\"dataframe\">\n",
              "<caption>A data.frame: 6 × 15</caption>\n",
              "<thead>\n",
              "\t<tr><th></th><th scope=col>Var2</th><th scope=col>C</th><th scope=col>C_1</th><th scope=col>C_2</th><th scope=col>L_s</th><th scope=col>L_1_s</th><th scope=col>L_2_s</th><th scope=col>K_s</th><th scope=col>K_1_s</th><th scope=col>I</th><th scope=col>I_1</th><th scope=col>Y</th><th scope=col>A</th><th scope=col>Case</th><th scope=col>ShockType</th></tr>\n",
              "\t<tr><th></th><th scope=col>&lt;fct&gt;</th><th scope=col>&lt;dbl&gt;</th><th scope=col>&lt;dbl&gt;</th><th scope=col>&lt;dbl&gt;</th><th scope=col>&lt;dbl&gt;</th><th scope=col>&lt;dbl&gt;</th><th scope=col>&lt;dbl&gt;</th><th scope=col>&lt;dbl&gt;</th><th scope=col>&lt;dbl&gt;</th><th scope=col>&lt;dbl&gt;</th><th scope=col>&lt;dbl&gt;</th><th scope=col>&lt;dbl&gt;</th><th scope=col>&lt;dbl&gt;</th><th scope=col>&lt;chr&gt;</th><th scope=col>&lt;chr&gt;</th></tr>\n",
              "</thead>\n",
              "<tbody>\n",
              "\t<tr><th scope=row>1</th><td>1</td><td>0.003290261</td><td>0.002358608</td><td>0.004344904</td><td>0.0018717019</td><td>0.004205552</td><td>0</td><td>0.000957662</td><td>0.000957662</td><td>0.015961033</td><td>0.015961033</td><td>0.006216606</td><td>0.005000000</td><td>sd_epsilon_A = 0.5</td><td>A</td></tr>\n",
              "\t<tr><th scope=row>2</th><td>2</td><td>0.003615648</td><td>0.002814885</td><td>0.004522122</td><td>0.0016087425</td><td>0.003614705</td><td>0</td><td>0.001770579</td><td>0.001770579</td><td>0.014506276</td><td>0.014506276</td><td>0.006130864</td><td>0.004750000</td><td>sd_epsilon_A = 0.5</td><td>A</td></tr>\n",
              "\t<tr><th scope=row>3</th><td>3</td><td>0.003875214</td><td>0.003190270</td><td>0.004650581</td><td>0.0013760623</td><td>0.003091893</td><td>0</td><td>0.002455785</td><td>0.002455785</td><td>0.013190679</td><td>0.013190679</td><td>0.006026643</td><td>0.004512500</td><td>sd_epsilon_A = 0.5</td><td>A</td></tr>\n",
              "\t<tr><th scope=row>4</th><td>4</td><td>0.004077264</td><td>0.003494682</td><td>0.004736755</td><td>0.0011704146</td><td>0.002629821</td><td>0</td><td>0.003028472</td><td>0.003028472</td><td>0.012000565</td><td>0.012000565</td><td>0.005907169</td><td>0.004286875</td><td>sd_epsilon_A = 0.5</td><td>A</td></tr>\n",
              "\t<tr><th scope=row>5</th><td>5</td><td>0.004229177</td><td>0.003736950</td><td>0.004786385</td><td>0.0009888904</td><td>0.002221951</td><td>0</td><td>0.003502181</td><td>0.003502181</td><td>0.010923622</td><td>0.010923622</td><td>0.005775275</td><td>0.004072531</td><td>sd_epsilon_A = 0.5</td><td>A</td></tr>\n",
              "\t<tr><th scope=row>6</th><td>6</td><td>0.004337510</td><td>0.003924927</td><td>0.004804559</td><td>0.0008288835</td><td>0.001862430</td><td>0</td><td>0.003888976</td><td>0.003888976</td><td>0.009948764</td><td>0.009948764</td><td>0.005633442</td><td>0.003868905</td><td>sd_epsilon_A = 0.5</td><td>A</td></tr>\n",
              "</tbody>\n",
              "</table>\n"
            ],
            "text/markdown": "\nA data.frame: 6 × 15\n\n| <!--/--> | Var2 &lt;fct&gt; | C &lt;dbl&gt; | C_1 &lt;dbl&gt; | C_2 &lt;dbl&gt; | L_s &lt;dbl&gt; | L_1_s &lt;dbl&gt; | L_2_s &lt;dbl&gt; | K_s &lt;dbl&gt; | K_1_s &lt;dbl&gt; | I &lt;dbl&gt; | I_1 &lt;dbl&gt; | Y &lt;dbl&gt; | A &lt;dbl&gt; | Case &lt;chr&gt; | ShockType &lt;chr&gt; |\n|---|---|---|---|---|---|---|---|---|---|---|---|---|---|---|---|\n| 1 | 1 | 0.003290261 | 0.002358608 | 0.004344904 | 0.0018717019 | 0.004205552 | 0 | 0.000957662 | 0.000957662 | 0.015961033 | 0.015961033 | 0.006216606 | 0.005000000 | sd_epsilon_A = 0.5 | A |\n| 2 | 2 | 0.003615648 | 0.002814885 | 0.004522122 | 0.0016087425 | 0.003614705 | 0 | 0.001770579 | 0.001770579 | 0.014506276 | 0.014506276 | 0.006130864 | 0.004750000 | sd_epsilon_A = 0.5 | A |\n| 3 | 3 | 0.003875214 | 0.003190270 | 0.004650581 | 0.0013760623 | 0.003091893 | 0 | 0.002455785 | 0.002455785 | 0.013190679 | 0.013190679 | 0.006026643 | 0.004512500 | sd_epsilon_A = 0.5 | A |\n| 4 | 4 | 0.004077264 | 0.003494682 | 0.004736755 | 0.0011704146 | 0.002629821 | 0 | 0.003028472 | 0.003028472 | 0.012000565 | 0.012000565 | 0.005907169 | 0.004286875 | sd_epsilon_A = 0.5 | A |\n| 5 | 5 | 0.004229177 | 0.003736950 | 0.004786385 | 0.0009888904 | 0.002221951 | 0 | 0.003502181 | 0.003502181 | 0.010923622 | 0.010923622 | 0.005775275 | 0.004072531 | sd_epsilon_A = 0.5 | A |\n| 6 | 6 | 0.004337510 | 0.003924927 | 0.004804559 | 0.0008288835 | 0.001862430 | 0 | 0.003888976 | 0.003888976 | 0.009948764 | 0.009948764 | 0.005633442 | 0.003868905 | sd_epsilon_A = 0.5 | A |\n\n",
            "text/latex": "A data.frame: 6 × 15\n\\begin{tabular}{r|lllllllllllllll}\n  & Var2 & C & C\\_1 & C\\_2 & L\\_s & L\\_1\\_s & L\\_2\\_s & K\\_s & K\\_1\\_s & I & I\\_1 & Y & A & Case & ShockType\\\\\n  & <fct> & <dbl> & <dbl> & <dbl> & <dbl> & <dbl> & <dbl> & <dbl> & <dbl> & <dbl> & <dbl> & <dbl> & <dbl> & <chr> & <chr>\\\\\n\\hline\n\t1 & 1 & 0.003290261 & 0.002358608 & 0.004344904 & 0.0018717019 & 0.004205552 & 0 & 0.000957662 & 0.000957662 & 0.015961033 & 0.015961033 & 0.006216606 & 0.005000000 & sd\\_epsilon\\_A = 0.5 & A\\\\\n\t2 & 2 & 0.003615648 & 0.002814885 & 0.004522122 & 0.0016087425 & 0.003614705 & 0 & 0.001770579 & 0.001770579 & 0.014506276 & 0.014506276 & 0.006130864 & 0.004750000 & sd\\_epsilon\\_A = 0.5 & A\\\\\n\t3 & 3 & 0.003875214 & 0.003190270 & 0.004650581 & 0.0013760623 & 0.003091893 & 0 & 0.002455785 & 0.002455785 & 0.013190679 & 0.013190679 & 0.006026643 & 0.004512500 & sd\\_epsilon\\_A = 0.5 & A\\\\\n\t4 & 4 & 0.004077264 & 0.003494682 & 0.004736755 & 0.0011704146 & 0.002629821 & 0 & 0.003028472 & 0.003028472 & 0.012000565 & 0.012000565 & 0.005907169 & 0.004286875 & sd\\_epsilon\\_A = 0.5 & A\\\\\n\t5 & 5 & 0.004229177 & 0.003736950 & 0.004786385 & 0.0009888904 & 0.002221951 & 0 & 0.003502181 & 0.003502181 & 0.010923622 & 0.010923622 & 0.005775275 & 0.004072531 & sd\\_epsilon\\_A = 0.5 & A\\\\\n\t6 & 6 & 0.004337510 & 0.003924927 & 0.004804559 & 0.0008288835 & 0.001862430 & 0 & 0.003888976 & 0.003888976 & 0.009948764 & 0.009948764 & 0.005633442 & 0.003868905 & sd\\_epsilon\\_A = 0.5 & A\\\\\n\\end{tabular}\n",
            "text/plain": [
              "  Var2 C           C_1         C_2         L_s          L_1_s       L_2_s\n",
              "1 1    0.003290261 0.002358608 0.004344904 0.0018717019 0.004205552 0    \n",
              "2 2    0.003615648 0.002814885 0.004522122 0.0016087425 0.003614705 0    \n",
              "3 3    0.003875214 0.003190270 0.004650581 0.0013760623 0.003091893 0    \n",
              "4 4    0.004077264 0.003494682 0.004736755 0.0011704146 0.002629821 0    \n",
              "5 5    0.004229177 0.003736950 0.004786385 0.0009888904 0.002221951 0    \n",
              "6 6    0.004337510 0.003924927 0.004804559 0.0008288835 0.001862430 0    \n",
              "  K_s         K_1_s       I           I_1         Y           A          \n",
              "1 0.000957662 0.000957662 0.015961033 0.015961033 0.006216606 0.005000000\n",
              "2 0.001770579 0.001770579 0.014506276 0.014506276 0.006130864 0.004750000\n",
              "3 0.002455785 0.002455785 0.013190679 0.013190679 0.006026643 0.004512500\n",
              "4 0.003028472 0.003028472 0.012000565 0.012000565 0.005907169 0.004286875\n",
              "5 0.003502181 0.003502181 0.010923622 0.010923622 0.005775275 0.004072531\n",
              "6 0.003888976 0.003888976 0.009948764 0.009948764 0.005633442 0.003868905\n",
              "  Case               ShockType\n",
              "1 sd_epsilon_A = 0.5 A        \n",
              "2 sd_epsilon_A = 0.5 A        \n",
              "3 sd_epsilon_A = 0.5 A        \n",
              "4 sd_epsilon_A = 0.5 A        \n",
              "5 sd_epsilon_A = 0.5 A        \n",
              "6 sd_epsilon_A = 0.5 A        "
            ]
          },
          "metadata": {}
        }
      ]
    },
    {
      "cell_type": "code",
      "source": [
        "download.file(\"https://raw.githubusercontent.com/fabian-fuentes/DSGE/main/NonRicardianAgents/nRa_chapter4_B_shock.gcn\",\n",
        "              destfile = \"nRa_chapter4_B_shock.gcn\", mode = \"wb\")"
      ],
      "metadata": {
        "id": "8zfSqxSU9YKz"
      },
      "execution_count": 18,
      "outputs": []
    },
    {
      "cell_type": "code",
      "source": [
        "#now lets run an intertemporal substitution shock\n",
        "gcn.file<-\"nRa_chapter4_B_shock.gcn\"\n",
        "sdepsilon_Bvector<-seq(0.5,1.5, by= 0.1)"
      ],
      "metadata": {
        "id": "G8_ew9279UWs"
      },
      "execution_count": 19,
      "outputs": []
    },
    {
      "cell_type": "code",
      "source": [
        "out_allB <- list()\n",
        "\n",
        "for (i in 1:length(sdepsilon_Bvector))\n",
        "{\n",
        "#i<-1\n",
        " model <- make_model(gcn.file)\n",
        "\n",
        "#set initial conditions\n",
        "  model <- initval_var(model, list(C = 0.8,\n",
        "                                    C_1=0.8,\n",
        "                                    C_2 = 0.2,\n",
        "                                    L_s = 0.3,\n",
        "                                    L_1_s = 0.3,\n",
        "                                    L_2_s = 0.3,\n",
        "                                    K_s = 3.5,\n",
        "                                    K_1_s = 4.0,\n",
        "                                    I = 0.2,\n",
        "                                    I_1 = 0.3,\n",
        "                                    Y = 1.0,\n",
        "                                    A = 1.0,\n",
        "                                    W=(1-0.350)*(1.0/0.3),\n",
        "                                    r=(0.350)*(1.0/3.5),\n",
        "                                    pi=1.0,\n",
        "                                    PI=1.0 ,\n",
        "                                    U_1 = 1.0,\n",
        "                                    U_2 = 2.0,\n",
        "                                    B= 1))\n",
        "\n",
        "#define steady state\n",
        " model <- steady_state(model)\n",
        "\n",
        "#Solving for dynamics\n",
        " model <- solve_pert(model)\n",
        "\n",
        "#Introducing shocks\n",
        "  model <- set_shock_distr_par(model = model, distr_par = list(\"sd(epsilon_B)\" = sdepsilon_Bvector[i]*0.01))\n",
        "\n",
        "#Compute Impulse Response Function (IRFs)\n",
        "  model_irf <- compute_irf(model = model, variables = c('C','C_1','C_2','L_s','L_1_s','L_2_s','K_s','K_1_s','I','I_1','Y','A'), sim_length = 40)\n",
        "\n",
        "#Extract simulation values\n",
        "  out <- as.data.frame.table(model_irf@sim)\n",
        "  out<-dcast(out,Var2  ~ Var1 , value.var=\"Freq\")\n",
        "  out$Case<-paste0(\"sd_epsilon_B = \",sdepsilon_Bvector[i])\n",
        "  out$ShockType <- \"B\"\n",
        "#save ouput\n",
        "  out_allB <- append(out_allB,list(out))\n",
        "}"
      ],
      "metadata": {
        "colab": {
          "base_uri": "https://localhost:8080/"
        },
        "id": "iBQ3CtKi9dh6",
        "outputId": "085c6d34-322c-40b1-c81c-648418dee850"
      },
      "execution_count": 20,
      "outputs": [
        {
          "output_type": "stream",
          "name": "stdout",
          "text": [
            "model parsed in 0.01s\n",
            "model loaded in 0.01s\n",
            "Steady state has been FOUND\n"
          ]
        },
        {
          "output_type": "stream",
          "name": "stderr",
          "text": [
            "Warning message:\n",
            "“the following variables will not be log-linearised as their steady-state values are equal or close to zero: \"pi\", \"PI\"”\n"
          ]
        },
        {
          "output_type": "stream",
          "name": "stdout",
          "text": [
            "Model has been SOLVED\n",
            "model parsed in 0.01s\n",
            "model loaded in 0.02s\n",
            "Steady state has been FOUND\n"
          ]
        },
        {
          "output_type": "stream",
          "name": "stderr",
          "text": [
            "Warning message:\n",
            "“the following variables will not be log-linearised as their steady-state values are equal or close to zero: \"pi\", \"PI\"”\n"
          ]
        },
        {
          "output_type": "stream",
          "name": "stdout",
          "text": [
            "Model has been SOLVED\n",
            "model parsed in 0.01s\n",
            "model loaded in 0.01s\n",
            "Steady state has been FOUND\n"
          ]
        },
        {
          "output_type": "stream",
          "name": "stderr",
          "text": [
            "Warning message:\n",
            "“the following variables will not be log-linearised as their steady-state values are equal or close to zero: \"pi\", \"PI\"”\n"
          ]
        },
        {
          "output_type": "stream",
          "name": "stdout",
          "text": [
            "Model has been SOLVED\n",
            "model parsed in 0.01s\n",
            "model loaded in 0.01s\n",
            "Steady state has been FOUND\n"
          ]
        },
        {
          "output_type": "stream",
          "name": "stderr",
          "text": [
            "Warning message:\n",
            "“the following variables will not be log-linearised as their steady-state values are equal or close to zero: \"pi\", \"PI\"”\n"
          ]
        },
        {
          "output_type": "stream",
          "name": "stdout",
          "text": [
            "Model has been SOLVED\n",
            "model parsed in 0.01s\n",
            "model loaded in 0.01s\n",
            "Steady state has been FOUND\n"
          ]
        },
        {
          "output_type": "stream",
          "name": "stderr",
          "text": [
            "Warning message:\n",
            "“the following variables will not be log-linearised as their steady-state values are equal or close to zero: \"pi\", \"PI\"”\n"
          ]
        },
        {
          "output_type": "stream",
          "name": "stdout",
          "text": [
            "Model has been SOLVED\n",
            "model parsed in 0.01s\n",
            "model loaded in 0.01s\n",
            "Steady state has been FOUND\n"
          ]
        },
        {
          "output_type": "stream",
          "name": "stderr",
          "text": [
            "Warning message:\n",
            "“the following variables will not be log-linearised as their steady-state values are equal or close to zero: \"pi\", \"PI\"”\n"
          ]
        },
        {
          "output_type": "stream",
          "name": "stdout",
          "text": [
            "Model has been SOLVED\n",
            "model parsed in 0.01s\n",
            "model loaded in 0.01s\n",
            "Steady state has been FOUND\n"
          ]
        },
        {
          "output_type": "stream",
          "name": "stderr",
          "text": [
            "Warning message:\n",
            "“the following variables will not be log-linearised as their steady-state values are equal or close to zero: \"pi\", \"PI\"”\n"
          ]
        },
        {
          "output_type": "stream",
          "name": "stdout",
          "text": [
            "Model has been SOLVED\n",
            "model parsed in 0.01s\n",
            "model loaded in 0.01s\n",
            "Steady state has been FOUND\n"
          ]
        },
        {
          "output_type": "stream",
          "name": "stderr",
          "text": [
            "Warning message:\n",
            "“the following variables will not be log-linearised as their steady-state values are equal or close to zero: \"pi\", \"PI\"”\n"
          ]
        },
        {
          "output_type": "stream",
          "name": "stdout",
          "text": [
            "Model has been SOLVED\n",
            "model parsed in 0.01s\n",
            "model loaded in 0.02s\n",
            "Steady state has been FOUND\n"
          ]
        },
        {
          "output_type": "stream",
          "name": "stderr",
          "text": [
            "Warning message:\n",
            "“the following variables will not be log-linearised as their steady-state values are equal or close to zero: \"pi\", \"PI\"”\n"
          ]
        },
        {
          "output_type": "stream",
          "name": "stdout",
          "text": [
            "Model has been SOLVED\n",
            "model parsed in 0.01s\n",
            "model loaded in 0.01s\n",
            "Steady state has been FOUND\n"
          ]
        },
        {
          "output_type": "stream",
          "name": "stderr",
          "text": [
            "Warning message:\n",
            "“the following variables will not be log-linearised as their steady-state values are equal or close to zero: \"pi\", \"PI\"”\n"
          ]
        },
        {
          "output_type": "stream",
          "name": "stdout",
          "text": [
            "Model has been SOLVED\n",
            "model parsed in 0.01s\n",
            "model loaded in 0.01s\n",
            "Steady state has been FOUND\n"
          ]
        },
        {
          "output_type": "stream",
          "name": "stderr",
          "text": [
            "Warning message:\n",
            "“the following variables will not be log-linearised as their steady-state values are equal or close to zero: \"pi\", \"PI\"”\n"
          ]
        },
        {
          "output_type": "stream",
          "name": "stdout",
          "text": [
            "Model has been SOLVED\n"
          ]
        }
      ]
    },
    {
      "cell_type": "code",
      "source": [
        "out_allB <- do.call(\"rbind\",out_allB)\n",
        "head(out_allB)"
      ],
      "metadata": {
        "colab": {
          "base_uri": "https://localhost:8080/",
          "height": 390
        },
        "id": "1sx7_2gs9kO6",
        "outputId": "a1f08d17-cd24-4754-8a16-e7fc7c9dab01"
      },
      "execution_count": 21,
      "outputs": [
        {
          "output_type": "display_data",
          "data": {
            "text/html": [
              "<table class=\"dataframe\">\n",
              "<caption>A data.frame: 6 × 15</caption>\n",
              "<thead>\n",
              "\t<tr><th></th><th scope=col>Var2</th><th scope=col>C</th><th scope=col>C_1</th><th scope=col>C_2</th><th scope=col>L_s</th><th scope=col>L_1_s</th><th scope=col>L_2_s</th><th scope=col>K_s</th><th scope=col>K_1_s</th><th scope=col>I</th><th scope=col>I_1</th><th scope=col>Y</th><th scope=col>A</th><th scope=col>Case</th><th scope=col>ShockType</th></tr>\n",
              "\t<tr><th></th><th scope=col>&lt;fct&gt;</th><th scope=col>&lt;dbl&gt;</th><th scope=col>&lt;dbl&gt;</th><th scope=col>&lt;dbl&gt;</th><th scope=col>&lt;dbl&gt;</th><th scope=col>&lt;dbl&gt;</th><th scope=col>&lt;dbl&gt;</th><th scope=col>&lt;dbl&gt;</th><th scope=col>&lt;dbl&gt;</th><th scope=col>&lt;dbl&gt;</th><th scope=col>&lt;dbl&gt;</th><th scope=col>&lt;dbl&gt;</th><th scope=col>&lt;dbl&gt;</th><th scope=col>&lt;chr&gt;</th><th scope=col>&lt;chr&gt;</th></tr>\n",
              "</thead>\n",
              "<tbody>\n",
              "\t<tr><th scope=row>1</th><td>1</td><td>-0.0182340466</td><td>-0.028169949</td><td>-0.0069864734</td><td>0.01996135</td><td>0.04485143</td><td>0</td><td>0.007013843</td><td>0.007013843</td><td>0.11689738</td><td>0.11689738</td><td>0.01297488</td><td>0</td><td>sd_epsilon_B = 0.5</td><td>B</td></tr>\n",
              "\t<tr><th scope=row>2</th><td>2</td><td>-0.0137343570</td><td>-0.022556005</td><td>-0.0037481351</td><td>0.01772280</td><td>0.03982160</td><td>0</td><td>0.012967584</td><td>0.012967584</td><td>0.10624285</td><td>0.10624285</td><td>0.01397467</td><td>0</td><td>sd_epsilon_B = 0.5</td><td>B</td></tr>\n",
              "\t<tr><th scope=row>3</th><td>3</td><td>-0.0098225564</td><td>-0.017648115</td><td>-0.0009639211</td><td>0.01572164</td><td>0.03532518</td><td>0</td><td>0.017985980</td><td>0.017985980</td><td>0.09660752</td><td>0.09660752</td><td>0.01475772</td><td>0</td><td>sd_epsilon_B = 0.5</td><td>B</td></tr>\n",
              "\t<tr><th scope=row>4</th><td>4</td><td>-0.0064325446</td><td>-0.013367953</td><td> 0.0014184299</td><td>0.01393332</td><td>0.03130697</td><td>0</td><td>0.022180294</td><td>0.022180294</td><td>0.08789122</td><td>0.08789122</td><td>0.01535175</td><td>0</td><td>sd_epsilon_B = 0.5</td><td>B</td></tr>\n",
              "\t<tr><th scope=row>5</th><td>5</td><td>-0.0035052389</td><td>-0.009645464</td><td> 0.0034455769</td><td>0.01233579</td><td>0.02771745</td><td>0</td><td>0.025649703</td><td>0.025649703</td><td>0.08000377</td><td>0.08000377</td><td>0.01578137</td><td>0</td><td>sd_epsilon_B = 0.5</td><td>B</td></tr>\n",
              "\t<tr><th scope=row>6</th><td>6</td><td>-0.0009878481</td><td>-0.006418003</td><td> 0.0051591589</td><td>0.01090925</td><td>0.02451214</td><td>0</td><td>0.028482559</td><td>0.028482559</td><td>0.07286398</td><td>0.07286398</td><td>0.01606841</td><td>0</td><td>sd_epsilon_B = 0.5</td><td>B</td></tr>\n",
              "</tbody>\n",
              "</table>\n"
            ],
            "text/markdown": "\nA data.frame: 6 × 15\n\n| <!--/--> | Var2 &lt;fct&gt; | C &lt;dbl&gt; | C_1 &lt;dbl&gt; | C_2 &lt;dbl&gt; | L_s &lt;dbl&gt; | L_1_s &lt;dbl&gt; | L_2_s &lt;dbl&gt; | K_s &lt;dbl&gt; | K_1_s &lt;dbl&gt; | I &lt;dbl&gt; | I_1 &lt;dbl&gt; | Y &lt;dbl&gt; | A &lt;dbl&gt; | Case &lt;chr&gt; | ShockType &lt;chr&gt; |\n|---|---|---|---|---|---|---|---|---|---|---|---|---|---|---|---|\n| 1 | 1 | -0.0182340466 | -0.028169949 | -0.0069864734 | 0.01996135 | 0.04485143 | 0 | 0.007013843 | 0.007013843 | 0.11689738 | 0.11689738 | 0.01297488 | 0 | sd_epsilon_B = 0.5 | B |\n| 2 | 2 | -0.0137343570 | -0.022556005 | -0.0037481351 | 0.01772280 | 0.03982160 | 0 | 0.012967584 | 0.012967584 | 0.10624285 | 0.10624285 | 0.01397467 | 0 | sd_epsilon_B = 0.5 | B |\n| 3 | 3 | -0.0098225564 | -0.017648115 | -0.0009639211 | 0.01572164 | 0.03532518 | 0 | 0.017985980 | 0.017985980 | 0.09660752 | 0.09660752 | 0.01475772 | 0 | sd_epsilon_B = 0.5 | B |\n| 4 | 4 | -0.0064325446 | -0.013367953 |  0.0014184299 | 0.01393332 | 0.03130697 | 0 | 0.022180294 | 0.022180294 | 0.08789122 | 0.08789122 | 0.01535175 | 0 | sd_epsilon_B = 0.5 | B |\n| 5 | 5 | -0.0035052389 | -0.009645464 |  0.0034455769 | 0.01233579 | 0.02771745 | 0 | 0.025649703 | 0.025649703 | 0.08000377 | 0.08000377 | 0.01578137 | 0 | sd_epsilon_B = 0.5 | B |\n| 6 | 6 | -0.0009878481 | -0.006418003 |  0.0051591589 | 0.01090925 | 0.02451214 | 0 | 0.028482559 | 0.028482559 | 0.07286398 | 0.07286398 | 0.01606841 | 0 | sd_epsilon_B = 0.5 | B |\n\n",
            "text/latex": "A data.frame: 6 × 15\n\\begin{tabular}{r|lllllllllllllll}\n  & Var2 & C & C\\_1 & C\\_2 & L\\_s & L\\_1\\_s & L\\_2\\_s & K\\_s & K\\_1\\_s & I & I\\_1 & Y & A & Case & ShockType\\\\\n  & <fct> & <dbl> & <dbl> & <dbl> & <dbl> & <dbl> & <dbl> & <dbl> & <dbl> & <dbl> & <dbl> & <dbl> & <dbl> & <chr> & <chr>\\\\\n\\hline\n\t1 & 1 & -0.0182340466 & -0.028169949 & -0.0069864734 & 0.01996135 & 0.04485143 & 0 & 0.007013843 & 0.007013843 & 0.11689738 & 0.11689738 & 0.01297488 & 0 & sd\\_epsilon\\_B = 0.5 & B\\\\\n\t2 & 2 & -0.0137343570 & -0.022556005 & -0.0037481351 & 0.01772280 & 0.03982160 & 0 & 0.012967584 & 0.012967584 & 0.10624285 & 0.10624285 & 0.01397467 & 0 & sd\\_epsilon\\_B = 0.5 & B\\\\\n\t3 & 3 & -0.0098225564 & -0.017648115 & -0.0009639211 & 0.01572164 & 0.03532518 & 0 & 0.017985980 & 0.017985980 & 0.09660752 & 0.09660752 & 0.01475772 & 0 & sd\\_epsilon\\_B = 0.5 & B\\\\\n\t4 & 4 & -0.0064325446 & -0.013367953 &  0.0014184299 & 0.01393332 & 0.03130697 & 0 & 0.022180294 & 0.022180294 & 0.08789122 & 0.08789122 & 0.01535175 & 0 & sd\\_epsilon\\_B = 0.5 & B\\\\\n\t5 & 5 & -0.0035052389 & -0.009645464 &  0.0034455769 & 0.01233579 & 0.02771745 & 0 & 0.025649703 & 0.025649703 & 0.08000377 & 0.08000377 & 0.01578137 & 0 & sd\\_epsilon\\_B = 0.5 & B\\\\\n\t6 & 6 & -0.0009878481 & -0.006418003 &  0.0051591589 & 0.01090925 & 0.02451214 & 0 & 0.028482559 & 0.028482559 & 0.07286398 & 0.07286398 & 0.01606841 & 0 & sd\\_epsilon\\_B = 0.5 & B\\\\\n\\end{tabular}\n",
            "text/plain": [
              "  Var2 C             C_1          C_2           L_s        L_1_s      L_2_s\n",
              "1 1    -0.0182340466 -0.028169949 -0.0069864734 0.01996135 0.04485143 0    \n",
              "2 2    -0.0137343570 -0.022556005 -0.0037481351 0.01772280 0.03982160 0    \n",
              "3 3    -0.0098225564 -0.017648115 -0.0009639211 0.01572164 0.03532518 0    \n",
              "4 4    -0.0064325446 -0.013367953  0.0014184299 0.01393332 0.03130697 0    \n",
              "5 5    -0.0035052389 -0.009645464  0.0034455769 0.01233579 0.02771745 0    \n",
              "6 6    -0.0009878481 -0.006418003  0.0051591589 0.01090925 0.02451214 0    \n",
              "  K_s         K_1_s       I          I_1        Y          A Case              \n",
              "1 0.007013843 0.007013843 0.11689738 0.11689738 0.01297488 0 sd_epsilon_B = 0.5\n",
              "2 0.012967584 0.012967584 0.10624285 0.10624285 0.01397467 0 sd_epsilon_B = 0.5\n",
              "3 0.017985980 0.017985980 0.09660752 0.09660752 0.01475772 0 sd_epsilon_B = 0.5\n",
              "4 0.022180294 0.022180294 0.08789122 0.08789122 0.01535175 0 sd_epsilon_B = 0.5\n",
              "5 0.025649703 0.025649703 0.08000377 0.08000377 0.01578137 0 sd_epsilon_B = 0.5\n",
              "6 0.028482559 0.028482559 0.07286398 0.07286398 0.01606841 0 sd_epsilon_B = 0.5\n",
              "  ShockType\n",
              "1 B        \n",
              "2 B        \n",
              "3 B        \n",
              "4 B        \n",
              "5 B        \n",
              "6 B        "
            ]
          },
          "metadata": {}
        }
      ]
    },
    {
      "cell_type": "code",
      "source": [
        "#print simulation\n",
        " out_all<-rbind(out_all,out_allB)\n",
        " write.csv(out_all,\"out_sentivity_TFP.csv\",row.names=FALSE)"
      ],
      "metadata": {
        "id": "T6BmsVzz9mNY"
      },
      "execution_count": 22,
      "outputs": []
    },
    {
      "cell_type": "code",
      "source": [
        "#simulate the behavior of the economy using random path for shocks\n",
        "#create a model from gcc.file\n",
        "  gcn.file<-\"nRa_chapter4.gcn\"\n",
        "  model <- make_model(gcn.file)"
      ],
      "metadata": {
        "colab": {
          "base_uri": "https://localhost:8080/"
        },
        "id": "Ok52bojW95p5",
        "outputId": "2ac8cedd-68ab-4e9d-c03b-055d6c8a995d"
      },
      "execution_count": 23,
      "outputs": [
        {
          "output_type": "stream",
          "name": "stdout",
          "text": [
            "model parsed in 0.01s\n",
            "model loaded in 0.01s\n"
          ]
        }
      ]
    },
    {
      "cell_type": "code",
      "source": [
        "#set initial conditions\n",
        "  model <- initval_var(model, list(C = 0.8,\n",
        "                                    C_1=0.8,\n",
        "                                    C_2 = 0.2,\n",
        "                                    L_s = 0.3,\n",
        "                                    L_1_s = 0.3,\n",
        "                                    L_2_s = 0.3,\n",
        "                                    K_s = 3.5,\n",
        "                                    K_1_s = 4.0,\n",
        "                                    I = 0.2,\n",
        "                                    I_1 = 0.3,\n",
        "                                    Y = 1.0,\n",
        "                                    A = 1.0,\n",
        "                                    W=(1-0.350)*(1.0/0.3),\n",
        "                                    r=(0.350)*(1.0/3.5),\n",
        "                                    pi=1.0,\n",
        "                                    PI=1.0 ,\n",
        "                                    U_1 = 1.0,\n",
        "                                    U_2 = 2.0 ))\n",
        "\n",
        "#define steady state\n",
        " model <- steady_state(model)\n",
        "\n",
        "#Solving for dynamics\n",
        " model <- solve_pert(model)\n"
      ],
      "metadata": {
        "colab": {
          "base_uri": "https://localhost:8080/"
        },
        "id": "Uzgd-EKr-JTO",
        "outputId": "bcddf899-6d60-4b4d-a9be-4f51318b4129"
      },
      "execution_count": 24,
      "outputs": [
        {
          "output_type": "stream",
          "name": "stdout",
          "text": [
            "Steady state has been FOUND\n"
          ]
        },
        {
          "output_type": "stream",
          "name": "stderr",
          "text": [
            "Warning message:\n",
            "“the following variables will not be log-linearised as their steady-state values are equal or close to zero: \"pi\", \"PI\"”\n"
          ]
        },
        {
          "output_type": "stream",
          "name": "stdout",
          "text": [
            "Model has been SOLVED\n"
          ]
        }
      ]
    },
    {
      "cell_type": "code",
      "source": [
        "#Introducing shocks\n",
        "  model <- set_shock_distr_par(model = model, distr_par = list(\"sd(epsilon_A)\" = 0.01))\n",
        "\n",
        "#Compute random path\n",
        "  model_rp <- random_path(model = model, variables = c('C','C_1','C_2','L_s','L_1_s','L_2_s','K_s','K_1_s','I','I_1','Y','A'), sim_length = 40)\n",
        "\n",
        "#extract values of random path simulation\n",
        "  out <- as.data.frame.table(model_rp@sim)\n",
        "  out<-dcast(out,Var2  ~ Var1 , value.var=\"Freq\")\n",
        "  out$Case<-paste0(\"sd_epsilon_A = \",0.01)\n",
        "  write.csv(out,\"out_random_path.csv\",row.names=FALSE)"
      ],
      "metadata": {
        "id": "UofjWvRr-N84"
      },
      "execution_count": 25,
      "outputs": []
    }
  ]
}