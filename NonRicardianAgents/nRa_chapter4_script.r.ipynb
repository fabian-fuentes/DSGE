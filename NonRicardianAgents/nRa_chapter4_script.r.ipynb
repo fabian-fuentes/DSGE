{
  "nbformat": 4,
  "nbformat_minor": 0,
  "metadata": {
    "colab": {
      "provenance": [],
      "authorship_tag": "ABX9TyP1s2tkha3iiQY9TbtvX60V",
      "include_colab_link": true
    },
    "kernelspec": {
      "name": "ir",
      "display_name": "R"
    },
    "language_info": {
      "name": "R"
    }
  },
  "cells": [
    {
      "cell_type": "markdown",
      "metadata": {
        "id": "view-in-github",
        "colab_type": "text"
      },
      "source": [
  "<a href=\"https://colab.research.google.com/github/fabian-fuentes/DSGE/blob/main/NonRicardianAgents/nRa_chapter4_script.r.ipynb\" target=\"_parent\"><img src=\"https://colab.research.google.com/assets/colab-badge.svg\" alt=\"Open In Colab\"/></a>"
      ]
    },
    {
      "cell_type": "markdown",
      "source": [
        "# Non-Ricardian Agents Analysis"
      ],
      "metadata": {
        "id": "t6Gfot7I-9L7"
      }
    },
    {
      "cell_type": "code",
      "execution_count": 1,
      "metadata": {
        "colab": {
          "base_uri": "https://localhost:8080/"
        },
        "id": "gYfHf1Cu-FT1",
        "outputId": "c45183c7-30d6-4fe1-a0e0-0e209b1313f0"
      },
      "outputs": [
        {
          "output_type": "stream",
          "name": "stderr",
          "text": [
            "Installing package into ‘/usr/local/lib/R/site-library’\n",
            "(as ‘lib’ is unspecified)\n",
            "\n",
            "Installing package into ‘/usr/local/lib/R/site-library’\n",
            "(as ‘lib’ is unspecified)\n",
            "\n",
            "Installing package into ‘/usr/local/lib/R/site-library’\n",
            "(as ‘lib’ is unspecified)\n",
            "\n",
            "Installing package into ‘/usr/local/lib/R/site-library’\n",
            "(as ‘lib’ is unspecified)\n",
            "\n"
          ]
        }
      ],
      "source": [
        "# install packages\n",
        "install.packages('nleqslv')\n",
        "install.packages('Rcpp')\n",
        "install.packages('reshape2')\n",
        "install.packages(\"https://gecon.r-forge.r-project.org/files/gEcon_1.2.3.tar.gz\", repos = NULL, type = \"source\")"
      ]
    },
    {
      "cell_type": "code",
      "source": [
        "library(nleqslv)\n",
        "library(Rcpp)\n",
        "library(gEcon)"
      ],
      "metadata": {
        "colab": {
          "base_uri": "https://localhost:8080/"
        },
        "id": "O45UuAEU-60T",
        "outputId": "ca3840c4-e828-4498-c575-015dc75d49c3"
      },
      "execution_count": 2,
      "outputs": [
        {
          "output_type": "stream",
          "name": "stderr",
          "text": [
            "Loading required package: MASS\n",
            "\n",
            "Loading required package: Matrix\n",
            "\n",
            "This is gEcon version 1.2.3 (2025-04-13)\n",
            "http://gecon.r-forge.r-project.org/\n",
            "\n"
          ]
        }
      ]
    },
    {
      "cell_type": "code",
      "source": [
        "download.file(\"https://raw.githubusercontent.com/fabian-fuentes/DSGE/main/NonRicardianAgents/nRa_chapter4.gcn\",\n",
        "              destfile = \"nRa_chapter4.gcn\", mode = \"wb\")"
      ],
      "metadata": {
        "id": "OJK4XLlb_gpQ"
      },
      "execution_count": 3,
      "outputs": []
    },
    {
      "cell_type": "code",
      "source": [
        " gcn.file<-\"nRa_chapter4.gcn\""
      ],
      "metadata": {
        "id": "rggUpqY0jkcC"
      },
      "execution_count": 4,
      "outputs": []
    },
    {
      "cell_type": "code",
      "source": [
        "#create a model from gcc.file\n",
        "model <- make_model(gcn.file)"
      ],
      "metadata": {
        "colab": {
          "base_uri": "https://localhost:8080/"
        },
        "id": "ikijplDGCbgJ",
        "outputId": "0cd228d9-9996-47c1-ce8c-ce4b0f272a71"
      },
      "execution_count": 5,
      "outputs": [
        {
          "output_type": "stream",
          "name": "stdout",
          "text": [
            "model parsed in 0.01s\n",
            "model loaded in 0.06s\n"
          ]
        }
      ]
    },
    {
      "cell_type": "code",
      "source": [
        "#set parameter values\n",
        "\n",
        "#set initial conditions\n",
        "  model <- initval_var(model, list(C = 0.8,\n",
        "                                    C_1=0.8,\n",
        "                                    C_2 = 0.2,\n",
        "                                    L_s = 0.3,\n",
        "                                    L_1_s = 0.3,\n",
        "                                    L_2_s = 0.3,\n",
        "                                    K_s = 3.5,\n",
        "                                    K_1_s = 4.0,\n",
        "                                    I = 0.2,\n",
        "                                    I_1 = 0.3,\n",
        "                                    Y = 1.0,\n",
        "                                    A = 1.0,\n",
        "                                    W=(1-0.350)*(1.0/0.3),\n",
        "                                    r=(0.350)*(1.0/3.5),\n",
        "                                    pi=1.0,\n",
        "                                    PI=1.0 ,\n",
        "                                    U_1 = 1.0,\n",
        "                                    U_2 = 2.0 ))"
      ],
      "metadata": {
        "id": "CyAJOHPMCXWE"
      },
      "execution_count": 6,
      "outputs": []
    },
    {
      "cell_type": "code",
      "source": [
        "#define steady state\n",
        " model <- steady_state(model)"
      ],
      "metadata": {
        "colab": {
          "base_uri": "https://localhost:8080/"
        },
        "id": "eI3JZRdiC9iO",
        "outputId": "a2689ba5-af20-4542-e1af-c5caf30d583b"
      },
      "execution_count": 7,
      "outputs": [
        {
          "output_type": "stream",
          "name": "stdout",
          "text": [
            "Steady state has been FOUND\n"
          ]
        }
      ]
    },
    {
      "cell_type": "code",
      "source": [
        "#Now to explore output data\n",
        " get_ss_values(model)"
      ],
      "metadata": {
        "colab": {
          "base_uri": "https://localhost:8080/"
        },
        "id": "e6QeOtQYDAmr",
        "outputId": "3f52d37a-d0bd-49a3-a1f1-047100ed4959"
      },
      "execution_count": 8,
      "outputs": [
        {
          "output_type": "stream",
          "name": "stdout",
          "text": [
            "Steady-state values:\n",
            "\n",
            "      Steady-state value\n",
            "pi                0.0000\n",
            "r                 0.0909\n",
            "A                 1.0000\n",
            "C                 0.5727\n",
            "C_1               0.6082\n",
            "C_2               0.5372\n",
            "I                 0.1720\n",
            "I_1               0.3440\n",
            "K_1_s             5.7330\n",
            "K_s               2.8665\n",
            "L_1_s             0.3208\n",
            "L_2_s             0.4000\n",
            "L_s               0.3604\n",
            "PI                0.0000\n",
            "U_1             -14.3672\n",
            "U_2             -18.5005\n",
            "W                 1.3431\n",
            "Y                 0.7447\n"
          ]
        }
      ]
    },
    {
      "cell_type": "code",
      "source": [
        " get_par_values(model)"
      ],
      "metadata": {
        "colab": {
          "base_uri": "https://localhost:8080/"
        },
        "id": "SPvKfJMTDBzM",
        "outputId": "ec05ecf6-4fec-4f01-a1b6-8927fe9e1266"
      },
      "execution_count": 9,
      "outputs": [
        {
          "output_type": "stream",
          "name": "stdout",
          "text": [
            "Model parameters:\n",
            "\n",
            "      Value\n",
            "alpha  0.35\n",
            "beta   0.97\n",
            "delta  0.06\n",
            "gamma  0.40\n",
            "omega  0.50\n",
            "rho    0.95\n"
          ]
        }
      ]
    },
    {
      "cell_type": "code",
      "source": [
        "#Solving for dynamics\n",
        " model <- solve_pert(model)"
      ],
      "metadata": {
        "colab": {
          "base_uri": "https://localhost:8080/"
        },
        "id": "6rf7SeIKDD5u",
        "outputId": "61f387e5-c4b0-402d-8e73-7636a3da475d"
      },
      "execution_count": 10,
      "outputs": [
        {
          "output_type": "stream",
          "name": "stderr",
          "text": [
            "Warning message:\n",
            "“the following variables will not be log-linearised as their steady-state values are equal or close to zero: \"pi\", \"PI\"”\n"
          ]
        },
        {
          "output_type": "stream",
          "name": "stdout",
          "text": [
            "Model has been SOLVED\n"
          ]
        }
      ]
    },
    {
      "cell_type": "code",
      "source": [
        "#printing the results\n",
        " get_pert_solution(model)"
      ],
      "metadata": {
        "colab": {
          "base_uri": "https://localhost:8080/"
        },
        "id": "i4TJ9UNeDFW2",
        "outputId": "73646730-1cc8-4a44-bfdb-746d7886fd16"
      },
      "execution_count": 11,
      "outputs": [
        {
          "output_type": "stream",
          "name": "stdout",
          "text": [
            "\n",
            "Matrix P:\n",
            "\n",
            "        A[-1] K_1_s[-1] K_s[-1]\n",
            "A[]     0.950    0.0000  0.0000\n",
            "K_1_s[] 0.182    0.8841  0.0148\n",
            "K_s[]   0.182    0.8841  0.0148\n",
            "\n",
            "\n",
            "Matrix Q:\n",
            "\n",
            "      epsilon_A\n",
            "A        1.0000\n",
            "K_1_s    0.1915\n",
            "K_s      0.1915\n",
            "\n",
            "\n",
            "Matrix R:\n",
            "\n",
            "         A[-1] K_1_s[-1] K_s[-1]\n",
            "pi[]    0.0000    0.0000  0.0000\n",
            "r[]     1.1812   -0.2716 -0.4933\n",
            "C[]     0.6251    0.3817  0.1298\n",
            "C_1[]   0.4481    0.5897  0.0098\n",
            "C_2[]   0.8255    0.1463  0.2656\n",
            "I[]     3.0326   -0.9318  0.2461\n",
            "I_1[]   3.0326   -0.9318  0.2461\n",
            "L_1_s[] 0.7991   -0.9390  0.5416\n",
            "L_2_s[] 0.0000    0.0000  0.0000\n",
            "L_s[]   0.3556   -0.4179  0.2410\n",
            "PI[]    0.0000    0.0000  0.0000\n",
            "U_1[]   0.3887    0.1992 -0.0077\n",
            "U_2[]   0.3837    0.0628  0.0067\n",
            "W[]     0.8255    0.1463  0.2656\n",
            "Y[]     1.1812   -0.2716  0.5067\n",
            "\n",
            "\n",
            "Matrix S:\n",
            "\n",
            "      epsilon_A\n",
            "pi       0.0000\n",
            "r        1.2433\n",
            "C        0.6581\n",
            "C_1      0.4717\n",
            "C_2      0.8690\n",
            "I        3.1922\n",
            "I_1      3.1922\n",
            "L_1_s    0.8411\n",
            "L_2_s    0.0000\n",
            "L_s      0.3743\n",
            "PI       0.0000\n",
            "U_1      0.4092\n",
            "U_2      0.4039\n",
            "W        0.8690\n",
            "Y        1.2433\n"
          ]
        }
      ]
    },
    {
      "cell_type": "code",
      "source": [
        "#Introducing shocks\n",
        "  model <- set_shock_distr_par(model = model, distr_par = list(\"sd(epsilon_A)\" = 0.01))"
      ],
      "metadata": {
        "id": "HPTAMCxADJQe"
      },
      "execution_count": 12,
      "outputs": []
    },
    {
      "cell_type": "code",
      "source": [
        "  model<- compute_model_stats(model)\n",
        "  get_model_stats(model)"
      ],
      "metadata": {
        "colab": {
          "base_uri": "https://localhost:8080/"
        },
        "id": "KsQOp5RUDK4c",
        "outputId": "ef32ba34-d6fa-4048-f2c6-0e36f9288646"
      },
      "execution_count": 13,
      "outputs": [
        {
          "output_type": "stream",
          "name": "stdout",
          "text": [
            "Basic statistics:\n",
            "\n",
            "      Steady-state value Std. dev. Variance Loglin\n",
            "pi                0.0000    0.0000   0.0000   N   \n",
            "r                 0.0909    0.0163   0.0003   Y   \n",
            "A                 1.0000    0.0130   0.0002   Y   \n",
            "C                 0.5727    0.0102   0.0001   Y   \n",
            "C_1               0.6082    0.0085   0.0001   Y   \n",
            "C_2               0.5372    0.0124   0.0002   Y   \n",
            "I                 0.1720    0.0410   0.0017   Y   \n",
            "I_1               0.3440    0.0410   0.0017   Y   \n",
            "K_1_s             5.7330    0.0081   0.0001   Y   \n",
            "K_s               2.8665    0.0081   0.0001   Y   \n",
            "L_1_s             0.3208    0.0109   0.0001   Y   \n",
            "L_2_s             0.4000    0.0000   0.0000   Y   \n",
            "L_s               0.3604    0.0048   0.0000   Y   \n",
            "PI                0.0000    0.0000   0.0000   N   \n",
            "U_1             -14.3672    0.0058   0.0000   Y   \n",
            "U_2             -18.5005    0.0054   0.0000   Y   \n",
            "W                 1.3431    0.0124   0.0002   Y   \n",
            "Y                 0.7447    0.0167   0.0003   Y   \n",
            "\n",
            "Correlation matrix:\n",
            "\n",
            "      r     A     C   C_1   C_2     I   I_1 K_1_s   K_s L_1_s   L_s   U_1   U_2\n",
            "r     1 0.926 0.696 0.552 0.792 0.969 0.969 0.099 0.099 0.996 0.996 0.794 0.883\n",
            "A           1 0.915 0.825 0.964 0.991 0.991 0.467 0.467 0.956 0.956 0.965 0.995\n",
            "C                 1 0.983  0.99 0.853 0.853 0.783 0.783 0.757 0.757 0.989 0.952\n",
            "C_1                     1 0.946 0.742 0.742 0.885 0.885 0.623 0.623 0.945 0.879\n",
            "C_2                           1 0.919 0.919 0.686 0.686 0.843 0.843     1 0.986\n",
            "I                                   1     1 0.344 0.344 0.987 0.987  0.92 0.972\n",
            "I_1                                       1 0.344 0.344 0.987 0.987  0.92 0.972\n",
            "K_1_s                                           1     1 0.187 0.187 0.683 0.556\n",
            "K_s                                                   1 0.187 0.187 0.683 0.556\n",
            "L_1_s                                                       1     1 0.845 0.921\n",
            "L_s                                                               1 0.845 0.921\n",
            "U_1                                                                     1 0.987\n",
            "U_2                                                                           1\n",
            "W                                                                              \n",
            "Y                                                                              \n",
            "          W     Y\n",
            "r     0.792 0.878\n",
            "A     0.964 0.994\n",
            "C      0.99 0.955\n",
            "C_1   0.946 0.884\n",
            "C_2       1 0.988\n",
            "I     0.919 0.969\n",
            "I_1   0.919 0.969\n",
            "K_1_s 0.686 0.564\n",
            "K_s   0.686 0.564\n",
            "L_1_s 0.843 0.917\n",
            "L_s   0.843 0.917\n",
            "U_1       1 0.988\n",
            "U_2   0.986 1.000\n",
            "W         1 0.988\n",
            "Y           1.000\n",
            "\n",
            "Autocorrelations:\n",
            "\n",
            "      Lag 1 Lag 2 Lag 3 Lag 4  Lag 5\n",
            "r     0.685 0.427 0.221 0.061 -0.060\n",
            "A     0.713 0.471 0.271 0.110 -0.016\n",
            "C     0.811 0.623 0.443 0.279  0.132\n",
            "C_1   0.862 0.702 0.533 0.366  0.209\n",
            "C_2   0.773 0.563 0.375 0.212  0.073\n",
            "I     0.695 0.442 0.238 0.078 -0.045\n",
            "I_1   0.695 0.442 0.238 0.078 -0.045\n",
            "K_1_s 0.953 0.843 0.694 0.523  0.348\n",
            "K_s   0.953 0.843 0.694 0.523  0.348\n",
            "L_1_s 0.684 0.426 0.220 0.060 -0.060\n",
            "L_s   0.684 0.426 0.220 0.060 -0.060\n",
            "U_1   0.772 0.562 0.374 0.210  0.072\n",
            "U_2   0.733 0.502 0.306 0.144  0.000\n",
            "W     0.773 0.563 0.375 0.212  0.073\n",
            "Y     0.735 0.505 0.310 0.148  0.017\n",
            "\n",
            "Variance decomposition:\n",
            "\n",
            "      epsilon_A\n",
            "r             1\n",
            "A             1\n",
            "C             1\n",
            "C_1           1\n",
            "C_2           1\n",
            "I             1\n",
            "I_1           1\n",
            "K_1_s         1\n",
            "K_s           1\n",
            "L_1_s         1\n",
            "L_s           1\n",
            "U_1           1\n",
            "U_2           1\n",
            "W             1\n",
            "Y             1\n"
          ]
        }
      ]
    },
    {
      "cell_type": "code",
      "source": [
        "#Compute Impulse Response Function (IRFs)\n",
        "  model_irf <- compute_irf(model = model, variables = c('C','C_1','C_2','L_s','L_1_s','L_2_s','K_s','K_1_s','I','I_1','Y','A'), sim_length = 40)\n"
      ],
      "metadata": {
        "id": "BoiQFZRYDNvg"
      },
      "execution_count": 14,
      "outputs": []
    },
    {
      "cell_type": "code",
      "source": [
        "#Extract simulation values\n",
        "  library(reshape2)\n",
        "  out <- as.data.frame.table(model_irf@sim)\n",
        "  out<-dcast(out,Var2  ~ Var1 , value.var=\"Freq\")\n",
        "  out$Case<-\"Non-Ricardian Agents omega Medium\"\n",
        "  out$Omega <- 0.5"
      ],
      "metadata": {
        "id": "_Da0EnmYiQh6"
      },
      "execution_count": 15,
      "outputs": []
    },
    {
      "cell_type": "code",
      "source": [
        "#run another case\n",
        "  model1 <- make_model(gcn.file)\n",
        "  model1 <- set_free_par(model1, list(omega = 0.2))\n",
        "  model1 <- initval_var(model1, list(C = 0.8,\n",
        "                                    C_1=0.8,\n",
        "                                    C_2 = 0.2,\n",
        "                                   L_s = 0.3,\n",
        "                                    L_1_s = 0.3,\n",
        "                                    L_2_s = 0.3,\n",
        "                                   K_s = 3.5,\n",
        "                                    K_1_s = 4.0,\n",
        "                                   I = 0.2,\n",
        "                                    I_1 = 0.3,\n",
        "                                   Y = 1.0,\n",
        "                                   A = 1.0,\n",
        "                                   W=(1-0.350)*(1.0/0.3),\n",
        "                                    r=(0.350)*(1.0/3.5),\n",
        "                                    pi=1.0,\n",
        "                                    PI=1.0 ,\n",
        "                                    U_1 = 1.0,\n",
        "                                    U_2 = 2.0))\n",
        " model1 <- steady_state(model1)\n",
        " model1 <- set_shock_distr_par(model = model1, distr_par = list(\"sd(epsilon_A)\" = 0.01))\n",
        " model1 <- solve_pert(model1)\n",
        " model_irf1 <- compute_irf(model = model1, variables = c('C','C_1','C_2','L_s','L_1_s','L_2_s','K_s','K_1_s','I','I_1','Y','A'), sim_length = 40)\n",
        " out1 <- as.data.frame.table(model_irf1@sim)\n",
        " out1<-dcast(out1,Var2  ~ Var1 , value.var=\"Freq\")\n",
        " out1$Case<-\"Non-Ricardian Agents omega Low\"\n",
        " out1$Omega <- 0.2"
      ],
      "metadata": {
        "colab": {
          "base_uri": "https://localhost:8080/"
        },
        "id": "S-SHQ8pqiW_-",
        "outputId": "63216f4a-ea52-45c1-f112-539298724cab"
      },
      "execution_count": 16,
      "outputs": [
        {
          "output_type": "stream",
          "name": "stdout",
          "text": [
            "model parsed in 0.01s\n",
            "model loaded in 0.01s\n"
          ]
        },
        {
          "output_type": "stream",
          "name": "stderr",
          "text": [
            "Warning message in set_free_par(model1, list(omega = 0.2)):\n",
            "“the values of the following parameters have been overwritten: \"omega\"”\n"
          ]
        },
        {
          "output_type": "stream",
          "name": "stdout",
          "text": [
            "Steady state has been FOUND\n"
          ]
        },
        {
          "output_type": "stream",
          "name": "stderr",
          "text": [
            "Warning message:\n",
            "“the following variables will not be log-linearised as their steady-state values are equal or close to zero: \"pi\", \"PI\"”\n"
          ]
        },
        {
          "output_type": "stream",
          "name": "stdout",
          "text": [
            "Model has been SOLVED\n"
          ]
        }
      ]
    },
    {
      "cell_type": "code",
      "source": [
        "#run another case\n",
        "  model2 <- make_model(gcn.file)\n",
        "  model2 <- set_free_par(model2, list(omega = 0.8))\n",
        "  model2 <- initval_var(model2, list(C = 0.8,\n",
        "                                    C_1=0.8,\n",
        "                                    C_2 = 0.2,\n",
        "                                   L_s = 0.3,\n",
        "                                    L_1_s = 0.3,\n",
        "                                    L_2_s = 0.3,\n",
        "                                   K_s = 3.5,\n",
        "                                    K_1_s = 4.0,\n",
        "                                   I = 0.2,\n",
        "                                    I_1 = 0.3,\n",
        "                                   Y = 1.0,\n",
        "                                   A = 1.0,\n",
        "                                   W=(1-0.350)*(1.0/0.3),\n",
        "                                    r=(0.350)*(1.0/3.5),\n",
        "                                    pi=1.0,\n",
        "                                    PI=1.0 ,\n",
        "                                    U_1 = 1.0,\n",
        "                                    U_2 = 2.0))\n",
        "  model2 <- steady_state(model2)\n",
        "  model2 <- set_shock_distr_par(model = model2, distr_par = list(\"sd(epsilon_A)\" = 0.01))\n",
        "  model2 <- solve_pert(model2)\n",
        "  model_irf2 <- compute_irf(model = model2, variables = c('C','C_1','C_2','L_s','L_1_s','L_2_s','K_s','K_1_s','I','I_1','Y','A'), sim_length = 40)\n",
        "  out2 <- as.data.frame.table(model_irf2@sim)\n",
        "  out2<-dcast(out2,Var2  ~ Var1 , value.var=\"Freq\")\n",
        "  out2$Case<-\"Non-Ricardian Agents omega High\"\n",
        "  out2$Omega <- 0.8"
      ],
      "metadata": {
        "colab": {
          "base_uri": "https://localhost:8080/"
        },
        "id": "ED1aNW3di5AL",
        "outputId": "aef5848a-42c7-4578-b457-6c624c9c40fb"
      },
      "execution_count": 17,
      "outputs": [
        {
          "output_type": "stream",
          "name": "stdout",
          "text": [
            "model parsed in 0.01s\n",
            "model loaded in 0.01s\n"
          ]
        },
        {
          "output_type": "stream",
          "name": "stderr",
          "text": [
            "Warning message in set_free_par(model2, list(omega = 0.8)):\n",
            "“the values of the following parameters have been overwritten: \"omega\"”\n"
          ]
        },
        {
          "output_type": "stream",
          "name": "stdout",
          "text": [
            "Steady state has been FOUND\n"
          ]
        },
        {
          "output_type": "stream",
          "name": "stderr",
          "text": [
            "Warning message:\n",
            "“the following variables will not be log-linearised as their steady-state values are equal or close to zero: \"pi\", \"PI\"”\n"
          ]
        },
        {
          "output_type": "stream",
          "name": "stdout",
          "text": [
            "Model has been SOLVED\n"
          ]
        }
      ]
    },
    {
      "cell_type": "code",
      "source": [
        "#rbind\n",
        "  outf<-rbind(out,out1,out2)\n",
        "\n",
        "  head(outf)\n",
        "  tail(outf)"
      ],
      "metadata": {
        "colab": {
          "base_uri": "https://localhost:8080/",
          "height": 1000
        },
        "id": "xojysazVi_A0",
        "outputId": "4b3623aa-f3a2-4681-f6e3-46434c58d86b"
      },
      "execution_count": 18,
      "outputs": [
        {
          "output_type": "display_data",
          "data": {
            "text/html": [
              "<table class=\"dataframe\">\n",
              "<caption>A data.frame: 6 × 15</caption>\n",
              "<thead>\n",
              "\t<tr><th></th><th scope=col>Var2</th><th scope=col>C</th><th scope=col>C_1</th><th scope=col>C_2</th><th scope=col>L_s</th><th scope=col>L_1_s</th><th scope=col>L_2_s</th><th scope=col>K_s</th><th scope=col>K_1_s</th><th scope=col>I</th><th scope=col>I_1</th><th scope=col>Y</th><th scope=col>A</th><th scope=col>Case</th><th scope=col>Omega</th></tr>\n",
              "\t<tr><th></th><th scope=col>&lt;fct&gt;</th><th scope=col>&lt;dbl&gt;</th><th scope=col>&lt;dbl&gt;</th><th scope=col>&lt;dbl&gt;</th><th scope=col>&lt;dbl&gt;</th><th scope=col>&lt;dbl&gt;</th><th scope=col>&lt;dbl&gt;</th><th scope=col>&lt;dbl&gt;</th><th scope=col>&lt;dbl&gt;</th><th scope=col>&lt;dbl&gt;</th><th scope=col>&lt;dbl&gt;</th><th scope=col>&lt;dbl&gt;</th><th scope=col>&lt;dbl&gt;</th><th scope=col>&lt;chr&gt;</th><th scope=col>&lt;dbl&gt;</th></tr>\n",
              "</thead>\n",
              "<tbody>\n",
              "\t<tr><th scope=row>1</th><td>1</td><td>0.006580522</td><td>0.004717217</td><td>0.008689809</td><td>0.003743404</td><td>0.008411105</td><td>0</td><td>0.001915324</td><td>0.001915324</td><td>0.03192207</td><td>0.03192207</td><td>0.01243321</td><td>0.010000000</td><td>Non-Ricardian Agents omega Medium</td><td>0.5</td></tr>\n",
              "\t<tr><th scope=row>2</th><td>2</td><td>0.007231296</td><td>0.005629770</td><td>0.009044244</td><td>0.003217485</td><td>0.007229411</td><td>0</td><td>0.003541158</td><td>0.003541158</td><td>0.02901255</td><td>0.02901255</td><td>0.01226173</td><td>0.009500000</td><td>Non-Ricardian Agents omega Medium</td><td>0.5</td></tr>\n",
              "\t<tr><th scope=row>3</th><td>3</td><td>0.007750429</td><td>0.006380540</td><td>0.009301162</td><td>0.002752125</td><td>0.006183786</td><td>0</td><td>0.004911570</td><td>0.004911570</td><td>0.02638136</td><td>0.02638136</td><td>0.01205329</td><td>0.009025000</td><td>Non-Ricardian Agents omega Medium</td><td>0.5</td></tr>\n",
              "\t<tr><th scope=row>4</th><td>4</td><td>0.008154528</td><td>0.006989364</td><td>0.009473509</td><td>0.002340829</td><td>0.005259641</td><td>0</td><td>0.006056943</td><td>0.006056943</td><td>0.02400113</td><td>0.02400113</td><td>0.01181434</td><td>0.008573750</td><td>Non-Ricardian Agents omega Medium</td><td>0.5</td></tr>\n",
              "\t<tr><th scope=row>5</th><td>5</td><td>0.008458354</td><td>0.007473900</td><td>0.009572769</td><td>0.001977781</td><td>0.004443903</td><td>0</td><td>0.007004361</td><td>0.007004361</td><td>0.02184724</td><td>0.02184724</td><td>0.01155055</td><td>0.008145062</td><td>Non-Ricardian Agents omega Medium</td><td>0.5</td></tr>\n",
              "\t<tr><th scope=row>6</th><td>6</td><td>0.008675020</td><td>0.007849854</td><td>0.009609117</td><td>0.001657767</td><td>0.003724859</td><td>0</td><td>0.007777951</td><td>0.007777951</td><td>0.01989753</td><td>0.01989753</td><td>0.01126688</td><td>0.007737809</td><td>Non-Ricardian Agents omega Medium</td><td>0.5</td></tr>\n",
              "</tbody>\n",
              "</table>\n"
            ],
            "text/markdown": "\nA data.frame: 6 × 15\n\n| <!--/--> | Var2 &lt;fct&gt; | C &lt;dbl&gt; | C_1 &lt;dbl&gt; | C_2 &lt;dbl&gt; | L_s &lt;dbl&gt; | L_1_s &lt;dbl&gt; | L_2_s &lt;dbl&gt; | K_s &lt;dbl&gt; | K_1_s &lt;dbl&gt; | I &lt;dbl&gt; | I_1 &lt;dbl&gt; | Y &lt;dbl&gt; | A &lt;dbl&gt; | Case &lt;chr&gt; | Omega &lt;dbl&gt; |\n|---|---|---|---|---|---|---|---|---|---|---|---|---|---|---|---|\n| 1 | 1 | 0.006580522 | 0.004717217 | 0.008689809 | 0.003743404 | 0.008411105 | 0 | 0.001915324 | 0.001915324 | 0.03192207 | 0.03192207 | 0.01243321 | 0.010000000 | Non-Ricardian Agents omega Medium | 0.5 |\n| 2 | 2 | 0.007231296 | 0.005629770 | 0.009044244 | 0.003217485 | 0.007229411 | 0 | 0.003541158 | 0.003541158 | 0.02901255 | 0.02901255 | 0.01226173 | 0.009500000 | Non-Ricardian Agents omega Medium | 0.5 |\n| 3 | 3 | 0.007750429 | 0.006380540 | 0.009301162 | 0.002752125 | 0.006183786 | 0 | 0.004911570 | 0.004911570 | 0.02638136 | 0.02638136 | 0.01205329 | 0.009025000 | Non-Ricardian Agents omega Medium | 0.5 |\n| 4 | 4 | 0.008154528 | 0.006989364 | 0.009473509 | 0.002340829 | 0.005259641 | 0 | 0.006056943 | 0.006056943 | 0.02400113 | 0.02400113 | 0.01181434 | 0.008573750 | Non-Ricardian Agents omega Medium | 0.5 |\n| 5 | 5 | 0.008458354 | 0.007473900 | 0.009572769 | 0.001977781 | 0.004443903 | 0 | 0.007004361 | 0.007004361 | 0.02184724 | 0.02184724 | 0.01155055 | 0.008145062 | Non-Ricardian Agents omega Medium | 0.5 |\n| 6 | 6 | 0.008675020 | 0.007849854 | 0.009609117 | 0.001657767 | 0.003724859 | 0 | 0.007777951 | 0.007777951 | 0.01989753 | 0.01989753 | 0.01126688 | 0.007737809 | Non-Ricardian Agents omega Medium | 0.5 |\n\n",
            "text/latex": "A data.frame: 6 × 15\n\\begin{tabular}{r|lllllllllllllll}\n  & Var2 & C & C\\_1 & C\\_2 & L\\_s & L\\_1\\_s & L\\_2\\_s & K\\_s & K\\_1\\_s & I & I\\_1 & Y & A & Case & Omega\\\\\n  & <fct> & <dbl> & <dbl> & <dbl> & <dbl> & <dbl> & <dbl> & <dbl> & <dbl> & <dbl> & <dbl> & <dbl> & <dbl> & <chr> & <dbl>\\\\\n\\hline\n\t1 & 1 & 0.006580522 & 0.004717217 & 0.008689809 & 0.003743404 & 0.008411105 & 0 & 0.001915324 & 0.001915324 & 0.03192207 & 0.03192207 & 0.01243321 & 0.010000000 & Non-Ricardian Agents omega Medium & 0.5\\\\\n\t2 & 2 & 0.007231296 & 0.005629770 & 0.009044244 & 0.003217485 & 0.007229411 & 0 & 0.003541158 & 0.003541158 & 0.02901255 & 0.02901255 & 0.01226173 & 0.009500000 & Non-Ricardian Agents omega Medium & 0.5\\\\\n\t3 & 3 & 0.007750429 & 0.006380540 & 0.009301162 & 0.002752125 & 0.006183786 & 0 & 0.004911570 & 0.004911570 & 0.02638136 & 0.02638136 & 0.01205329 & 0.009025000 & Non-Ricardian Agents omega Medium & 0.5\\\\\n\t4 & 4 & 0.008154528 & 0.006989364 & 0.009473509 & 0.002340829 & 0.005259641 & 0 & 0.006056943 & 0.006056943 & 0.02400113 & 0.02400113 & 0.01181434 & 0.008573750 & Non-Ricardian Agents omega Medium & 0.5\\\\\n\t5 & 5 & 0.008458354 & 0.007473900 & 0.009572769 & 0.001977781 & 0.004443903 & 0 & 0.007004361 & 0.007004361 & 0.02184724 & 0.02184724 & 0.01155055 & 0.008145062 & Non-Ricardian Agents omega Medium & 0.5\\\\\n\t6 & 6 & 0.008675020 & 0.007849854 & 0.009609117 & 0.001657767 & 0.003724859 & 0 & 0.007777951 & 0.007777951 & 0.01989753 & 0.01989753 & 0.01126688 & 0.007737809 & Non-Ricardian Agents omega Medium & 0.5\\\\\n\\end{tabular}\n",
            "text/plain": [
              "  Var2 C           C_1         C_2         L_s         L_1_s       L_2_s\n",
              "1 1    0.006580522 0.004717217 0.008689809 0.003743404 0.008411105 0    \n",
              "2 2    0.007231296 0.005629770 0.009044244 0.003217485 0.007229411 0    \n",
              "3 3    0.007750429 0.006380540 0.009301162 0.002752125 0.006183786 0    \n",
              "4 4    0.008154528 0.006989364 0.009473509 0.002340829 0.005259641 0    \n",
              "5 5    0.008458354 0.007473900 0.009572769 0.001977781 0.004443903 0    \n",
              "6 6    0.008675020 0.007849854 0.009609117 0.001657767 0.003724859 0    \n",
              "  K_s         K_1_s       I          I_1        Y          A          \n",
              "1 0.001915324 0.001915324 0.03192207 0.03192207 0.01243321 0.010000000\n",
              "2 0.003541158 0.003541158 0.02901255 0.02901255 0.01226173 0.009500000\n",
              "3 0.004911570 0.004911570 0.02638136 0.02638136 0.01205329 0.009025000\n",
              "4 0.006056943 0.006056943 0.02400113 0.02400113 0.01181434 0.008573750\n",
              "5 0.007004361 0.007004361 0.02184724 0.02184724 0.01155055 0.008145062\n",
              "6 0.007777951 0.007777951 0.01989753 0.01989753 0.01126688 0.007737809\n",
              "  Case                              Omega\n",
              "1 Non-Ricardian Agents omega Medium 0.5  \n",
              "2 Non-Ricardian Agents omega Medium 0.5  \n",
              "3 Non-Ricardian Agents omega Medium 0.5  \n",
              "4 Non-Ricardian Agents omega Medium 0.5  \n",
              "5 Non-Ricardian Agents omega Medium 0.5  \n",
              "6 Non-Ricardian Agents omega Medium 0.5  "
            ]
          },
          "metadata": {}
        },
        {
          "output_type": "display_data",
          "data": {
            "text/html": [
              "<table class=\"dataframe\">\n",
              "<caption>A data.frame: 6 × 15</caption>\n",
              "<thead>\n",
              "\t<tr><th></th><th scope=col>Var2</th><th scope=col>C</th><th scope=col>C_1</th><th scope=col>C_2</th><th scope=col>L_s</th><th scope=col>L_1_s</th><th scope=col>L_2_s</th><th scope=col>K_s</th><th scope=col>K_1_s</th><th scope=col>I</th><th scope=col>I_1</th><th scope=col>Y</th><th scope=col>A</th><th scope=col>Case</th><th scope=col>Omega</th></tr>\n",
              "\t<tr><th></th><th scope=col>&lt;fct&gt;</th><th scope=col>&lt;dbl&gt;</th><th scope=col>&lt;dbl&gt;</th><th scope=col>&lt;dbl&gt;</th><th scope=col>&lt;dbl&gt;</th><th scope=col>&lt;dbl&gt;</th><th scope=col>&lt;dbl&gt;</th><th scope=col>&lt;dbl&gt;</th><th scope=col>&lt;dbl&gt;</th><th scope=col>&lt;dbl&gt;</th><th scope=col>&lt;dbl&gt;</th><th scope=col>&lt;dbl&gt;</th><th scope=col>&lt;dbl&gt;</th><th scope=col>&lt;chr&gt;</th><th scope=col>&lt;dbl&gt;</th></tr>\n",
              "</thead>\n",
              "<tbody>\n",
              "\t<tr><th scope=row>115</th><td>35</td><td>0.004033251</td><td>0.004079541</td><td>0.003832815</td><td>-0.0003557190</td><td>-0.0004572094</td><td>0</td><td>0.005361691</td><td>0.005361691</td><td>0.001625157</td><td>0.001625157</td><td>0.003477096</td><td>0.001748246</td><td>Non-Ricardian Agents omega High</td><td>0.8</td></tr>\n",
              "\t<tr><th scope=row>116</th><td>36</td><td>0.003853730</td><td>0.003898789</td><td>0.003658619</td><td>-0.0003462674</td><td>-0.0004450612</td><td>0</td><td>0.005130566</td><td>0.005130566</td><td>0.001509619</td><td>0.001509619</td><td>0.003312352</td><td>0.001660834</td><td>Non-Ricardian Agents omega High</td><td>0.8</td></tr>\n",
              "\t<tr><th scope=row>117</th><td>37</td><td>0.003680758</td><td>0.003724531</td><td>0.003491222</td><td>-0.0003363754</td><td>-0.0004323469</td><td>0</td><td>0.004906949</td><td>0.004906949</td><td>0.001403614</td><td>0.001403614</td><td>0.003154846</td><td>0.001577792</td><td>Non-Ricardian Agents omega High</td><td>0.8</td></tr>\n",
              "\t<tr><th scope=row>118</th><td>38</td><td>0.003514276</td><td>0.003556720</td><td>0.003330493</td><td>-0.0003261649</td><td>-0.0004192232</td><td>0</td><td>0.004690908</td><td>0.004690908</td><td>0.001306253</td><td>0.001306253</td><td>0.003004328</td><td>0.001498903</td><td>Non-Ricardian Agents omega High</td><td>0.8</td></tr>\n",
              "\t<tr><th scope=row>119</th><td>39</td><td>0.003354194</td><td>0.003395282</td><td>0.003176284</td><td>-0.0003157410</td><td>-0.0004058253</td><td>0</td><td>0.004482457</td><td>0.004482457</td><td>0.001216737</td><td>0.001216737</td><td>0.002860543</td><td>0.001423957</td><td>Non-Ricardian Agents omega High</td><td>0.8</td></tr>\n",
              "\t<tr><th scope=row>120</th><td>40</td><td>0.003200404</td><td>0.003240119</td><td>0.003028437</td><td>-0.0003051936</td><td>-0.0003922686</td><td>0</td><td>0.004281571</td><td>0.004281571</td><td>0.001134349</td><td>0.001134349</td><td>0.002723244</td><td>0.001352760</td><td>Non-Ricardian Agents omega High</td><td>0.8</td></tr>\n",
              "</tbody>\n",
              "</table>\n"
            ],
            "text/markdown": "\nA data.frame: 6 × 15\n\n| <!--/--> | Var2 &lt;fct&gt; | C &lt;dbl&gt; | C_1 &lt;dbl&gt; | C_2 &lt;dbl&gt; | L_s &lt;dbl&gt; | L_1_s &lt;dbl&gt; | L_2_s &lt;dbl&gt; | K_s &lt;dbl&gt; | K_1_s &lt;dbl&gt; | I &lt;dbl&gt; | I_1 &lt;dbl&gt; | Y &lt;dbl&gt; | A &lt;dbl&gt; | Case &lt;chr&gt; | Omega &lt;dbl&gt; |\n|---|---|---|---|---|---|---|---|---|---|---|---|---|---|---|---|\n| 115 | 35 | 0.004033251 | 0.004079541 | 0.003832815 | -0.0003557190 | -0.0004572094 | 0 | 0.005361691 | 0.005361691 | 0.001625157 | 0.001625157 | 0.003477096 | 0.001748246 | Non-Ricardian Agents omega High | 0.8 |\n| 116 | 36 | 0.003853730 | 0.003898789 | 0.003658619 | -0.0003462674 | -0.0004450612 | 0 | 0.005130566 | 0.005130566 | 0.001509619 | 0.001509619 | 0.003312352 | 0.001660834 | Non-Ricardian Agents omega High | 0.8 |\n| 117 | 37 | 0.003680758 | 0.003724531 | 0.003491222 | -0.0003363754 | -0.0004323469 | 0 | 0.004906949 | 0.004906949 | 0.001403614 | 0.001403614 | 0.003154846 | 0.001577792 | Non-Ricardian Agents omega High | 0.8 |\n| 118 | 38 | 0.003514276 | 0.003556720 | 0.003330493 | -0.0003261649 | -0.0004192232 | 0 | 0.004690908 | 0.004690908 | 0.001306253 | 0.001306253 | 0.003004328 | 0.001498903 | Non-Ricardian Agents omega High | 0.8 |\n| 119 | 39 | 0.003354194 | 0.003395282 | 0.003176284 | -0.0003157410 | -0.0004058253 | 0 | 0.004482457 | 0.004482457 | 0.001216737 | 0.001216737 | 0.002860543 | 0.001423957 | Non-Ricardian Agents omega High | 0.8 |\n| 120 | 40 | 0.003200404 | 0.003240119 | 0.003028437 | -0.0003051936 | -0.0003922686 | 0 | 0.004281571 | 0.004281571 | 0.001134349 | 0.001134349 | 0.002723244 | 0.001352760 | Non-Ricardian Agents omega High | 0.8 |\n\n",
            "text/latex": "A data.frame: 6 × 15\n\\begin{tabular}{r|lllllllllllllll}\n  & Var2 & C & C\\_1 & C\\_2 & L\\_s & L\\_1\\_s & L\\_2\\_s & K\\_s & K\\_1\\_s & I & I\\_1 & Y & A & Case & Omega\\\\\n  & <fct> & <dbl> & <dbl> & <dbl> & <dbl> & <dbl> & <dbl> & <dbl> & <dbl> & <dbl> & <dbl> & <dbl> & <dbl> & <chr> & <dbl>\\\\\n\\hline\n\t115 & 35 & 0.004033251 & 0.004079541 & 0.003832815 & -0.0003557190 & -0.0004572094 & 0 & 0.005361691 & 0.005361691 & 0.001625157 & 0.001625157 & 0.003477096 & 0.001748246 & Non-Ricardian Agents omega High & 0.8\\\\\n\t116 & 36 & 0.003853730 & 0.003898789 & 0.003658619 & -0.0003462674 & -0.0004450612 & 0 & 0.005130566 & 0.005130566 & 0.001509619 & 0.001509619 & 0.003312352 & 0.001660834 & Non-Ricardian Agents omega High & 0.8\\\\\n\t117 & 37 & 0.003680758 & 0.003724531 & 0.003491222 & -0.0003363754 & -0.0004323469 & 0 & 0.004906949 & 0.004906949 & 0.001403614 & 0.001403614 & 0.003154846 & 0.001577792 & Non-Ricardian Agents omega High & 0.8\\\\\n\t118 & 38 & 0.003514276 & 0.003556720 & 0.003330493 & -0.0003261649 & -0.0004192232 & 0 & 0.004690908 & 0.004690908 & 0.001306253 & 0.001306253 & 0.003004328 & 0.001498903 & Non-Ricardian Agents omega High & 0.8\\\\\n\t119 & 39 & 0.003354194 & 0.003395282 & 0.003176284 & -0.0003157410 & -0.0004058253 & 0 & 0.004482457 & 0.004482457 & 0.001216737 & 0.001216737 & 0.002860543 & 0.001423957 & Non-Ricardian Agents omega High & 0.8\\\\\n\t120 & 40 & 0.003200404 & 0.003240119 & 0.003028437 & -0.0003051936 & -0.0003922686 & 0 & 0.004281571 & 0.004281571 & 0.001134349 & 0.001134349 & 0.002723244 & 0.001352760 & Non-Ricardian Agents omega High & 0.8\\\\\n\\end{tabular}\n",
            "text/plain": [
              "    Var2 C           C_1         C_2         L_s           L_1_s         L_2_s\n",
              "115 35   0.004033251 0.004079541 0.003832815 -0.0003557190 -0.0004572094 0    \n",
              "116 36   0.003853730 0.003898789 0.003658619 -0.0003462674 -0.0004450612 0    \n",
              "117 37   0.003680758 0.003724531 0.003491222 -0.0003363754 -0.0004323469 0    \n",
              "118 38   0.003514276 0.003556720 0.003330493 -0.0003261649 -0.0004192232 0    \n",
              "119 39   0.003354194 0.003395282 0.003176284 -0.0003157410 -0.0004058253 0    \n",
              "120 40   0.003200404 0.003240119 0.003028437 -0.0003051936 -0.0003922686 0    \n",
              "    K_s         K_1_s       I           I_1         Y           A          \n",
              "115 0.005361691 0.005361691 0.001625157 0.001625157 0.003477096 0.001748246\n",
              "116 0.005130566 0.005130566 0.001509619 0.001509619 0.003312352 0.001660834\n",
              "117 0.004906949 0.004906949 0.001403614 0.001403614 0.003154846 0.001577792\n",
              "118 0.004690908 0.004690908 0.001306253 0.001306253 0.003004328 0.001498903\n",
              "119 0.004482457 0.004482457 0.001216737 0.001216737 0.002860543 0.001423957\n",
              "120 0.004281571 0.004281571 0.001134349 0.001134349 0.002723244 0.001352760\n",
              "    Case                            Omega\n",
              "115 Non-Ricardian Agents omega High 0.8  \n",
              "116 Non-Ricardian Agents omega High 0.8  \n",
              "117 Non-Ricardian Agents omega High 0.8  \n",
              "118 Non-Ricardian Agents omega High 0.8  \n",
              "119 Non-Ricardian Agents omega High 0.8  \n",
              "120 Non-Ricardian Agents omega High 0.8  "
            ]
          },
          "metadata": {}
        }
      ]
    },
    {
      "cell_type": "code",
      "source": [
        "#print simulation\n",
        "  write.csv(outf,'out.csv',row.names=FALSE)\n"
      ],
      "metadata": {
        "id": "qOSCSyfzjNK7"
      },
      "execution_count": 19,
      "outputs": []
    },
    {
      "cell_type": "code",
      "source": [
        "#now lets run different TFP shocks\n",
        "sdepsilon_Avector<-seq(0.5,1.5, by= 0.1)\n",
        "gcn.file<-\"nRa_chapter4.gcn\""
      ],
      "metadata": {
        "id": "CJ9XJtXPjTy1"
      },
      "execution_count": 20,
      "outputs": []
    },
    {
      "cell_type": "code",
      "source": [
        "out_all <- list()\n",
        "\n",
        "for (i in 1:length(sdepsilon_Avector))\n",
        "{\n",
        "#i<-1\n",
        "#create a model from gcc.file\n",
        "  model <- make_model(gcn.file)\n",
        "\n",
        "#set parameter values\n",
        "\n",
        "#set initial conditions\n",
        "  model <- initval_var(model, list(C = 0.8,\n",
        "                                    C_1=0.8,\n",
        "                                    C_2 = 0.2,\n",
        "                                    L_s = 0.3,\n",
        "                                    L_1_s = 0.3,\n",
        "                                    L_2_s = 0.3,\n",
        "                                    K_s = 3.5,\n",
        "                                    K_1_s = 4.0,\n",
        "                                    I = 0.2,\n",
        "                                    I_1 = 0.3,\n",
        "                                    Y = 1.0,\n",
        "                                    A = 1.0,\n",
        "                                    W=(1-0.350)*(1.0/0.3),\n",
        "                                    r=(0.350)*(1.0/3.5),\n",
        "                                    pi=1.0,\n",
        "                                    PI=1.0 ,\n",
        "                                    U_1 = 1.0,\n",
        "                                    U_2 = 2.0 ))\n",
        "\n",
        "#define steady state\n",
        " model <- steady_state(model)\n",
        "\n",
        "#Solving for dynamics\n",
        " model <- solve_pert(model)\n",
        "\n",
        "#Introducing shocks\n",
        "  model <- set_shock_distr_par(model = model, distr_par = list(\"sd(epsilon_A)\" = sdepsilon_Avector[i]*0.01))\n",
        "\n",
        "#Compute Impulse Response Function (IRFs)\n",
        "  model_irf <- compute_irf(model = model, variables = c('C','C_1','C_2','L_s','L_1_s','L_2_s','K_s','K_1_s','I','I_1','Y','A'), sim_length = 40)\n",
        "\n",
        "#Extract simulation values\n",
        "  out <- as.data.frame.table(model_irf@sim)\n",
        "  out<-dcast(out,Var2  ~ Var1 , value.var=\"Freq\")\n",
        "  out$Case<-paste0(\"sd_epsilon_A = \",sdepsilon_Avector[i])\n",
        "  out$ShockType <- \"A\"\n",
        "#save ouput\n",
        " out_all <- append(out_all,list(out))\n",
        "}\n"
      ],
      "metadata": {
        "colab": {
          "base_uri": "https://localhost:8080/"
        },
        "id": "lQRXBIkbkr_t",
        "outputId": "aeac6884-a323-42a0-c819-d6aac6b268af"
      },
      "execution_count": 21,
      "outputs": [
        {
          "output_type": "stream",
          "name": "stdout",
          "text": [
            "model parsed in 0.01s\n",
            "model loaded in 0.01s\n",
            "Steady state has been FOUND\n"
          ]
        },
        {
          "output_type": "stream",
          "name": "stderr",
          "text": [
            "Warning message:\n",
            "“the following variables will not be log-linearised as their steady-state values are equal or close to zero: \"pi\", \"PI\"”\n"
          ]
        },
        {
          "output_type": "stream",
          "name": "stdout",
          "text": [
            "Model has been SOLVED\n",
            "model parsed in 0.01s\n",
            "model loaded in 0.01s\n",
            "Steady state has been FOUND\n"
          ]
        },
        {
          "output_type": "stream",
          "name": "stderr",
          "text": [
            "Warning message:\n",
            "“the following variables will not be log-linearised as their steady-state values are equal or close to zero: \"pi\", \"PI\"”\n"
          ]
        },
        {
          "output_type": "stream",
          "name": "stdout",
          "text": [
            "Model has been SOLVED\n",
            "model parsed in 0.01s\n",
            "model loaded in 0.01s\n",
            "Steady state has been FOUND\n"
          ]
        },
        {
          "output_type": "stream",
          "name": "stderr",
          "text": [
            "Warning message:\n",
            "“the following variables will not be log-linearised as their steady-state values are equal or close to zero: \"pi\", \"PI\"”\n"
          ]
        },
        {
          "output_type": "stream",
          "name": "stdout",
          "text": [
            "Model has been SOLVED\n",
            "model parsed in 0.01s\n",
            "model loaded in 0.01s\n",
            "Steady state has been FOUND\n"
          ]
        },
        {
          "output_type": "stream",
          "name": "stderr",
          "text": [
            "Warning message:\n",
            "“the following variables will not be log-linearised as their steady-state values are equal or close to zero: \"pi\", \"PI\"”\n"
          ]
        },
        {
          "output_type": "stream",
          "name": "stdout",
          "text": [
            "Model has been SOLVED\n",
            "model parsed in 0.01s\n",
            "model loaded in 0.02s\n",
            "Steady state has been FOUND\n"
          ]
        },
        {
          "output_type": "stream",
          "name": "stderr",
          "text": [
            "Warning message:\n",
            "“the following variables will not be log-linearised as their steady-state values are equal or close to zero: \"pi\", \"PI\"”\n"
          ]
        },
        {
          "output_type": "stream",
          "name": "stdout",
          "text": [
            "Model has been SOLVED\n",
            "model parsed in 0.01s\n",
            "model loaded in 0.01s\n",
            "Steady state has been FOUND\n"
          ]
        },
        {
          "output_type": "stream",
          "name": "stderr",
          "text": [
            "Warning message:\n",
            "“the following variables will not be log-linearised as their steady-state values are equal or close to zero: \"pi\", \"PI\"”\n"
          ]
        },
        {
          "output_type": "stream",
          "name": "stdout",
          "text": [
            "Model has been SOLVED\n",
            "model parsed in 0.01s\n",
            "model loaded in 0.01s\n",
            "Steady state has been FOUND\n"
          ]
        },
        {
          "output_type": "stream",
          "name": "stderr",
          "text": [
            "Warning message:\n",
            "“the following variables will not be log-linearised as their steady-state values are equal or close to zero: \"pi\", \"PI\"”\n"
          ]
        },
        {
          "output_type": "stream",
          "name": "stdout",
          "text": [
            "Model has been SOLVED\n",
            "model parsed in 0.01s\n",
            "model loaded in 0.01s\n",
            "Steady state has been FOUND\n"
          ]
        },
        {
          "output_type": "stream",
          "name": "stderr",
          "text": [
            "Warning message:\n",
            "“the following variables will not be log-linearised as their steady-state values are equal or close to zero: \"pi\", \"PI\"”\n"
          ]
        },
        {
          "output_type": "stream",
          "name": "stdout",
          "text": [
            "Model has been SOLVED\n",
            "model parsed in 0.01s\n",
            "model loaded in 0.02s\n",
            "Steady state has been FOUND\n"
          ]
        },
        {
          "output_type": "stream",
          "name": "stderr",
          "text": [
            "Warning message:\n",
            "“the following variables will not be log-linearised as their steady-state values are equal or close to zero: \"pi\", \"PI\"”\n"
          ]
        },
        {
          "output_type": "stream",
          "name": "stdout",
          "text": [
            "Model has been SOLVED\n",
            "model parsed in 0.01s\n",
            "model loaded in 0.01s\n",
            "Steady state has been FOUND\n"
          ]
        },
        {
          "output_type": "stream",
          "name": "stderr",
          "text": [
            "Warning message:\n",
            "“the following variables will not be log-linearised as their steady-state values are equal or close to zero: \"pi\", \"PI\"”\n"
          ]
        },
        {
          "output_type": "stream",
          "name": "stdout",
          "text": [
            "Model has been SOLVED\n",
            "model parsed in 0.01s\n",
            "model loaded in 0.01s\n",
            "Steady state has been FOUND\n"
          ]
        },
        {
          "output_type": "stream",
          "name": "stderr",
          "text": [
            "Warning message:\n",
            "“the following variables will not be log-linearised as their steady-state values are equal or close to zero: \"pi\", \"PI\"”\n"
          ]
        },
        {
          "output_type": "stream",
          "name": "stdout",
          "text": [
            "Model has been SOLVED\n"
          ]
        }
      ]
    },
    {
      "cell_type": "code",
      "source": [
        "out_all <- do.call(\"rbind\",out_all)\n",
        "head(out_all)"
      ],
      "metadata": {
        "colab": {
          "base_uri": "https://localhost:8080/",
          "height": 410
        },
        "id": "RI8qGG0_lFNH",
        "outputId": "363fe434-6d06-46e8-fb26-cd5b682b19bf"
      },
      "execution_count": 22,
      "outputs": [
        {
          "output_type": "display_data",
          "data": {
            "text/html": [
              "<table class=\"dataframe\">\n",
              "<caption>A data.frame: 6 × 15</caption>\n",
              "<thead>\n",
              "\t<tr><th></th><th scope=col>Var2</th><th scope=col>C</th><th scope=col>C_1</th><th scope=col>C_2</th><th scope=col>L_s</th><th scope=col>L_1_s</th><th scope=col>L_2_s</th><th scope=col>K_s</th><th scope=col>K_1_s</th><th scope=col>I</th><th scope=col>I_1</th><th scope=col>Y</th><th scope=col>A</th><th scope=col>Case</th><th scope=col>ShockType</th></tr>\n",
              "\t<tr><th></th><th scope=col>&lt;fct&gt;</th><th scope=col>&lt;dbl&gt;</th><th scope=col>&lt;dbl&gt;</th><th scope=col>&lt;dbl&gt;</th><th scope=col>&lt;dbl&gt;</th><th scope=col>&lt;dbl&gt;</th><th scope=col>&lt;dbl&gt;</th><th scope=col>&lt;dbl&gt;</th><th scope=col>&lt;dbl&gt;</th><th scope=col>&lt;dbl&gt;</th><th scope=col>&lt;dbl&gt;</th><th scope=col>&lt;dbl&gt;</th><th scope=col>&lt;dbl&gt;</th><th scope=col>&lt;chr&gt;</th><th scope=col>&lt;chr&gt;</th></tr>\n",
              "</thead>\n",
              "<tbody>\n",
              "\t<tr><th scope=row>1</th><td>1</td><td>0.003290261</td><td>0.002358608</td><td>0.004344904</td><td>0.0018717019</td><td>0.004205552</td><td>0</td><td>0.000957662</td><td>0.000957662</td><td>0.015961033</td><td>0.015961033</td><td>0.006216606</td><td>0.005000000</td><td>sd_epsilon_A = 0.5</td><td>A</td></tr>\n",
              "\t<tr><th scope=row>2</th><td>2</td><td>0.003615648</td><td>0.002814885</td><td>0.004522122</td><td>0.0016087425</td><td>0.003614705</td><td>0</td><td>0.001770579</td><td>0.001770579</td><td>0.014506276</td><td>0.014506276</td><td>0.006130864</td><td>0.004750000</td><td>sd_epsilon_A = 0.5</td><td>A</td></tr>\n",
              "\t<tr><th scope=row>3</th><td>3</td><td>0.003875214</td><td>0.003190270</td><td>0.004650581</td><td>0.0013760623</td><td>0.003091893</td><td>0</td><td>0.002455785</td><td>0.002455785</td><td>0.013190679</td><td>0.013190679</td><td>0.006026643</td><td>0.004512500</td><td>sd_epsilon_A = 0.5</td><td>A</td></tr>\n",
              "\t<tr><th scope=row>4</th><td>4</td><td>0.004077264</td><td>0.003494682</td><td>0.004736755</td><td>0.0011704146</td><td>0.002629821</td><td>0</td><td>0.003028472</td><td>0.003028472</td><td>0.012000565</td><td>0.012000565</td><td>0.005907169</td><td>0.004286875</td><td>sd_epsilon_A = 0.5</td><td>A</td></tr>\n",
              "\t<tr><th scope=row>5</th><td>5</td><td>0.004229177</td><td>0.003736950</td><td>0.004786385</td><td>0.0009888904</td><td>0.002221951</td><td>0</td><td>0.003502181</td><td>0.003502181</td><td>0.010923622</td><td>0.010923622</td><td>0.005775275</td><td>0.004072531</td><td>sd_epsilon_A = 0.5</td><td>A</td></tr>\n",
              "\t<tr><th scope=row>6</th><td>6</td><td>0.004337510</td><td>0.003924927</td><td>0.004804559</td><td>0.0008288835</td><td>0.001862430</td><td>0</td><td>0.003888976</td><td>0.003888976</td><td>0.009948764</td><td>0.009948764</td><td>0.005633442</td><td>0.003868905</td><td>sd_epsilon_A = 0.5</td><td>A</td></tr>\n",
              "</tbody>\n",
              "</table>\n"
            ],
            "text/markdown": "\nA data.frame: 6 × 15\n\n| <!--/--> | Var2 &lt;fct&gt; | C &lt;dbl&gt; | C_1 &lt;dbl&gt; | C_2 &lt;dbl&gt; | L_s &lt;dbl&gt; | L_1_s &lt;dbl&gt; | L_2_s &lt;dbl&gt; | K_s &lt;dbl&gt; | K_1_s &lt;dbl&gt; | I &lt;dbl&gt; | I_1 &lt;dbl&gt; | Y &lt;dbl&gt; | A &lt;dbl&gt; | Case &lt;chr&gt; | ShockType &lt;chr&gt; |\n|---|---|---|---|---|---|---|---|---|---|---|---|---|---|---|---|\n| 1 | 1 | 0.003290261 | 0.002358608 | 0.004344904 | 0.0018717019 | 0.004205552 | 0 | 0.000957662 | 0.000957662 | 0.015961033 | 0.015961033 | 0.006216606 | 0.005000000 | sd_epsilon_A = 0.5 | A |\n| 2 | 2 | 0.003615648 | 0.002814885 | 0.004522122 | 0.0016087425 | 0.003614705 | 0 | 0.001770579 | 0.001770579 | 0.014506276 | 0.014506276 | 0.006130864 | 0.004750000 | sd_epsilon_A = 0.5 | A |\n| 3 | 3 | 0.003875214 | 0.003190270 | 0.004650581 | 0.0013760623 | 0.003091893 | 0 | 0.002455785 | 0.002455785 | 0.013190679 | 0.013190679 | 0.006026643 | 0.004512500 | sd_epsilon_A = 0.5 | A |\n| 4 | 4 | 0.004077264 | 0.003494682 | 0.004736755 | 0.0011704146 | 0.002629821 | 0 | 0.003028472 | 0.003028472 | 0.012000565 | 0.012000565 | 0.005907169 | 0.004286875 | sd_epsilon_A = 0.5 | A |\n| 5 | 5 | 0.004229177 | 0.003736950 | 0.004786385 | 0.0009888904 | 0.002221951 | 0 | 0.003502181 | 0.003502181 | 0.010923622 | 0.010923622 | 0.005775275 | 0.004072531 | sd_epsilon_A = 0.5 | A |\n| 6 | 6 | 0.004337510 | 0.003924927 | 0.004804559 | 0.0008288835 | 0.001862430 | 0 | 0.003888976 | 0.003888976 | 0.009948764 | 0.009948764 | 0.005633442 | 0.003868905 | sd_epsilon_A = 0.5 | A |\n\n",
            "text/latex": "A data.frame: 6 × 15\n\\begin{tabular}{r|lllllllllllllll}\n  & Var2 & C & C\\_1 & C\\_2 & L\\_s & L\\_1\\_s & L\\_2\\_s & K\\_s & K\\_1\\_s & I & I\\_1 & Y & A & Case & ShockType\\\\\n  & <fct> & <dbl> & <dbl> & <dbl> & <dbl> & <dbl> & <dbl> & <dbl> & <dbl> & <dbl> & <dbl> & <dbl> & <dbl> & <chr> & <chr>\\\\\n\\hline\n\t1 & 1 & 0.003290261 & 0.002358608 & 0.004344904 & 0.0018717019 & 0.004205552 & 0 & 0.000957662 & 0.000957662 & 0.015961033 & 0.015961033 & 0.006216606 & 0.005000000 & sd\\_epsilon\\_A = 0.5 & A\\\\\n\t2 & 2 & 0.003615648 & 0.002814885 & 0.004522122 & 0.0016087425 & 0.003614705 & 0 & 0.001770579 & 0.001770579 & 0.014506276 & 0.014506276 & 0.006130864 & 0.004750000 & sd\\_epsilon\\_A = 0.5 & A\\\\\n\t3 & 3 & 0.003875214 & 0.003190270 & 0.004650581 & 0.0013760623 & 0.003091893 & 0 & 0.002455785 & 0.002455785 & 0.013190679 & 0.013190679 & 0.006026643 & 0.004512500 & sd\\_epsilon\\_A = 0.5 & A\\\\\n\t4 & 4 & 0.004077264 & 0.003494682 & 0.004736755 & 0.0011704146 & 0.002629821 & 0 & 0.003028472 & 0.003028472 & 0.012000565 & 0.012000565 & 0.005907169 & 0.004286875 & sd\\_epsilon\\_A = 0.5 & A\\\\\n\t5 & 5 & 0.004229177 & 0.003736950 & 0.004786385 & 0.0009888904 & 0.002221951 & 0 & 0.003502181 & 0.003502181 & 0.010923622 & 0.010923622 & 0.005775275 & 0.004072531 & sd\\_epsilon\\_A = 0.5 & A\\\\\n\t6 & 6 & 0.004337510 & 0.003924927 & 0.004804559 & 0.0008288835 & 0.001862430 & 0 & 0.003888976 & 0.003888976 & 0.009948764 & 0.009948764 & 0.005633442 & 0.003868905 & sd\\_epsilon\\_A = 0.5 & A\\\\\n\\end{tabular}\n",
            "text/plain": [
              "  Var2 C           C_1         C_2         L_s          L_1_s       L_2_s\n",
              "1 1    0.003290261 0.002358608 0.004344904 0.0018717019 0.004205552 0    \n",
              "2 2    0.003615648 0.002814885 0.004522122 0.0016087425 0.003614705 0    \n",
              "3 3    0.003875214 0.003190270 0.004650581 0.0013760623 0.003091893 0    \n",
              "4 4    0.004077264 0.003494682 0.004736755 0.0011704146 0.002629821 0    \n",
              "5 5    0.004229177 0.003736950 0.004786385 0.0009888904 0.002221951 0    \n",
              "6 6    0.004337510 0.003924927 0.004804559 0.0008288835 0.001862430 0    \n",
              "  K_s         K_1_s       I           I_1         Y           A          \n",
              "1 0.000957662 0.000957662 0.015961033 0.015961033 0.006216606 0.005000000\n",
              "2 0.001770579 0.001770579 0.014506276 0.014506276 0.006130864 0.004750000\n",
              "3 0.002455785 0.002455785 0.013190679 0.013190679 0.006026643 0.004512500\n",
              "4 0.003028472 0.003028472 0.012000565 0.012000565 0.005907169 0.004286875\n",
              "5 0.003502181 0.003502181 0.010923622 0.010923622 0.005775275 0.004072531\n",
              "6 0.003888976 0.003888976 0.009948764 0.009948764 0.005633442 0.003868905\n",
              "  Case               ShockType\n",
              "1 sd_epsilon_A = 0.5 A        \n",
              "2 sd_epsilon_A = 0.5 A        \n",
              "3 sd_epsilon_A = 0.5 A        \n",
              "4 sd_epsilon_A = 0.5 A        \n",
              "5 sd_epsilon_A = 0.5 A        \n",
              "6 sd_epsilon_A = 0.5 A        "
            ]
          },
          "metadata": {}
        }
      ]
    },
    {
      "cell_type": "code",
      "source": [
        "download.file(\"https://raw.githubusercontent.com/fabian-fuentes/DSGE/main/NonRicardianAgents/nRa_chapter4_B_shock.gcn\",\n",
        "              destfile = \"nRa_chapter4_B_shock.gcn\", mode = \"wb\")"
      ],
      "metadata": {
        "id": "6lx0fg9xlKj9"
      },
      "execution_count": 23,
      "outputs": []
    },
    {
      "cell_type": "code",
      "source": [
        "#now lets run an intertemporal substitution shock\n",
        "gcn.file<-\"nRa_chapter4_B_shock.gcn\"\n",
        "sdepsilon_Bvector<-seq(0.5,1.5, by= 0.1)\n"
      ],
      "metadata": {
        "id": "LzBSGxmNlIZD"
      },
      "execution_count": 24,
      "outputs": []
    },
    {
      "cell_type": "code",
      "source": [
        "out_allB <- list()\n",
        "\n",
        "for (i in 1:length(sdepsilon_Bvector))\n",
        "{\n",
        "#i<-1\n",
        " model <- make_model(gcn.file)\n",
        "\n",
        "#set initial conditions\n",
        "  model <- initval_var(model, list(C = 0.8,\n",
        "                                    C_1=0.8,\n",
        "                                    C_2 = 0.2,\n",
        "                                    L_s = 0.3,\n",
        "                                    L_1_s = 0.3,\n",
        "                                    L_2_s = 0.3,\n",
        "                                    K_s = 3.5,\n",
        "                                    K_1_s = 4.0,\n",
        "                                    I = 0.2,\n",
        "                                    I_1 = 0.3,\n",
        "                                    Y = 1.0,\n",
        "                                    A = 1.0,\n",
        "                                    W=(1-0.350)*(1.0/0.3),\n",
        "                                    r=(0.350)*(1.0/3.5),\n",
        "                                    pi=1.0,\n",
        "                                    PI=1.0 ,\n",
        "                                    U_1 = 1.0,\n",
        "                                    U_2 = 2.0,\n",
        "                                    B= 1))\n",
        "\n",
        "#define steady state\n",
        " model <- steady_state(model)\n",
        "\n",
        "#Solving for dynamics\n",
        " model <- solve_pert(model)\n",
        "\n",
        "#Introducing shocks\n",
        "  model <- set_shock_distr_par(model = model, distr_par = list(\"sd(epsilon_B)\" = sdepsilon_Bvector[i]*0.01))\n",
        "\n",
        "#Compute Impulse Response Function (IRFs)\n",
        "  model_irf <- compute_irf(model = model, variables = c('C','C_1','C_2','L_s','L_1_s','L_2_s','K_s','K_1_s','I','I_1','Y','A'), sim_length = 40)\n",
        "\n",
        "#Extract simulation values\n",
        "  out <- as.data.frame.table(model_irf@sim)\n",
        "  out<-dcast(out,Var2  ~ Var1 , value.var=\"Freq\")\n",
        "  out$Case<-paste0(\"sd_epsilon_B = \",sdepsilon_Bvector[i])\n",
        "  out$ShockType <- \"B\"\n",
        "#save ouput\n",
        "  out_allB <- append(out_allB,list(out))\n",
        "}"
      ],
      "metadata": {
        "colab": {
          "base_uri": "https://localhost:8080/"
        },
        "id": "xEFzrKt3la72",
        "outputId": "0b7b44a5-d18a-4710-e494-de521e9b6837"
      },
      "execution_count": 25,
      "outputs": [
        {
          "output_type": "stream",
          "name": "stdout",
          "text": [
            "model parsed in 0.01s\n",
            "model loaded in 0.01s\n",
            "Steady state has been FOUND\n"
          ]
        },
        {
          "output_type": "stream",
          "name": "stderr",
          "text": [
            "Warning message:\n",
            "“the following variables will not be log-linearised as their steady-state values are equal or close to zero: \"pi\", \"PI\"”\n"
          ]
        },
        {
          "output_type": "stream",
          "name": "stdout",
          "text": [
            "Model has been SOLVED\n",
            "model parsed in 0.01s\n",
            "model loaded in 0.01s\n",
            "Steady state has been FOUND\n"
          ]
        },
        {
          "output_type": "stream",
          "name": "stderr",
          "text": [
            "Warning message:\n",
            "“the following variables will not be log-linearised as their steady-state values are equal or close to zero: \"pi\", \"PI\"”\n"
          ]
        },
        {
          "output_type": "stream",
          "name": "stdout",
          "text": [
            "Model has been SOLVED\n",
            "model parsed in 0.01s\n",
            "model loaded in 0.01s\n",
            "Steady state has been FOUND\n"
          ]
        },
        {
          "output_type": "stream",
          "name": "stderr",
          "text": [
            "Warning message:\n",
            "“the following variables will not be log-linearised as their steady-state values are equal or close to zero: \"pi\", \"PI\"”\n"
          ]
        },
        {
          "output_type": "stream",
          "name": "stdout",
          "text": [
            "Model has been SOLVED\n",
            "model parsed in 0.01s\n",
            "model loaded in 0.01s\n",
            "Steady state has been FOUND\n"
          ]
        },
        {
          "output_type": "stream",
          "name": "stderr",
          "text": [
            "Warning message:\n",
            "“the following variables will not be log-linearised as their steady-state values are equal or close to zero: \"pi\", \"PI\"”\n"
          ]
        },
        {
          "output_type": "stream",
          "name": "stdout",
          "text": [
            "Model has been SOLVED\n",
            "model parsed in 0.01s\n",
            "model loaded in 0.03s\n",
            "Steady state has been FOUND\n"
          ]
        },
        {
          "output_type": "stream",
          "name": "stderr",
          "text": [
            "Warning message:\n",
            "“the following variables will not be log-linearised as their steady-state values are equal or close to zero: \"pi\", \"PI\"”\n"
          ]
        },
        {
          "output_type": "stream",
          "name": "stdout",
          "text": [
            "Model has been SOLVED\n",
            "model parsed in 0.01s\n",
            "model loaded in 0.01s\n",
            "Steady state has been FOUND\n"
          ]
        },
        {
          "output_type": "stream",
          "name": "stderr",
          "text": [
            "Warning message:\n",
            "“the following variables will not be log-linearised as their steady-state values are equal or close to zero: \"pi\", \"PI\"”\n"
          ]
        },
        {
          "output_type": "stream",
          "name": "stdout",
          "text": [
            "Model has been SOLVED\n",
            "model parsed in 0.01s\n",
            "model loaded in 0.02s\n",
            "Steady state has been FOUND\n"
          ]
        },
        {
          "output_type": "stream",
          "name": "stderr",
          "text": [
            "Warning message:\n",
            "“the following variables will not be log-linearised as their steady-state values are equal or close to zero: \"pi\", \"PI\"”\n"
          ]
        },
        {
          "output_type": "stream",
          "name": "stdout",
          "text": [
            "Model has been SOLVED\n",
            "model parsed in 0.01s\n",
            "model loaded in 0.01s\n",
            "Steady state has been FOUND\n"
          ]
        },
        {
          "output_type": "stream",
          "name": "stderr",
          "text": [
            "Warning message:\n",
            "“the following variables will not be log-linearised as their steady-state values are equal or close to zero: \"pi\", \"PI\"”\n"
          ]
        },
        {
          "output_type": "stream",
          "name": "stdout",
          "text": [
            "Model has been SOLVED\n",
            "model parsed in 0.01s\n",
            "model loaded in 0.02s\n",
            "Steady state has been FOUND\n"
          ]
        },
        {
          "output_type": "stream",
          "name": "stderr",
          "text": [
            "Warning message:\n",
            "“the following variables will not be log-linearised as their steady-state values are equal or close to zero: \"pi\", \"PI\"”\n"
          ]
        },
        {
          "output_type": "stream",
          "name": "stdout",
          "text": [
            "Model has been SOLVED\n",
            "model parsed in 0.01s\n",
            "model loaded in 0.01s\n",
            "Steady state has been FOUND\n"
          ]
        },
        {
          "output_type": "stream",
          "name": "stderr",
          "text": [
            "Warning message:\n",
            "“the following variables will not be log-linearised as their steady-state values are equal or close to zero: \"pi\", \"PI\"”\n"
          ]
        },
        {
          "output_type": "stream",
          "name": "stdout",
          "text": [
            "Model has been SOLVED\n",
            "model parsed in 0.01s\n",
            "model loaded in 0.01s\n",
            "Steady state has been FOUND\n"
          ]
        },
        {
          "output_type": "stream",
          "name": "stderr",
          "text": [
            "Warning message:\n",
            "“the following variables will not be log-linearised as their steady-state values are equal or close to zero: \"pi\", \"PI\"”\n"
          ]
        },
        {
          "output_type": "stream",
          "name": "stdout",
          "text": [
            "Model has been SOLVED\n"
          ]
        }
      ]
    },
    {
      "cell_type": "code",
      "source": [
        "out_allB <- do.call(\"rbind\",out_allB)\n",
        "head(out_allB)"
      ],
      "metadata": {
        "colab": {
          "base_uri": "https://localhost:8080/",
          "height": 410
        },
        "id": "sCfmyyZUlsRj",
        "outputId": "5639edcd-3edc-4981-f015-d78e1ac2b092"
      },
      "execution_count": 26,
      "outputs": [
        {
          "output_type": "display_data",
          "data": {
            "text/html": [
              "<table class=\"dataframe\">\n",
              "<caption>A data.frame: 6 × 15</caption>\n",
              "<thead>\n",
              "\t<tr><th></th><th scope=col>Var2</th><th scope=col>C</th><th scope=col>C_1</th><th scope=col>C_2</th><th scope=col>L_s</th><th scope=col>L_1_s</th><th scope=col>L_2_s</th><th scope=col>K_s</th><th scope=col>K_1_s</th><th scope=col>I</th><th scope=col>I_1</th><th scope=col>Y</th><th scope=col>A</th><th scope=col>Case</th><th scope=col>ShockType</th></tr>\n",
              "\t<tr><th></th><th scope=col>&lt;fct&gt;</th><th scope=col>&lt;dbl&gt;</th><th scope=col>&lt;dbl&gt;</th><th scope=col>&lt;dbl&gt;</th><th scope=col>&lt;dbl&gt;</th><th scope=col>&lt;dbl&gt;</th><th scope=col>&lt;dbl&gt;</th><th scope=col>&lt;dbl&gt;</th><th scope=col>&lt;dbl&gt;</th><th scope=col>&lt;dbl&gt;</th><th scope=col>&lt;dbl&gt;</th><th scope=col>&lt;dbl&gt;</th><th scope=col>&lt;dbl&gt;</th><th scope=col>&lt;chr&gt;</th><th scope=col>&lt;chr&gt;</th></tr>\n",
              "</thead>\n",
              "<tbody>\n",
              "\t<tr><th scope=row>1</th><td>1</td><td>-0.0182340466</td><td>-0.028169949</td><td>-0.0069864734</td><td>0.01996135</td><td>0.04485143</td><td>0</td><td>0.007013843</td><td>0.007013843</td><td>0.11689738</td><td>0.11689738</td><td>0.01297488</td><td>0</td><td>sd_epsilon_B = 0.5</td><td>B</td></tr>\n",
              "\t<tr><th scope=row>2</th><td>2</td><td>-0.0137343570</td><td>-0.022556005</td><td>-0.0037481351</td><td>0.01772280</td><td>0.03982160</td><td>0</td><td>0.012967584</td><td>0.012967584</td><td>0.10624285</td><td>0.10624285</td><td>0.01397467</td><td>0</td><td>sd_epsilon_B = 0.5</td><td>B</td></tr>\n",
              "\t<tr><th scope=row>3</th><td>3</td><td>-0.0098225564</td><td>-0.017648115</td><td>-0.0009639211</td><td>0.01572164</td><td>0.03532518</td><td>0</td><td>0.017985980</td><td>0.017985980</td><td>0.09660752</td><td>0.09660752</td><td>0.01475772</td><td>0</td><td>sd_epsilon_B = 0.5</td><td>B</td></tr>\n",
              "\t<tr><th scope=row>4</th><td>4</td><td>-0.0064325446</td><td>-0.013367953</td><td> 0.0014184299</td><td>0.01393332</td><td>0.03130697</td><td>0</td><td>0.022180294</td><td>0.022180294</td><td>0.08789122</td><td>0.08789122</td><td>0.01535175</td><td>0</td><td>sd_epsilon_B = 0.5</td><td>B</td></tr>\n",
              "\t<tr><th scope=row>5</th><td>5</td><td>-0.0035052389</td><td>-0.009645464</td><td> 0.0034455769</td><td>0.01233579</td><td>0.02771745</td><td>0</td><td>0.025649703</td><td>0.025649703</td><td>0.08000377</td><td>0.08000377</td><td>0.01578137</td><td>0</td><td>sd_epsilon_B = 0.5</td><td>B</td></tr>\n",
              "\t<tr><th scope=row>6</th><td>6</td><td>-0.0009878481</td><td>-0.006418003</td><td> 0.0051591589</td><td>0.01090925</td><td>0.02451214</td><td>0</td><td>0.028482559</td><td>0.028482559</td><td>0.07286398</td><td>0.07286398</td><td>0.01606841</td><td>0</td><td>sd_epsilon_B = 0.5</td><td>B</td></tr>\n",
              "</tbody>\n",
              "</table>\n"
            ],
            "text/markdown": "\nA data.frame: 6 × 15\n\n| <!--/--> | Var2 &lt;fct&gt; | C &lt;dbl&gt; | C_1 &lt;dbl&gt; | C_2 &lt;dbl&gt; | L_s &lt;dbl&gt; | L_1_s &lt;dbl&gt; | L_2_s &lt;dbl&gt; | K_s &lt;dbl&gt; | K_1_s &lt;dbl&gt; | I &lt;dbl&gt; | I_1 &lt;dbl&gt; | Y &lt;dbl&gt; | A &lt;dbl&gt; | Case &lt;chr&gt; | ShockType &lt;chr&gt; |\n|---|---|---|---|---|---|---|---|---|---|---|---|---|---|---|---|\n| 1 | 1 | -0.0182340466 | -0.028169949 | -0.0069864734 | 0.01996135 | 0.04485143 | 0 | 0.007013843 | 0.007013843 | 0.11689738 | 0.11689738 | 0.01297488 | 0 | sd_epsilon_B = 0.5 | B |\n| 2 | 2 | -0.0137343570 | -0.022556005 | -0.0037481351 | 0.01772280 | 0.03982160 | 0 | 0.012967584 | 0.012967584 | 0.10624285 | 0.10624285 | 0.01397467 | 0 | sd_epsilon_B = 0.5 | B |\n| 3 | 3 | -0.0098225564 | -0.017648115 | -0.0009639211 | 0.01572164 | 0.03532518 | 0 | 0.017985980 | 0.017985980 | 0.09660752 | 0.09660752 | 0.01475772 | 0 | sd_epsilon_B = 0.5 | B |\n| 4 | 4 | -0.0064325446 | -0.013367953 |  0.0014184299 | 0.01393332 | 0.03130697 | 0 | 0.022180294 | 0.022180294 | 0.08789122 | 0.08789122 | 0.01535175 | 0 | sd_epsilon_B = 0.5 | B |\n| 5 | 5 | -0.0035052389 | -0.009645464 |  0.0034455769 | 0.01233579 | 0.02771745 | 0 | 0.025649703 | 0.025649703 | 0.08000377 | 0.08000377 | 0.01578137 | 0 | sd_epsilon_B = 0.5 | B |\n| 6 | 6 | -0.0009878481 | -0.006418003 |  0.0051591589 | 0.01090925 | 0.02451214 | 0 | 0.028482559 | 0.028482559 | 0.07286398 | 0.07286398 | 0.01606841 | 0 | sd_epsilon_B = 0.5 | B |\n\n",
            "text/latex": "A data.frame: 6 × 15\n\\begin{tabular}{r|lllllllllllllll}\n  & Var2 & C & C\\_1 & C\\_2 & L\\_s & L\\_1\\_s & L\\_2\\_s & K\\_s & K\\_1\\_s & I & I\\_1 & Y & A & Case & ShockType\\\\\n  & <fct> & <dbl> & <dbl> & <dbl> & <dbl> & <dbl> & <dbl> & <dbl> & <dbl> & <dbl> & <dbl> & <dbl> & <dbl> & <chr> & <chr>\\\\\n\\hline\n\t1 & 1 & -0.0182340466 & -0.028169949 & -0.0069864734 & 0.01996135 & 0.04485143 & 0 & 0.007013843 & 0.007013843 & 0.11689738 & 0.11689738 & 0.01297488 & 0 & sd\\_epsilon\\_B = 0.5 & B\\\\\n\t2 & 2 & -0.0137343570 & -0.022556005 & -0.0037481351 & 0.01772280 & 0.03982160 & 0 & 0.012967584 & 0.012967584 & 0.10624285 & 0.10624285 & 0.01397467 & 0 & sd\\_epsilon\\_B = 0.5 & B\\\\\n\t3 & 3 & -0.0098225564 & -0.017648115 & -0.0009639211 & 0.01572164 & 0.03532518 & 0 & 0.017985980 & 0.017985980 & 0.09660752 & 0.09660752 & 0.01475772 & 0 & sd\\_epsilon\\_B = 0.5 & B\\\\\n\t4 & 4 & -0.0064325446 & -0.013367953 &  0.0014184299 & 0.01393332 & 0.03130697 & 0 & 0.022180294 & 0.022180294 & 0.08789122 & 0.08789122 & 0.01535175 & 0 & sd\\_epsilon\\_B = 0.5 & B\\\\\n\t5 & 5 & -0.0035052389 & -0.009645464 &  0.0034455769 & 0.01233579 & 0.02771745 & 0 & 0.025649703 & 0.025649703 & 0.08000377 & 0.08000377 & 0.01578137 & 0 & sd\\_epsilon\\_B = 0.5 & B\\\\\n\t6 & 6 & -0.0009878481 & -0.006418003 &  0.0051591589 & 0.01090925 & 0.02451214 & 0 & 0.028482559 & 0.028482559 & 0.07286398 & 0.07286398 & 0.01606841 & 0 & sd\\_epsilon\\_B = 0.5 & B\\\\\n\\end{tabular}\n",
            "text/plain": [
              "  Var2 C             C_1          C_2           L_s        L_1_s      L_2_s\n",
              "1 1    -0.0182340466 -0.028169949 -0.0069864734 0.01996135 0.04485143 0    \n",
              "2 2    -0.0137343570 -0.022556005 -0.0037481351 0.01772280 0.03982160 0    \n",
              "3 3    -0.0098225564 -0.017648115 -0.0009639211 0.01572164 0.03532518 0    \n",
              "4 4    -0.0064325446 -0.013367953  0.0014184299 0.01393332 0.03130697 0    \n",
              "5 5    -0.0035052389 -0.009645464  0.0034455769 0.01233579 0.02771745 0    \n",
              "6 6    -0.0009878481 -0.006418003  0.0051591589 0.01090925 0.02451214 0    \n",
              "  K_s         K_1_s       I          I_1        Y          A Case              \n",
              "1 0.007013843 0.007013843 0.11689738 0.11689738 0.01297488 0 sd_epsilon_B = 0.5\n",
              "2 0.012967584 0.012967584 0.10624285 0.10624285 0.01397467 0 sd_epsilon_B = 0.5\n",
              "3 0.017985980 0.017985980 0.09660752 0.09660752 0.01475772 0 sd_epsilon_B = 0.5\n",
              "4 0.022180294 0.022180294 0.08789122 0.08789122 0.01535175 0 sd_epsilon_B = 0.5\n",
              "5 0.025649703 0.025649703 0.08000377 0.08000377 0.01578137 0 sd_epsilon_B = 0.5\n",
              "6 0.028482559 0.028482559 0.07286398 0.07286398 0.01606841 0 sd_epsilon_B = 0.5\n",
              "  ShockType\n",
              "1 B        \n",
              "2 B        \n",
              "3 B        \n",
              "4 B        \n",
              "5 B        \n",
              "6 B        "
            ]
          },
          "metadata": {}
        }
      ]
    },
    {
      "cell_type": "code",
      "source": [
        "#print simulation\n",
        " out_all<-rbind(out_all,out_allB)\n",
        " write.csv(out_all,\"out_sentivity_TFP.csv\",row.names=FALSE)"
      ],
      "metadata": {
        "id": "mBnCsHrdlxYX"
      },
      "execution_count": 27,
      "outputs": []
    },
    {
      "cell_type": "code",
      "source": [
        "#simulate the behavior of the economy using random path for shocks\n",
        "#create a model from gcc.file\n",
        "  gcn.file<-\"nRa_chapter4.gcn\"\n",
        "  model <- make_model(gcn.file)"
      ],
      "metadata": {
        "colab": {
          "base_uri": "https://localhost:8080/"
        },
        "id": "YgHMdXvsl260",
        "outputId": "6b339083-5936-4604-9ac6-9ddd084ac4f3"
      },
      "execution_count": 28,
      "outputs": [
        {
          "output_type": "stream",
          "name": "stdout",
          "text": [
            "model parsed in 0.01s\n",
            "model loaded in 0.01s\n"
          ]
        }
      ]
    },
    {
      "cell_type": "code",
      "source": [
        "#set initial conditions\n",
        "  model <- initval_var(model, list(C = 0.8,\n",
        "                                    C_1=0.8,\n",
        "                                    C_2 = 0.2,\n",
        "                                    L_s = 0.3,\n",
        "                                    L_1_s = 0.3,\n",
        "                                    L_2_s = 0.3,\n",
        "                                    K_s = 3.5,\n",
        "                                    K_1_s = 4.0,\n",
        "                                    I = 0.2,\n",
        "                                    I_1 = 0.3,\n",
        "                                    Y = 1.0,\n",
        "                                    A = 1.0,\n",
        "                                    W=(1-0.350)*(1.0/0.3),\n",
        "                                    r=(0.350)*(1.0/3.5),\n",
        "                                    pi=1.0,\n",
        "                                    PI=1.0 ,\n",
        "                                    U_1 = 1.0,\n",
        "                                    U_2 = 2.0 ))\n",
        "\n",
        "#define steady state\n",
        " model <- steady_state(model)\n",
        "\n",
        "#Solving for dynamics\n",
        " model <- solve_pert(model)\n",
        "\n",
        "#Introducing shocks\n",
        "  model <- set_shock_distr_par(model = model, distr_par = list(\"sd(epsilon_A)\" = 0.01))\n",
        "\n",
        "#Compute random path\n",
        "  model_rp <- random_path(model = model, variables = c('C','C_1','C_2','L_s','L_1_s','L_2_s','K_s','K_1_s','I','I_1','Y','A'), sim_length = 40)\n"
      ],
      "metadata": {
        "colab": {
          "base_uri": "https://localhost:8080/"
        },
        "id": "s8juG1dAl6en",
        "outputId": "9954df3a-f2ab-44eb-9e5b-e3fd85424299"
      },
      "execution_count": 29,
      "outputs": [
        {
          "output_type": "stream",
          "name": "stdout",
          "text": [
            "Steady state has been FOUND\n"
          ]
        },
        {
          "output_type": "stream",
          "name": "stderr",
          "text": [
            "Warning message:\n",
            "“the following variables will not be log-linearised as their steady-state values are equal or close to zero: \"pi\", \"PI\"”\n"
          ]
        },
        {
          "output_type": "stream",
          "name": "stdout",
          "text": [
            "Model has been SOLVED\n"
          ]
        }
      ]
    },
    {
      "cell_type": "code",
      "source": [
        "#extract values of random path simulation\n",
        "  out <- as.data.frame.table(model_rp@sim)\n",
        "  out<-dcast(out,Var2  ~ Var1 , value.var=\"Freq\")\n",
        "  out$Case<-paste0(\"sd_epsilon_A = \",0.01)\n",
        "  write.csv(out,\"out_random_path.csv\",row.names=FALSE)"
      ],
      "metadata": {
        "id": "GXQy3ey3mCOO"
      },
      "execution_count": 30,
      "outputs": []
    },
    {
      "cell_type": "code",
      "source": [
        "head(out)\n",
        "tail(out)"
      ],
      "metadata": {
        "colab": {
          "base_uri": "https://localhost:8080/",
          "height": 784
        },
        "id": "gLELD9xwmJou",
        "outputId": "2befd575-0bab-4e14-ab31-7bc19f0b67f4"
      },
      "execution_count": 31,
      "outputs": [
        {
          "output_type": "display_data",
          "data": {
            "text/html": [
              "<table class=\"dataframe\">\n",
              "<caption>A data.frame: 6 × 14</caption>\n",
              "<thead>\n",
              "\t<tr><th></th><th scope=col>Var2</th><th scope=col>C</th><th scope=col>C_1</th><th scope=col>C_2</th><th scope=col>L_s</th><th scope=col>L_1_s</th><th scope=col>L_2_s</th><th scope=col>K_s</th><th scope=col>K_1_s</th><th scope=col>I</th><th scope=col>I_1</th><th scope=col>Y</th><th scope=col>A</th><th scope=col>Case</th></tr>\n",
              "\t<tr><th></th><th scope=col>&lt;fct&gt;</th><th scope=col>&lt;dbl&gt;</th><th scope=col>&lt;dbl&gt;</th><th scope=col>&lt;dbl&gt;</th><th scope=col>&lt;dbl&gt;</th><th scope=col>&lt;dbl&gt;</th><th scope=col>&lt;dbl&gt;</th><th scope=col>&lt;dbl&gt;</th><th scope=col>&lt;dbl&gt;</th><th scope=col>&lt;dbl&gt;</th><th scope=col>&lt;dbl&gt;</th><th scope=col>&lt;dbl&gt;</th><th scope=col>&lt;dbl&gt;</th><th scope=col>&lt;chr&gt;</th></tr>\n",
              "</thead>\n",
              "<tbody>\n",
              "\t<tr><th scope=row>1</th><td>1</td><td>-0.001400567</td><td>-0.001003990</td><td>-0.0018494974</td><td>-0.0007967282</td><td>-0.001790179</td><td>0</td><td>-0.0004076484</td><td>-0.0004076484</td><td>-0.00679414</td><td>-0.00679414</td><td>-0.002646226</td><td>-0.002128352</td><td>sd_epsilon_A = 0.01</td></tr>\n",
              "\t<tr><th scope=row>2</th><td>2</td><td>-0.011630443</td><td>-0.008432164</td><td>-0.0152509370</td><td>-0.0064253820</td><td>-0.014437278</td><td>0</td><td>-0.0036908725</td><td>-0.0036908725</td><td>-0.05512805</td><td>-0.05512805</td><td>-0.021676319</td><td>-0.017357144</td><td>sd_epsilon_A = 0.01</td></tr>\n",
              "\t<tr><th scope=row>3</th><td>3</td><td>-0.009917348</td><td>-0.007968752</td><td>-0.0121231847</td><td>-0.0039147541</td><td>-0.008796114</td><td>0</td><td>-0.0056545527</td><td>-0.0056545527</td><td>-0.03641887</td><td>-0.03641887</td><td>-0.016037939</td><td>-0.012201543</td><td>sd_epsilon_A = 0.01</td></tr>\n",
              "\t<tr><th scope=row>4</th><td>4</td><td>-0.009252288</td><td>-0.007949317</td><td>-0.0107272677</td><td>-0.0026176844</td><td>-0.005881711</td><td>0</td><td>-0.0069336657</td><td>-0.0069336657</td><td>-0.02697310</td><td>-0.02697310</td><td>-0.013344952</td><td>-0.009664364</td><td>sd_epsilon_A = 0.01</td></tr>\n",
              "\t<tr><th scope=row>5</th><td>5</td><td>-0.001090651</td><td>-0.002396571</td><td> 0.0003876671</td><td> 0.0026236094</td><td> 0.005895023</td><td>0</td><td>-0.0055174293</td><td>-0.0055174293</td><td> 0.01667027</td><td> 0.01667027</td><td> 0.003011276</td><td> 0.003732713</td><td>sd_epsilon_A = 0.01</td></tr>\n",
              "\t<tr><th scope=row>6</th><td>6</td><td> 0.004015950</td><td> 0.001593891</td><td> 0.0067577515</td><td> 0.0048659451</td><td> 0.010933358</td><td>0</td><td>-0.0029689809</td><td>-0.0029689809</td><td> 0.03695671</td><td> 0.03695671</td><td> 0.011623697</td><td> 0.010391933</td><td>sd_epsilon_A = 0.01</td></tr>\n",
              "</tbody>\n",
              "</table>\n"
            ],
            "text/markdown": "\nA data.frame: 6 × 14\n\n| <!--/--> | Var2 &lt;fct&gt; | C &lt;dbl&gt; | C_1 &lt;dbl&gt; | C_2 &lt;dbl&gt; | L_s &lt;dbl&gt; | L_1_s &lt;dbl&gt; | L_2_s &lt;dbl&gt; | K_s &lt;dbl&gt; | K_1_s &lt;dbl&gt; | I &lt;dbl&gt; | I_1 &lt;dbl&gt; | Y &lt;dbl&gt; | A &lt;dbl&gt; | Case &lt;chr&gt; |\n|---|---|---|---|---|---|---|---|---|---|---|---|---|---|---|\n| 1 | 1 | -0.001400567 | -0.001003990 | -0.0018494974 | -0.0007967282 | -0.001790179 | 0 | -0.0004076484 | -0.0004076484 | -0.00679414 | -0.00679414 | -0.002646226 | -0.002128352 | sd_epsilon_A = 0.01 |\n| 2 | 2 | -0.011630443 | -0.008432164 | -0.0152509370 | -0.0064253820 | -0.014437278 | 0 | -0.0036908725 | -0.0036908725 | -0.05512805 | -0.05512805 | -0.021676319 | -0.017357144 | sd_epsilon_A = 0.01 |\n| 3 | 3 | -0.009917348 | -0.007968752 | -0.0121231847 | -0.0039147541 | -0.008796114 | 0 | -0.0056545527 | -0.0056545527 | -0.03641887 | -0.03641887 | -0.016037939 | -0.012201543 | sd_epsilon_A = 0.01 |\n| 4 | 4 | -0.009252288 | -0.007949317 | -0.0107272677 | -0.0026176844 | -0.005881711 | 0 | -0.0069336657 | -0.0069336657 | -0.02697310 | -0.02697310 | -0.013344952 | -0.009664364 | sd_epsilon_A = 0.01 |\n| 5 | 5 | -0.001090651 | -0.002396571 |  0.0003876671 |  0.0026236094 |  0.005895023 | 0 | -0.0055174293 | -0.0055174293 |  0.01667027 |  0.01667027 |  0.003011276 |  0.003732713 | sd_epsilon_A = 0.01 |\n| 6 | 6 |  0.004015950 |  0.001593891 |  0.0067577515 |  0.0048659451 |  0.010933358 | 0 | -0.0029689809 | -0.0029689809 |  0.03695671 |  0.03695671 |  0.011623697 |  0.010391933 | sd_epsilon_A = 0.01 |\n\n",
            "text/latex": "A data.frame: 6 × 14\n\\begin{tabular}{r|llllllllllllll}\n  & Var2 & C & C\\_1 & C\\_2 & L\\_s & L\\_1\\_s & L\\_2\\_s & K\\_s & K\\_1\\_s & I & I\\_1 & Y & A & Case\\\\\n  & <fct> & <dbl> & <dbl> & <dbl> & <dbl> & <dbl> & <dbl> & <dbl> & <dbl> & <dbl> & <dbl> & <dbl> & <dbl> & <chr>\\\\\n\\hline\n\t1 & 1 & -0.001400567 & -0.001003990 & -0.0018494974 & -0.0007967282 & -0.001790179 & 0 & -0.0004076484 & -0.0004076484 & -0.00679414 & -0.00679414 & -0.002646226 & -0.002128352 & sd\\_epsilon\\_A = 0.01\\\\\n\t2 & 2 & -0.011630443 & -0.008432164 & -0.0152509370 & -0.0064253820 & -0.014437278 & 0 & -0.0036908725 & -0.0036908725 & -0.05512805 & -0.05512805 & -0.021676319 & -0.017357144 & sd\\_epsilon\\_A = 0.01\\\\\n\t3 & 3 & -0.009917348 & -0.007968752 & -0.0121231847 & -0.0039147541 & -0.008796114 & 0 & -0.0056545527 & -0.0056545527 & -0.03641887 & -0.03641887 & -0.016037939 & -0.012201543 & sd\\_epsilon\\_A = 0.01\\\\\n\t4 & 4 & -0.009252288 & -0.007949317 & -0.0107272677 & -0.0026176844 & -0.005881711 & 0 & -0.0069336657 & -0.0069336657 & -0.02697310 & -0.02697310 & -0.013344952 & -0.009664364 & sd\\_epsilon\\_A = 0.01\\\\\n\t5 & 5 & -0.001090651 & -0.002396571 &  0.0003876671 &  0.0026236094 &  0.005895023 & 0 & -0.0055174293 & -0.0055174293 &  0.01667027 &  0.01667027 &  0.003011276 &  0.003732713 & sd\\_epsilon\\_A = 0.01\\\\\n\t6 & 6 &  0.004015950 &  0.001593891 &  0.0067577515 &  0.0048659451 &  0.010933358 & 0 & -0.0029689809 & -0.0029689809 &  0.03695671 &  0.03695671 &  0.011623697 &  0.010391933 & sd\\_epsilon\\_A = 0.01\\\\\n\\end{tabular}\n",
            "text/plain": [
              "  Var2 C            C_1          C_2           L_s           L_1_s        L_2_s\n",
              "1 1    -0.001400567 -0.001003990 -0.0018494974 -0.0007967282 -0.001790179 0    \n",
              "2 2    -0.011630443 -0.008432164 -0.0152509370 -0.0064253820 -0.014437278 0    \n",
              "3 3    -0.009917348 -0.007968752 -0.0121231847 -0.0039147541 -0.008796114 0    \n",
              "4 4    -0.009252288 -0.007949317 -0.0107272677 -0.0026176844 -0.005881711 0    \n",
              "5 5    -0.001090651 -0.002396571  0.0003876671  0.0026236094  0.005895023 0    \n",
              "6 6     0.004015950  0.001593891  0.0067577515  0.0048659451  0.010933358 0    \n",
              "  K_s           K_1_s         I           I_1         Y            A           \n",
              "1 -0.0004076484 -0.0004076484 -0.00679414 -0.00679414 -0.002646226 -0.002128352\n",
              "2 -0.0036908725 -0.0036908725 -0.05512805 -0.05512805 -0.021676319 -0.017357144\n",
              "3 -0.0056545527 -0.0056545527 -0.03641887 -0.03641887 -0.016037939 -0.012201543\n",
              "4 -0.0069336657 -0.0069336657 -0.02697310 -0.02697310 -0.013344952 -0.009664364\n",
              "5 -0.0055174293 -0.0055174293  0.01667027  0.01667027  0.003011276  0.003732713\n",
              "6 -0.0029689809 -0.0029689809  0.03695671  0.03695671  0.011623697  0.010391933\n",
              "  Case               \n",
              "1 sd_epsilon_A = 0.01\n",
              "2 sd_epsilon_A = 0.01\n",
              "3 sd_epsilon_A = 0.01\n",
              "4 sd_epsilon_A = 0.01\n",
              "5 sd_epsilon_A = 0.01\n",
              "6 sd_epsilon_A = 0.01"
            ]
          },
          "metadata": {}
        },
        {
          "output_type": "display_data",
          "data": {
            "text/html": [
              "<table class=\"dataframe\">\n",
              "<caption>A data.frame: 6 × 14</caption>\n",
              "<thead>\n",
              "\t<tr><th></th><th scope=col>Var2</th><th scope=col>C</th><th scope=col>C_1</th><th scope=col>C_2</th><th scope=col>L_s</th><th scope=col>L_1_s</th><th scope=col>L_2_s</th><th scope=col>K_s</th><th scope=col>K_1_s</th><th scope=col>I</th><th scope=col>I_1</th><th scope=col>Y</th><th scope=col>A</th><th scope=col>Case</th></tr>\n",
              "\t<tr><th></th><th scope=col>&lt;fct&gt;</th><th scope=col>&lt;dbl&gt;</th><th scope=col>&lt;dbl&gt;</th><th scope=col>&lt;dbl&gt;</th><th scope=col>&lt;dbl&gt;</th><th scope=col>&lt;dbl&gt;</th><th scope=col>&lt;dbl&gt;</th><th scope=col>&lt;dbl&gt;</th><th scope=col>&lt;dbl&gt;</th><th scope=col>&lt;dbl&gt;</th><th scope=col>&lt;dbl&gt;</th><th scope=col>&lt;dbl&gt;</th><th scope=col>&lt;dbl&gt;</th><th scope=col>&lt;chr&gt;</th></tr>\n",
              "</thead>\n",
              "<tbody>\n",
              "\t<tr><th scope=row>35</th><td>35</td><td>-0.08522151</td><td>-0.08466010</td><td>-0.08585703</td><td>-0.001127875</td><td>-0.002534237</td><td>0</td><td>-0.1007057</td><td>-0.1007057</td><td>-0.09285683</td><td>-0.09285683</td><td>-0.08698490</td><td>-0.05082945</td><td>sd_epsilon_A = 0.01</td></tr>\n",
              "\t<tr><th scope=row>36</th><td>36</td><td>-0.08740009</td><td>-0.08610514</td><td>-0.08886600</td><td>-0.002601585</td><td>-0.005845536</td><td>0</td><td>-0.1009640</td><td>-0.1009640</td><td>-0.10501192</td><td>-0.10501192</td><td>-0.09146759</td><td>-0.05452957</td><td>sd_epsilon_A = 0.01</td></tr>\n",
              "\t<tr><th scope=row>37</th><td>37</td><td>-0.08488037</td><td>-0.08435906</td><td>-0.08547050</td><td>-0.001047326</td><td>-0.002353250</td><td>0</td><td>-0.1004244</td><td>-0.1004244</td><td>-0.09197040</td><td>-0.09197040</td><td>-0.08651783</td><td>-0.05049965</td><td>sd_epsilon_A = 0.01</td></tr>\n",
              "\t<tr><th scope=row>38</th><td>38</td><td>-0.09423717</td><td>-0.09094077</td><td>-0.09796874</td><td>-0.006622517</td><td>-0.014880222</td><td>0</td><td>-0.1027431</td><td>-0.1027431</td><td>-0.13906931</td><td>-0.13906931</td><td>-0.10459126</td><td>-0.06513807</td><td>sd_epsilon_A = 0.01</td></tr>\n",
              "\t<tr><th scope=row>39</th><td>39</td><td>-0.09041996</td><td>-0.08874440</td><td>-0.09231671</td><td>-0.003366212</td><td>-0.007563588</td><td>0</td><td>-0.1033710</td><td>-0.1033710</td><td>-0.11320805</td><td>-0.11320805</td><td>-0.09568292</td><td>-0.05753479</td><td>sd_epsilon_A = 0.01</td></tr>\n",
              "\t<tr><th scope=row>40</th><td>40</td><td>-0.08093095</td><td>-0.08208848</td><td>-0.07962061</td><td> 0.002325492</td><td> 0.005225180</td><td>0</td><td>-0.1010800</td><td>-0.1010800</td><td>-0.06518817</td><td>-0.06518817</td><td>-0.07729511</td><td>-0.04262683</td><td>sd_epsilon_A = 0.01</td></tr>\n",
              "</tbody>\n",
              "</table>\n"
            ],
            "text/markdown": "\nA data.frame: 6 × 14\n\n| <!--/--> | Var2 &lt;fct&gt; | C &lt;dbl&gt; | C_1 &lt;dbl&gt; | C_2 &lt;dbl&gt; | L_s &lt;dbl&gt; | L_1_s &lt;dbl&gt; | L_2_s &lt;dbl&gt; | K_s &lt;dbl&gt; | K_1_s &lt;dbl&gt; | I &lt;dbl&gt; | I_1 &lt;dbl&gt; | Y &lt;dbl&gt; | A &lt;dbl&gt; | Case &lt;chr&gt; |\n|---|---|---|---|---|---|---|---|---|---|---|---|---|---|---|\n| 35 | 35 | -0.08522151 | -0.08466010 | -0.08585703 | -0.001127875 | -0.002534237 | 0 | -0.1007057 | -0.1007057 | -0.09285683 | -0.09285683 | -0.08698490 | -0.05082945 | sd_epsilon_A = 0.01 |\n| 36 | 36 | -0.08740009 | -0.08610514 | -0.08886600 | -0.002601585 | -0.005845536 | 0 | -0.1009640 | -0.1009640 | -0.10501192 | -0.10501192 | -0.09146759 | -0.05452957 | sd_epsilon_A = 0.01 |\n| 37 | 37 | -0.08488037 | -0.08435906 | -0.08547050 | -0.001047326 | -0.002353250 | 0 | -0.1004244 | -0.1004244 | -0.09197040 | -0.09197040 | -0.08651783 | -0.05049965 | sd_epsilon_A = 0.01 |\n| 38 | 38 | -0.09423717 | -0.09094077 | -0.09796874 | -0.006622517 | -0.014880222 | 0 | -0.1027431 | -0.1027431 | -0.13906931 | -0.13906931 | -0.10459126 | -0.06513807 | sd_epsilon_A = 0.01 |\n| 39 | 39 | -0.09041996 | -0.08874440 | -0.09231671 | -0.003366212 | -0.007563588 | 0 | -0.1033710 | -0.1033710 | -0.11320805 | -0.11320805 | -0.09568292 | -0.05753479 | sd_epsilon_A = 0.01 |\n| 40 | 40 | -0.08093095 | -0.08208848 | -0.07962061 |  0.002325492 |  0.005225180 | 0 | -0.1010800 | -0.1010800 | -0.06518817 | -0.06518817 | -0.07729511 | -0.04262683 | sd_epsilon_A = 0.01 |\n\n",
            "text/latex": "A data.frame: 6 × 14\n\\begin{tabular}{r|llllllllllllll}\n  & Var2 & C & C\\_1 & C\\_2 & L\\_s & L\\_1\\_s & L\\_2\\_s & K\\_s & K\\_1\\_s & I & I\\_1 & Y & A & Case\\\\\n  & <fct> & <dbl> & <dbl> & <dbl> & <dbl> & <dbl> & <dbl> & <dbl> & <dbl> & <dbl> & <dbl> & <dbl> & <dbl> & <chr>\\\\\n\\hline\n\t35 & 35 & -0.08522151 & -0.08466010 & -0.08585703 & -0.001127875 & -0.002534237 & 0 & -0.1007057 & -0.1007057 & -0.09285683 & -0.09285683 & -0.08698490 & -0.05082945 & sd\\_epsilon\\_A = 0.01\\\\\n\t36 & 36 & -0.08740009 & -0.08610514 & -0.08886600 & -0.002601585 & -0.005845536 & 0 & -0.1009640 & -0.1009640 & -0.10501192 & -0.10501192 & -0.09146759 & -0.05452957 & sd\\_epsilon\\_A = 0.01\\\\\n\t37 & 37 & -0.08488037 & -0.08435906 & -0.08547050 & -0.001047326 & -0.002353250 & 0 & -0.1004244 & -0.1004244 & -0.09197040 & -0.09197040 & -0.08651783 & -0.05049965 & sd\\_epsilon\\_A = 0.01\\\\\n\t38 & 38 & -0.09423717 & -0.09094077 & -0.09796874 & -0.006622517 & -0.014880222 & 0 & -0.1027431 & -0.1027431 & -0.13906931 & -0.13906931 & -0.10459126 & -0.06513807 & sd\\_epsilon\\_A = 0.01\\\\\n\t39 & 39 & -0.09041996 & -0.08874440 & -0.09231671 & -0.003366212 & -0.007563588 & 0 & -0.1033710 & -0.1033710 & -0.11320805 & -0.11320805 & -0.09568292 & -0.05753479 & sd\\_epsilon\\_A = 0.01\\\\\n\t40 & 40 & -0.08093095 & -0.08208848 & -0.07962061 &  0.002325492 &  0.005225180 & 0 & -0.1010800 & -0.1010800 & -0.06518817 & -0.06518817 & -0.07729511 & -0.04262683 & sd\\_epsilon\\_A = 0.01\\\\\n\\end{tabular}\n",
            "text/plain": [
              "   Var2 C           C_1         C_2         L_s          L_1_s        L_2_s\n",
              "35 35   -0.08522151 -0.08466010 -0.08585703 -0.001127875 -0.002534237 0    \n",
              "36 36   -0.08740009 -0.08610514 -0.08886600 -0.002601585 -0.005845536 0    \n",
              "37 37   -0.08488037 -0.08435906 -0.08547050 -0.001047326 -0.002353250 0    \n",
              "38 38   -0.09423717 -0.09094077 -0.09796874 -0.006622517 -0.014880222 0    \n",
              "39 39   -0.09041996 -0.08874440 -0.09231671 -0.003366212 -0.007563588 0    \n",
              "40 40   -0.08093095 -0.08208848 -0.07962061  0.002325492  0.005225180 0    \n",
              "   K_s        K_1_s      I           I_1         Y           A          \n",
              "35 -0.1007057 -0.1007057 -0.09285683 -0.09285683 -0.08698490 -0.05082945\n",
              "36 -0.1009640 -0.1009640 -0.10501192 -0.10501192 -0.09146759 -0.05452957\n",
              "37 -0.1004244 -0.1004244 -0.09197040 -0.09197040 -0.08651783 -0.05049965\n",
              "38 -0.1027431 -0.1027431 -0.13906931 -0.13906931 -0.10459126 -0.06513807\n",
              "39 -0.1033710 -0.1033710 -0.11320805 -0.11320805 -0.09568292 -0.05753479\n",
              "40 -0.1010800 -0.1010800 -0.06518817 -0.06518817 -0.07729511 -0.04262683\n",
              "   Case               \n",
              "35 sd_epsilon_A = 0.01\n",
              "36 sd_epsilon_A = 0.01\n",
              "37 sd_epsilon_A = 0.01\n",
              "38 sd_epsilon_A = 0.01\n",
              "39 sd_epsilon_A = 0.01\n",
              "40 sd_epsilon_A = 0.01"
            ]
          },
          "metadata": {}
        }
      ]
    }
  ]
}